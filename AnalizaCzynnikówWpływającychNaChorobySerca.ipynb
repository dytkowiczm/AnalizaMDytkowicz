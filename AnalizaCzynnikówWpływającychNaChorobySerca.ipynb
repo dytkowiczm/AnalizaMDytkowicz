{
 "cells": [
  {
   "cell_type": "markdown",
   "metadata": {},
   "source": [
    "# ANALIZA CZYNNIKÓW WPŁYWAJĄCYCH NA WYSTĄPIENIE CHORÓB SERCA"
   ]
  },
  {
   "cell_type": "markdown",
   "metadata": {},
   "source": [
    "##    Wstęp"
   ]
  },
  {
   "cell_type": "markdown",
   "metadata": {},
   "source": [
    "   ###### „To zdrowie jest prawdziwym bogactwem, a nie kawałki złota czy srebra.” – Mahatma Gandhi\n",
    "\n",
    "\n",
    "\n",
    "\n",
    "Analizie został poddany jeden ze zbiorów danych dotyczący czynników mogących mieć wpływ na choroby serca ze strony https://archive.ics.uci.edu/ml/datasets/Heart+Disease. Zbiór danych składa się z 14 atrybutów.\n",
    "\n",
    "Atrybuty wraz z opisem zostały zamieszczone w tabeli poniżej:\n",
    "\n",
    "| Nazwa atrybutu | Opis |\n",
    "|---|---|\n",
    "| age | wiek w latach | \n",
    "| sex | płeć (1 = mężczyzna, 0 = kobieta) | \n",
    "| cp | rodzaj bólu w klatce piersiowej | \n",
    "| trestbps | spoczynkowe ciśnienie krwi | \n",
    "| chol | surowica cholesterol | \n",
    "| fbs | poziom cukru we krwi na czczo (1 = prawda, 0 = fałsz) | \n",
    "| restecg | spoczynkowe wyniki elektrokardiograficzne | \n",
    "| thalach | osiągnięte maksymalne tętno | \n",
    "| exang | dławica wysiłkowa (1 = tak, 0 = nie) | \n",
    "| oldpeak | obniżenie odcinka ST wywołane wysiłkiem fizycznym |\n",
    "| slope | nachylenie szczytowego odcinka ST wysiłkowego (0 = wznoszenie, 1 = płasko, 2 = opadanie) |\n",
    "| ca | liczba głównych naczyń (0-3) |\n",
    "| thal | talasemia (0 = brak, 1 = normalny, 2 = naprawiona wada, 3 = odwracalna wada) |\n",
    "| target | choroby serca (0 = nie, 1 = tak) |\n"
   ]
  },
  {
   "cell_type": "markdown",
   "metadata": {},
   "source": [
    "## Przegląd danych"
   ]
  },
  {
   "cell_type": "markdown",
   "metadata": {},
   "source": [
    "1. Importowanie bibliotek."
   ]
  },
  {
   "cell_type": "code",
   "execution_count": 3,
   "metadata": {},
   "outputs": [
    {
     "data": {
      "text/html": [
       "        <script type=\"text/javascript\">\n",
       "        window.PlotlyConfig = {MathJaxConfig: 'local'};\n",
       "        if (window.MathJax) {MathJax.Hub.Config({SVG: {font: \"STIX-Web\"}});}\n",
       "        if (typeof require !== 'undefined') {\n",
       "        require.undef(\"plotly\");\n",
       "        requirejs.config({\n",
       "            paths: {\n",
       "                'plotly': ['https://cdn.plot.ly/plotly-latest.min']\n",
       "            }\n",
       "        });\n",
       "        require(['plotly'], function(Plotly) {\n",
       "            window._Plotly = Plotly;\n",
       "        });\n",
       "        }\n",
       "        </script>\n",
       "        "
      ]
     },
     "metadata": {},
     "output_type": "display_data"
    }
   ],
   "source": [
    "# podstawowe operacje\n",
    "import numpy as np\n",
    "import pandas as pd\n",
    "import pandas_profiling\n",
    "\n",
    "# wizualizacja danych\n",
    "import matplotlib.pyplot as plt\n",
    "import seaborn as sns\n",
    "\n",
    "# zaawansowane wizualizacje \n",
    "import plotly.offline as py\n",
    "from plotly.offline import init_notebook_mode, iplot\n",
    "import plotly.graph_objs as go\n",
    "init_notebook_mode(connected = True)\n",
    "from bubbly.bubbly import bubbleplot\n"
   ]
  },
  {
   "cell_type": "markdown",
   "metadata": {},
   "source": [
    "2. Załadowanie zbioru danych Heart."
   ]
  },
  {
   "cell_type": "code",
   "execution_count": 7,
   "metadata": {},
   "outputs": [
    {
     "data": {
      "text/plain": [
       "(303, 14)"
      ]
     },
     "execution_count": 7,
     "metadata": {},
     "output_type": "execute_result"
    }
   ],
   "source": [
    "# odczyt danych\n",
    "data = pd.read_csv(\"C:/Users/Laptop/Documents/heart.csv\")\n",
    "\n",
    "# model danych\n",
    "data.shape"
   ]
  },
  {
   "cell_type": "markdown",
   "metadata": {},
   "source": [
    "3. Wyświetlenie nazw kolumn."
   ]
  },
  {
   "cell_type": "code",
   "execution_count": 12,
   "metadata": {},
   "outputs": [
    {
     "name": "stdout",
     "output_type": "stream",
     "text": [
      "['age', 'sex', 'cp', 'trestbps', 'chol', 'fbs', 'restecg', 'thalach', 'exang', 'oldpeak', 'slope', 'ca', 'thal', 'target']\n"
     ]
    }
   ],
   "source": [
    "# weryfikacja kolumn \n",
    "columns = data.columns.tolist()\n",
    "print(columns)"
   ]
  },
  {
   "cell_type": "markdown",
   "metadata": {},
   "source": [
    "4. Wykonanie funkcji head(), która wyświetla 5 pierwszych wierszy ze zbioru danych."
   ]
  },
  {
   "cell_type": "code",
   "execution_count": 8,
   "metadata": {},
   "outputs": [
    {
     "data": {
      "text/html": [
       "<div>\n",
       "<style scoped>\n",
       "    .dataframe tbody tr th:only-of-type {\n",
       "        vertical-align: middle;\n",
       "    }\n",
       "\n",
       "    .dataframe tbody tr th {\n",
       "        vertical-align: top;\n",
       "    }\n",
       "\n",
       "    .dataframe thead th {\n",
       "        text-align: right;\n",
       "    }\n",
       "</style>\n",
       "<table border=\"1\" class=\"dataframe\">\n",
       "  <thead>\n",
       "    <tr style=\"text-align: right;\">\n",
       "      <th></th>\n",
       "      <th>age</th>\n",
       "      <th>sex</th>\n",
       "      <th>cp</th>\n",
       "      <th>trestbps</th>\n",
       "      <th>chol</th>\n",
       "      <th>fbs</th>\n",
       "      <th>restecg</th>\n",
       "      <th>thalach</th>\n",
       "      <th>exang</th>\n",
       "      <th>oldpeak</th>\n",
       "      <th>slope</th>\n",
       "      <th>ca</th>\n",
       "      <th>thal</th>\n",
       "      <th>target</th>\n",
       "    </tr>\n",
       "  </thead>\n",
       "  <tbody>\n",
       "    <tr>\n",
       "      <th>0</th>\n",
       "      <td>63</td>\n",
       "      <td>1</td>\n",
       "      <td>3</td>\n",
       "      <td>145</td>\n",
       "      <td>233</td>\n",
       "      <td>1</td>\n",
       "      <td>0</td>\n",
       "      <td>150</td>\n",
       "      <td>0</td>\n",
       "      <td>2.3</td>\n",
       "      <td>0</td>\n",
       "      <td>0</td>\n",
       "      <td>1</td>\n",
       "      <td>1</td>\n",
       "    </tr>\n",
       "    <tr>\n",
       "      <th>1</th>\n",
       "      <td>37</td>\n",
       "      <td>1</td>\n",
       "      <td>2</td>\n",
       "      <td>130</td>\n",
       "      <td>250</td>\n",
       "      <td>0</td>\n",
       "      <td>1</td>\n",
       "      <td>187</td>\n",
       "      <td>0</td>\n",
       "      <td>3.5</td>\n",
       "      <td>0</td>\n",
       "      <td>0</td>\n",
       "      <td>2</td>\n",
       "      <td>1</td>\n",
       "    </tr>\n",
       "    <tr>\n",
       "      <th>2</th>\n",
       "      <td>41</td>\n",
       "      <td>0</td>\n",
       "      <td>1</td>\n",
       "      <td>130</td>\n",
       "      <td>204</td>\n",
       "      <td>0</td>\n",
       "      <td>0</td>\n",
       "      <td>172</td>\n",
       "      <td>0</td>\n",
       "      <td>1.4</td>\n",
       "      <td>2</td>\n",
       "      <td>0</td>\n",
       "      <td>2</td>\n",
       "      <td>1</td>\n",
       "    </tr>\n",
       "    <tr>\n",
       "      <th>3</th>\n",
       "      <td>56</td>\n",
       "      <td>1</td>\n",
       "      <td>1</td>\n",
       "      <td>120</td>\n",
       "      <td>236</td>\n",
       "      <td>0</td>\n",
       "      <td>1</td>\n",
       "      <td>178</td>\n",
       "      <td>0</td>\n",
       "      <td>0.8</td>\n",
       "      <td>2</td>\n",
       "      <td>0</td>\n",
       "      <td>2</td>\n",
       "      <td>1</td>\n",
       "    </tr>\n",
       "    <tr>\n",
       "      <th>4</th>\n",
       "      <td>57</td>\n",
       "      <td>0</td>\n",
       "      <td>0</td>\n",
       "      <td>120</td>\n",
       "      <td>354</td>\n",
       "      <td>0</td>\n",
       "      <td>1</td>\n",
       "      <td>163</td>\n",
       "      <td>1</td>\n",
       "      <td>0.6</td>\n",
       "      <td>2</td>\n",
       "      <td>0</td>\n",
       "      <td>2</td>\n",
       "      <td>1</td>\n",
       "    </tr>\n",
       "  </tbody>\n",
       "</table>\n",
       "</div>"
      ],
      "text/plain": [
       "   age  sex  cp  trestbps  chol  fbs  restecg  thalach  exang  oldpeak  slope  \\\n",
       "0   63    1   3       145   233    1        0      150      0      2.3      0   \n",
       "1   37    1   2       130   250    0        1      187      0      3.5      0   \n",
       "2   41    0   1       130   204    0        0      172      0      1.4      2   \n",
       "3   56    1   1       120   236    0        1      178      0      0.8      2   \n",
       "4   57    0   0       120   354    0        1      163      1      0.6      2   \n",
       "\n",
       "   ca  thal  target  \n",
       "0   0     1       1  \n",
       "1   0     2       1  \n",
       "2   0     2       1  \n",
       "3   0     2       1  \n",
       "4   0     2       1  "
      ]
     },
     "execution_count": 8,
     "metadata": {},
     "output_type": "execute_result"
    }
   ],
   "source": [
    "data.head()"
   ]
  },
  {
   "cell_type": "markdown",
   "metadata": {},
   "source": [
    "5. W celu zweryfikowania typów danych znajdujących się w każdej z kolumn, użyto polecenia dtypes. "
   ]
  },
  {
   "cell_type": "code",
   "execution_count": 13,
   "metadata": {},
   "outputs": [
    {
     "name": "stdout",
     "output_type": "stream",
     "text": [
      "age           int64\n",
      "sex           int64\n",
      "cp            int64\n",
      "trestbps      int64\n",
      "chol          int64\n",
      "fbs           int64\n",
      "restecg       int64\n",
      "thalach       int64\n",
      "exang         int64\n",
      "oldpeak     float64\n",
      "slope         int64\n",
      "ca            int64\n",
      "thal          int64\n",
      "target        int64\n",
      "dtype: object\n"
     ]
    }
   ],
   "source": [
    "# odczyt typów danych\n",
    "\n",
    "print(data.dtypes)"
   ]
  },
  {
   "cell_type": "markdown",
   "metadata": {},
   "source": [
    "6. Aby zweryfikować, które kolumny zawierają puste wartości i jaka jest ich liczba, skorzystano z metody isnull().sum()."
   ]
  },
  {
   "cell_type": "code",
   "execution_count": 14,
   "metadata": {},
   "outputs": [
    {
     "name": "stdout",
     "output_type": "stream",
     "text": [
      "age         0\n",
      "sex         0\n",
      "cp          0\n",
      "trestbps    0\n",
      "chol        0\n",
      "fbs         0\n",
      "restecg     0\n",
      "thalach     0\n",
      "exang       0\n",
      "oldpeak     0\n",
      "slope       0\n",
      "ca          0\n",
      "thal        0\n",
      "target      0\n",
      "dtype: int64\n"
     ]
    }
   ],
   "source": [
    "# weryfikacja pustych wartości\n",
    "\n",
    "print(data.isnull().sum())"
   ]
  },
  {
   "cell_type": "markdown",
   "metadata": {},
   "source": [
    "W wynikach możemy zaobserwować, że w zbiorze danych Heart nie ma wartości pustych."
   ]
  },
  {
   "cell_type": "markdown",
   "metadata": {},
   "source": [
    "7. Wyświetlenie opisu danych za pomocą polecenia describe()."
   ]
  },
  {
   "cell_type": "code",
   "execution_count": 9,
   "metadata": {},
   "outputs": [
    {
     "data": {
      "text/html": [
       "<div>\n",
       "<style scoped>\n",
       "    .dataframe tbody tr th:only-of-type {\n",
       "        vertical-align: middle;\n",
       "    }\n",
       "\n",
       "    .dataframe tbody tr th {\n",
       "        vertical-align: top;\n",
       "    }\n",
       "\n",
       "    .dataframe thead th {\n",
       "        text-align: right;\n",
       "    }\n",
       "</style>\n",
       "<table border=\"1\" class=\"dataframe\">\n",
       "  <thead>\n",
       "    <tr style=\"text-align: right;\">\n",
       "      <th></th>\n",
       "      <th>age</th>\n",
       "      <th>sex</th>\n",
       "      <th>cp</th>\n",
       "      <th>trestbps</th>\n",
       "      <th>chol</th>\n",
       "      <th>fbs</th>\n",
       "      <th>restecg</th>\n",
       "      <th>thalach</th>\n",
       "      <th>exang</th>\n",
       "      <th>oldpeak</th>\n",
       "      <th>slope</th>\n",
       "      <th>ca</th>\n",
       "      <th>thal</th>\n",
       "      <th>target</th>\n",
       "    </tr>\n",
       "  </thead>\n",
       "  <tbody>\n",
       "    <tr>\n",
       "      <th>count</th>\n",
       "      <td>303.000000</td>\n",
       "      <td>303.000000</td>\n",
       "      <td>303.000000</td>\n",
       "      <td>303.000000</td>\n",
       "      <td>303.000000</td>\n",
       "      <td>303.000000</td>\n",
       "      <td>303.000000</td>\n",
       "      <td>303.000000</td>\n",
       "      <td>303.000000</td>\n",
       "      <td>303.000000</td>\n",
       "      <td>303.000000</td>\n",
       "      <td>303.000000</td>\n",
       "      <td>303.000000</td>\n",
       "      <td>303.000000</td>\n",
       "    </tr>\n",
       "    <tr>\n",
       "      <th>mean</th>\n",
       "      <td>54.366337</td>\n",
       "      <td>0.683168</td>\n",
       "      <td>0.966997</td>\n",
       "      <td>131.623762</td>\n",
       "      <td>246.264026</td>\n",
       "      <td>0.148515</td>\n",
       "      <td>0.528053</td>\n",
       "      <td>149.646865</td>\n",
       "      <td>0.326733</td>\n",
       "      <td>1.039604</td>\n",
       "      <td>1.399340</td>\n",
       "      <td>0.729373</td>\n",
       "      <td>2.313531</td>\n",
       "      <td>0.544554</td>\n",
       "    </tr>\n",
       "    <tr>\n",
       "      <th>std</th>\n",
       "      <td>9.082101</td>\n",
       "      <td>0.466011</td>\n",
       "      <td>1.032052</td>\n",
       "      <td>17.538143</td>\n",
       "      <td>51.830751</td>\n",
       "      <td>0.356198</td>\n",
       "      <td>0.525860</td>\n",
       "      <td>22.905161</td>\n",
       "      <td>0.469794</td>\n",
       "      <td>1.161075</td>\n",
       "      <td>0.616226</td>\n",
       "      <td>1.022606</td>\n",
       "      <td>0.612277</td>\n",
       "      <td>0.498835</td>\n",
       "    </tr>\n",
       "    <tr>\n",
       "      <th>min</th>\n",
       "      <td>29.000000</td>\n",
       "      <td>0.000000</td>\n",
       "      <td>0.000000</td>\n",
       "      <td>94.000000</td>\n",
       "      <td>126.000000</td>\n",
       "      <td>0.000000</td>\n",
       "      <td>0.000000</td>\n",
       "      <td>71.000000</td>\n",
       "      <td>0.000000</td>\n",
       "      <td>0.000000</td>\n",
       "      <td>0.000000</td>\n",
       "      <td>0.000000</td>\n",
       "      <td>0.000000</td>\n",
       "      <td>0.000000</td>\n",
       "    </tr>\n",
       "    <tr>\n",
       "      <th>25%</th>\n",
       "      <td>47.500000</td>\n",
       "      <td>0.000000</td>\n",
       "      <td>0.000000</td>\n",
       "      <td>120.000000</td>\n",
       "      <td>211.000000</td>\n",
       "      <td>0.000000</td>\n",
       "      <td>0.000000</td>\n",
       "      <td>133.500000</td>\n",
       "      <td>0.000000</td>\n",
       "      <td>0.000000</td>\n",
       "      <td>1.000000</td>\n",
       "      <td>0.000000</td>\n",
       "      <td>2.000000</td>\n",
       "      <td>0.000000</td>\n",
       "    </tr>\n",
       "    <tr>\n",
       "      <th>50%</th>\n",
       "      <td>55.000000</td>\n",
       "      <td>1.000000</td>\n",
       "      <td>1.000000</td>\n",
       "      <td>130.000000</td>\n",
       "      <td>240.000000</td>\n",
       "      <td>0.000000</td>\n",
       "      <td>1.000000</td>\n",
       "      <td>153.000000</td>\n",
       "      <td>0.000000</td>\n",
       "      <td>0.800000</td>\n",
       "      <td>1.000000</td>\n",
       "      <td>0.000000</td>\n",
       "      <td>2.000000</td>\n",
       "      <td>1.000000</td>\n",
       "    </tr>\n",
       "    <tr>\n",
       "      <th>75%</th>\n",
       "      <td>61.000000</td>\n",
       "      <td>1.000000</td>\n",
       "      <td>2.000000</td>\n",
       "      <td>140.000000</td>\n",
       "      <td>274.500000</td>\n",
       "      <td>0.000000</td>\n",
       "      <td>1.000000</td>\n",
       "      <td>166.000000</td>\n",
       "      <td>1.000000</td>\n",
       "      <td>1.600000</td>\n",
       "      <td>2.000000</td>\n",
       "      <td>1.000000</td>\n",
       "      <td>3.000000</td>\n",
       "      <td>1.000000</td>\n",
       "    </tr>\n",
       "    <tr>\n",
       "      <th>max</th>\n",
       "      <td>77.000000</td>\n",
       "      <td>1.000000</td>\n",
       "      <td>3.000000</td>\n",
       "      <td>200.000000</td>\n",
       "      <td>564.000000</td>\n",
       "      <td>1.000000</td>\n",
       "      <td>2.000000</td>\n",
       "      <td>202.000000</td>\n",
       "      <td>1.000000</td>\n",
       "      <td>6.200000</td>\n",
       "      <td>2.000000</td>\n",
       "      <td>4.000000</td>\n",
       "      <td>3.000000</td>\n",
       "      <td>1.000000</td>\n",
       "    </tr>\n",
       "  </tbody>\n",
       "</table>\n",
       "</div>"
      ],
      "text/plain": [
       "              age         sex          cp    trestbps        chol         fbs  \\\n",
       "count  303.000000  303.000000  303.000000  303.000000  303.000000  303.000000   \n",
       "mean    54.366337    0.683168    0.966997  131.623762  246.264026    0.148515   \n",
       "std      9.082101    0.466011    1.032052   17.538143   51.830751    0.356198   \n",
       "min     29.000000    0.000000    0.000000   94.000000  126.000000    0.000000   \n",
       "25%     47.500000    0.000000    0.000000  120.000000  211.000000    0.000000   \n",
       "50%     55.000000    1.000000    1.000000  130.000000  240.000000    0.000000   \n",
       "75%     61.000000    1.000000    2.000000  140.000000  274.500000    0.000000   \n",
       "max     77.000000    1.000000    3.000000  200.000000  564.000000    1.000000   \n",
       "\n",
       "          restecg     thalach       exang     oldpeak       slope          ca  \\\n",
       "count  303.000000  303.000000  303.000000  303.000000  303.000000  303.000000   \n",
       "mean     0.528053  149.646865    0.326733    1.039604    1.399340    0.729373   \n",
       "std      0.525860   22.905161    0.469794    1.161075    0.616226    1.022606   \n",
       "min      0.000000   71.000000    0.000000    0.000000    0.000000    0.000000   \n",
       "25%      0.000000  133.500000    0.000000    0.000000    1.000000    0.000000   \n",
       "50%      1.000000  153.000000    0.000000    0.800000    1.000000    0.000000   \n",
       "75%      1.000000  166.000000    1.000000    1.600000    2.000000    1.000000   \n",
       "max      2.000000  202.000000    1.000000    6.200000    2.000000    4.000000   \n",
       "\n",
       "             thal      target  \n",
       "count  303.000000  303.000000  \n",
       "mean     2.313531    0.544554  \n",
       "std      0.612277    0.498835  \n",
       "min      0.000000    0.000000  \n",
       "25%      2.000000    0.000000  \n",
       "50%      2.000000    1.000000  \n",
       "75%      3.000000    1.000000  \n",
       "max      3.000000    1.000000  "
      ]
     },
     "execution_count": 9,
     "metadata": {},
     "output_type": "execute_result"
    }
   ],
   "source": [
    "# opis danych\n",
    "\n",
    "data.describe()"
   ]
  },
  {
   "cell_type": "markdown",
   "metadata": {},
   "source": [
    "W wyniku możemy zauważyć wyświetlone parametry takie jak: liczba, średnia, odchylenie standardowe, wartości minimalna i maksymalna oraz kwartyle."
   ]
  },
  {
   "cell_type": "markdown",
   "metadata": {},
   "source": [
    "8. Przejrzenie wartości we wszystkich kolumnach."
   ]
  },
  {
   "cell_type": "code",
   "execution_count": 15,
   "metadata": {},
   "outputs": [
    {
     "data": {
      "text/plain": [
       "array([63, 37, 41, 56, 57, 44, 52, 54, 48, 49, 64, 58, 50, 66, 43, 69, 59,\n",
       "       42, 61, 40, 71, 51, 65, 53, 46, 45, 39, 47, 62, 34, 35, 29, 55, 60,\n",
       "       67, 68, 74, 76, 70, 38, 77], dtype=int64)"
      ]
     },
     "execution_count": 15,
     "metadata": {},
     "output_type": "execute_result"
    }
   ],
   "source": [
    "data['age'].unique()"
   ]
  },
  {
   "cell_type": "code",
   "execution_count": 16,
   "metadata": {},
   "outputs": [
    {
     "data": {
      "text/plain": [
       "array([1, 0], dtype=int64)"
      ]
     },
     "execution_count": 16,
     "metadata": {},
     "output_type": "execute_result"
    }
   ],
   "source": [
    "data['sex'].unique()"
   ]
  },
  {
   "cell_type": "code",
   "execution_count": 17,
   "metadata": {},
   "outputs": [
    {
     "data": {
      "text/plain": [
       "array([3, 2, 1, 0], dtype=int64)"
      ]
     },
     "execution_count": 17,
     "metadata": {},
     "output_type": "execute_result"
    }
   ],
   "source": [
    "data['cp'].unique()"
   ]
  },
  {
   "cell_type": "code",
   "execution_count": 18,
   "metadata": {},
   "outputs": [
    {
     "data": {
      "text/plain": [
       "array([145, 130, 120, 140, 172, 150, 110, 135, 160, 105, 125, 142, 155,\n",
       "       104, 138, 128, 108, 134, 122, 115, 118, 100, 124,  94, 112, 102,\n",
       "       152, 101, 132, 148, 178, 129, 180, 136, 126, 106, 156, 170, 146,\n",
       "       117, 200, 165, 174, 192, 144, 123, 154, 114, 164], dtype=int64)"
      ]
     },
     "execution_count": 18,
     "metadata": {},
     "output_type": "execute_result"
    }
   ],
   "source": [
    "data['trestbps'].unique()"
   ]
  },
  {
   "cell_type": "code",
   "execution_count": 19,
   "metadata": {},
   "outputs": [
    {
     "data": {
      "text/plain": [
       "array([233, 250, 204, 236, 354, 192, 294, 263, 199, 168, 239, 275, 266,\n",
       "       211, 283, 219, 340, 226, 247, 234, 243, 302, 212, 175, 417, 197,\n",
       "       198, 177, 273, 213, 304, 232, 269, 360, 308, 245, 208, 264, 321,\n",
       "       325, 235, 257, 216, 256, 231, 141, 252, 201, 222, 260, 182, 303,\n",
       "       265, 309, 186, 203, 183, 220, 209, 258, 227, 261, 221, 205, 240,\n",
       "       318, 298, 564, 277, 214, 248, 255, 207, 223, 288, 160, 394, 315,\n",
       "       246, 244, 270, 195, 196, 254, 126, 313, 262, 215, 193, 271, 268,\n",
       "       267, 210, 295, 306, 178, 242, 180, 228, 149, 278, 253, 342, 157,\n",
       "       286, 229, 284, 224, 206, 167, 230, 335, 276, 353, 225, 330, 290,\n",
       "       172, 305, 188, 282, 185, 326, 274, 164, 307, 249, 341, 407, 217,\n",
       "       174, 281, 289, 322, 299, 300, 293, 184, 409, 259, 200, 327, 237,\n",
       "       218, 319, 166, 311, 169, 187, 176, 241, 131], dtype=int64)"
      ]
     },
     "execution_count": 19,
     "metadata": {},
     "output_type": "execute_result"
    }
   ],
   "source": [
    "data['chol'].unique()"
   ]
  },
  {
   "cell_type": "code",
   "execution_count": 20,
   "metadata": {},
   "outputs": [
    {
     "data": {
      "text/plain": [
       "array([1, 0], dtype=int64)"
      ]
     },
     "execution_count": 20,
     "metadata": {},
     "output_type": "execute_result"
    }
   ],
   "source": [
    "data['fbs'].unique()"
   ]
  },
  {
   "cell_type": "code",
   "execution_count": 21,
   "metadata": {},
   "outputs": [
    {
     "data": {
      "text/plain": [
       "array([0, 1, 2], dtype=int64)"
      ]
     },
     "execution_count": 21,
     "metadata": {},
     "output_type": "execute_result"
    }
   ],
   "source": [
    "data['restecg'].unique()"
   ]
  },
  {
   "cell_type": "code",
   "execution_count": 22,
   "metadata": {},
   "outputs": [
    {
     "data": {
      "text/plain": [
       "array([150, 187, 172, 178, 163, 148, 153, 173, 162, 174, 160, 139, 171,\n",
       "       144, 158, 114, 151, 161, 179, 137, 157, 123, 152, 168, 140, 188,\n",
       "       125, 170, 165, 142, 180, 143, 182, 156, 115, 149, 146, 175, 186,\n",
       "       185, 159, 130, 190, 132, 147, 154, 202, 166, 164, 184, 122, 169,\n",
       "       138, 111, 145, 194, 131, 133, 155, 167, 192, 121,  96, 126, 105,\n",
       "       181, 116, 108, 129, 120, 112, 128, 109, 113,  99, 177, 141, 136,\n",
       "        97, 127, 103, 124,  88, 195, 106,  95, 117,  71, 118, 134,  90],\n",
       "      dtype=int64)"
      ]
     },
     "execution_count": 22,
     "metadata": {},
     "output_type": "execute_result"
    }
   ],
   "source": [
    "data['thalach'].unique()"
   ]
  },
  {
   "cell_type": "code",
   "execution_count": 23,
   "metadata": {},
   "outputs": [
    {
     "data": {
      "text/plain": [
       "array([0, 1], dtype=int64)"
      ]
     },
     "execution_count": 23,
     "metadata": {},
     "output_type": "execute_result"
    }
   ],
   "source": [
    "data['exang'].unique()"
   ]
  },
  {
   "cell_type": "code",
   "execution_count": 24,
   "metadata": {},
   "outputs": [
    {
     "data": {
      "text/plain": [
       "array([2.3, 3.5, 1.4, 0.8, 0.6, 0.4, 1.3, 0. , 0.5, 1.6, 1.2, 0.2, 1.8,\n",
       "       1. , 2.6, 1.5, 3. , 2.4, 0.1, 1.9, 4.2, 1.1, 2. , 0.7, 0.3, 0.9,\n",
       "       3.6, 3.1, 3.2, 2.5, 2.2, 2.8, 3.4, 6.2, 4. , 5.6, 2.9, 2.1, 3.8,\n",
       "       4.4])"
      ]
     },
     "execution_count": 24,
     "metadata": {},
     "output_type": "execute_result"
    }
   ],
   "source": [
    "data['oldpeak'].unique()"
   ]
  },
  {
   "cell_type": "code",
   "execution_count": 25,
   "metadata": {},
   "outputs": [
    {
     "data": {
      "text/plain": [
       "array([0, 2, 1], dtype=int64)"
      ]
     },
     "execution_count": 25,
     "metadata": {},
     "output_type": "execute_result"
    }
   ],
   "source": [
    "data['slope'].unique()"
   ]
  },
  {
   "cell_type": "code",
   "execution_count": 26,
   "metadata": {},
   "outputs": [
    {
     "data": {
      "text/plain": [
       "array([0, 2, 1, 3, 4], dtype=int64)"
      ]
     },
     "execution_count": 26,
     "metadata": {},
     "output_type": "execute_result"
    }
   ],
   "source": [
    "data['ca'].unique()"
   ]
  },
  {
   "cell_type": "code",
   "execution_count": 27,
   "metadata": {},
   "outputs": [
    {
     "data": {
      "text/plain": [
       "array([1, 2, 3, 0], dtype=int64)"
      ]
     },
     "execution_count": 27,
     "metadata": {},
     "output_type": "execute_result"
    }
   ],
   "source": [
    "data['thal'].unique()"
   ]
  },
  {
   "cell_type": "code",
   "execution_count": 28,
   "metadata": {},
   "outputs": [
    {
     "data": {
      "text/plain": [
       "array([1, 0], dtype=int64)"
      ]
     },
     "execution_count": 28,
     "metadata": {},
     "output_type": "execute_result"
    }
   ],
   "source": [
    "data['target'].unique()"
   ]
  },
  {
   "cell_type": "markdown",
   "metadata": {},
   "source": [
    "Po analizie wszystkich wartości w kolumnach możemy stwierdzić, że dane są prawidłowe i nie ma konieczności ich opracowania oraz wyczyszczenia zbioru danych."
   ]
  },
  {
   "cell_type": "markdown",
   "metadata": {},
   "source": [
    "## Wizualizacja danych"
   ]
  },
  {
   "cell_type": "code",
   "execution_count": 37,
   "metadata": {},
   "outputs": [
    {
     "data": {
      "image/png": "[encoded data removed]",
      "text/plain": [
       "<Figure size 1080x360 with 1 Axes>"
      ]
     },
     "metadata": {},
     "output_type": "display_data"
    }
   ],
   "source": [
    "import warnings\n",
    "warnings.filterwarnings('ignore')\n",
    "\n",
    "plt.style.use('fivethirtyeight')\n",
    "plt.rcParams['figure.figsize'] = (15, 5)\n",
    "sns.distplot(data['age'], color = 'cyan')\n",
    "plt.title('Wiek', fontsize = 20)\n",
    "plt.show()"
   ]
  },
  {
   "cell_type": "markdown",
   "metadata": {},
   "source": [
    "Powyższy wykres przedstawia rozkład wieku wśród wszystkich wpisów w zbiorze danych dotyczących pacjentów z chorobami serca. Z wykresu wynika, że najwięcej osób cierpiących na choroby serca jest w grupie wiekowej 55-65 lat. Pacjenci w wieku 20-30 lat są najmniej narażeni na choroby serca.\n",
    "W zbiorze danych liczba osób w grupie wiekowej 65-80 lat jest niska, stąd też rozkład jest mniejszy. Być może będziemy musieli zdecydować się na inne wykresy, aby uzyskać bardziej intuicyjne wyniki."
   ]
  },
  {
   "cell_type": "code",
   "execution_count": 38,
   "metadata": {},
   "outputs": [
    {
     "data": {
      "image/png": "[encoded data removed]",
      "text/plain": [
       "<Figure size 648x648 with 1 Axes>"
      ]
     },
     "metadata": {},
     "output_type": "display_data"
    }
   ],
   "source": [
    "size = data['sex'].value_counts()\n",
    "colors = ['lightblue', 'lightgreen']\n",
    "labels = \"Mężczyzna\", \"Kobieta\"\n",
    "explode = [0, 0.01]\n",
    "\n",
    "my_circle = plt.Circle((0, 0), 0.7, color = 'white')\n",
    "\n",
    "plt.rcParams['figure.figsize'] = (9, 9)\n",
    "plt.pie(size, colors = colors, labels = labels, shadow = True, explode = explode, autopct = '%.2f%%')\n",
    "plt.title('Płeć', fontsize = 20)\n",
    "p = plt.gcf()\n",
    "p.gca().add_artist(my_circle)\n",
    "plt.legend()\n",
    "plt.show()"
   ]
  },
  {
   "cell_type": "markdown",
   "metadata": {},
   "source": [
    "Powyższy wykres kołowy, ilustruje rozkład płci dotyczący chorób serca. Analizując wykres, można stwierdzić, że mężczyźni są dwukrotnie bardziej narażeni na wystąpienie chorób serca w porównaniu z kobietami."
   ]
  },
  {
   "cell_type": "code",
   "execution_count": 41,
   "metadata": {},
   "outputs": [
    {
     "data": {
      "image/png": "[encoded data removed]",
      "text/plain": [
       "<Figure size 864x648 with 1 Axes>"
      ]
     },
     "metadata": {},
     "output_type": "display_data"
    }
   ],
   "source": [
    "plt.rcParams['figure.figsize'] = (12, 9)\n",
    "sns.boxplot(data['target'], data['trestbps'], palette = 'viridis')\n",
    "plt.title('Tresbps vs Target', fontsize = 20)\n",
    "plt.show()"
   ]
  },
  {
   "cell_type": "markdown",
   "metadata": {},
   "source": [
    "Powyższy wykres przedstawia relację pomiędzy tresbps (spoczynkowe ciśnienie krwi pacjenta), a target (wartość docelowa określająca, czy pacjent cierpi na chorobę serca, czy nie). Analizując wykres możemy zauważyć, że pacjenci, którzy nie chorują, mają nieco wyższe ciśnienie krwi niż pacjenci z chorobami serca."
   ]
  },
  {
   "cell_type": "code",
   "execution_count": 42,
   "metadata": {},
   "outputs": [
    {
     "data": {
      "image/png": "[encoded data removed]",
      "text/plain": [
       "<Figure size 864x648 with 1 Axes>"
      ]
     },
     "metadata": {},
     "output_type": "display_data"
    }
   ],
   "source": [
    "plt.rcParams['figure.figsize'] = (12, 9)\n",
    "sns.violinplot(data['target'], data['chol'], palette = 'colorblind')\n",
    "plt.title('Cholesterol vs Target', fontsize = 20, fontweight = 30)\n",
    "plt.show()"
   ]
  },
  {
   "cell_type": "markdown",
   "metadata": {},
   "source": [
    "Wykres ilustruje relację pomiędzy chol (poziom cholestrolu), a target (wartość docelowa określająca, czy pacjent cierpi na chorobę serca, czy nie). Możemy zauważyć, że pacjenci cierpiący na choroby serca mają wyższy poziom cholesterolu w porównaniu z pacjentami zdrowymi. Stąd następujący wniosek: Poziom cholestrolu odgrywa ważną rolę w identyfikowaniu chorób serca. "
   ]
  },
  {
   "cell_type": "code",
   "execution_count": 44,
   "metadata": {},
   "outputs": [
    {
     "data": {
      "image/png": "[encoded data removed]",
      "text/plain": [
       "<Figure size 864x648 with 1 Axes>"
      ]
     },
     "metadata": {},
     "output_type": "display_data"
    }
   ],
   "source": [
    "plt.rcParams['figure.figsize'] = (12, 9)\n",
    "dat = pd.crosstab(data['target'], data['restecg']) \n",
    "dat.div(dat.sum(1).astype(float), axis = 0).plot(kind = 'bar', \n",
    "                                                 stacked = False, \n",
    "                                                 color = plt.cm.rainbow(np.linspace(0, 1, 4)))\n",
    "plt.title('ECG vs Target', fontsize = 20, fontweight = 30)\n",
    "plt.show()"
   ]
  },
  {
   "cell_type": "markdown",
   "metadata": {},
   "source": [
    "Powyższy wykres słupkowy przedstawia relację pomiędzy ECG ( spoczynkowe wyniki elektrokardiograficzne), a target (wartość docelowa określająca, czy pacjent cierpi na chorobę serca, czy nie). Wykres pokazuje, że największa liczba pacjentów, u których nie występuje prawdopodobieństwo chorób serca, ma wartość restscg 0, podczas gdy największa liczba osób, u których występuje prawdopodobieństwo chorób serca ma wartość restecg 1. "
   ]
  },
  {
   "cell_type": "code",
   "execution_count": 48,
   "metadata": {},
   "outputs": [
    {
     "data": {
      "image/png": "[encoded data removed]",
      "text/plain": [
       "<Figure size 1080x648 with 1 Axes>"
      ]
     },
     "metadata": {},
     "output_type": "display_data"
    }
   ],
   "source": [
    "sns.boxenplot(data['target'], data['ca'], palette = 'Reds')\n",
    "plt.title('Ca vs Target', fontsize = 20, fontweight = 30)\n",
    "plt.show()"
   ]
  },
  {
   "cell_type": "markdown",
   "metadata": {},
   "source": [
    "Powyższy wykres przedstawia relację pomiędzy ca (liczba głównych naczyń) a target(wartość docelowa określająca, czy pacjent cierpi na chorobę serca, czy nie). Wykres pokazuje, że pacjenci, którzy są bardziej narażeni na choroby serca, mają wysokie wartości głównych naczyń, podczas gdy pacjenci, którzy są mniej narażeni na jakiekolwiek choroby serca, mają bardzo niskie wartości głównych naczyń.Stąd też wniosek: w określaniu chorób serca znaczenie ma współczynnik określający wartość głównych naczyń, im więcej naczyń, tym większa szansa na choroby serca."
   ]
  },
  {
   "cell_type": "code",
   "execution_count": 50,
   "metadata": {},
   "outputs": [
    {
     "data": {
      "image/png": "[encoded data removed]",
      "text/plain": [
       "<Figure size 1080x648 with 1 Axes>"
      ]
     },
     "metadata": {},
     "output_type": "display_data"
    }
   ],
   "source": [
    "plt.rcParams['figure.figsize'] = (15, 9)\n",
    "sns.swarmplot(data['target'], data['age'], palette = 'winter', size = 10)\n",
    "plt.title('Age vs target', fontsize = 20, fontweight = 30)\n",
    "plt.show()"
   ]
  },
  {
   "cell_type": "markdown",
   "metadata": {},
   "source": [
    "Wykres przedstawia relację pomiędzy age (wiek pacjenta), a target(wartość docelowa określająca, czy pacjent cierpi na chorobę serca, czy nie). Atrybut wiek nie jest dobrym atrybutem do określenia występowania chorób serca pacjenta, analizując ten wykres nie jesteśmy w stanie wykazać żadnych wniosków jakoby wiek miał wpływ za zachorowalność."
   ]
  },
  {
   "cell_type": "code",
   "execution_count": 52,
   "metadata": {},
   "outputs": [
    {
     "data": {
      "image/png": "[encoded data removed]",
      "text/plain": [
       "<Figure size 1080x648 with 1 Axes>"
      ]
     },
     "metadata": {},
     "output_type": "display_data"
    }
   ],
   "source": [
    "sns.boxenplot(data['target'], data['thal'], palette = 'magma')\n",
    "plt.title('Thal vs Target', fontsize = 20, fontweight = 30)\n",
    "plt.show()"
   ]
  },
  {
   "cell_type": "markdown",
   "metadata": {},
   "source": [
    "Wykres przedstawia relację pomiędzy thal (zaburzenie krwi-talasemia), a target(wartość docelowa określająca, czy pacjent cierpi na chorobę serca, czy nie). Możemy wywnioskować, że pacjenci mający choroby serca posiadają mniejsze szanse na wystąpienie również talesemii w porównaniu z pacjentami, u których prawdopodobieństwo wystąpienia chorób serca jest mniejsze. "
   ]
  },
  {
   "cell_type": "code",
   "execution_count": 54,
   "metadata": {},
   "outputs": [
    {
     "data": {
      "image/png": "[encoded data removed]",
      "text/plain": [
       "<Figure size 1080x648 with 1 Axes>"
      ]
     },
     "metadata": {},
     "output_type": "display_data"
    }
   ],
   "source": [
    "sns.boxplot(x = data['target'], y = data['trestbps'], hue = data['sex'], palette = 'rainbow')\n",
    "plt.title('Tresbps vs target', fontsize = 20, fontweight = 30)\n",
    "plt.show()"
   ]
  },
  {
   "cell_type": "markdown",
   "metadata": {},
   "source": [
    "Na powyższym wykresie możemy zobaczyć relację pomiędzy tresbps (spoczynkowe ciśnienie krwi) a target (wartość docelowa określająca, czy pacjent cierpi na chorobę serca, czy nie) względem sex (płeć: 1-mężczyzna, 0-kobieta). Analizując wykres możemy stwierdzić, że kobiety mają wyższe spoczynkowe ciśnienie krwi niż mężczyźni w przypadku braku chorób serca, podczas gdy mężczyźni i kobiety mają prawie równe spoczynkowe ciśnienie krwi w przypadku posiadania chorób serca. Również w przypadku występujących chorób serca pacjenci mają nieco niższe spoczynkowe ciśnienie krwi w porównaniu z pacjentami, którzy nie chorują."
   ]
  },
  {
   "cell_type": "code",
   "execution_count": 59,
   "metadata": {
    "scrolled": true
   },
   "outputs": [
    {
     "data": {
      "application/vnd.plotly.v1+json": {
       "config": {
        "linkText": "Export to plot.ly",
        "plotlyServerURL": "https://plot.ly",
        "showLink": false
       },
       "data": [
        {
         "marker": {
          "color": [
           63,
           37,
           41,
           56,
           57,
           57,
           56,
           44,
           52,
           57,
           54,
           48,
           49,
           64,
           58,
           50,
           58,
           66,
           43,
           69,
           59,
           44,
           42,
           61,
           40,
           71,
           59,
           51,
           65,
           53,
           41,
           65,
           44,
           54,
           51,
           46,
           54,
           54,
           65,
           65,
           51,
           48,
           45,
           53,
           39,
           52,
           44,
           47,
           53,
           53,
           51,
           66,
           62,
           44,
           63,
           52,
           48,
           45,
           34,
           57,
           71,
           54,
           52,
           41,
           58,
           35,
           51,
           45,
           44,
           62,
           54,
           51,
           29,
           51,
           43,
           55,
           51,
           59,
           52,
           58,
           41,
           45,
           60,
           52,
           42,
           67,
           68,
           46,
           54,
           58,
           48,
           57,
           52,
           54,
           45,
           53,
           62,
           52,
           43,
           53,
           42,
           59,
           63,
           42,
           50,
           68,
           69,
           45,
           50,
           50,
           64,
           57,
           64,
           43,
           55,
           37,
           41,
           56,
           46,
           46,
           64,
           59,
           41,
           54,
           39,
           34,
           47,
           67,
           52,
           74,
           54,
           49,
           42,
           41,
           41,
           49,
           60,
           62,
           57,
           64,
           51,
           43,
           42,
           67,
           76,
           70,
           44,
           60,
           44,
           42,
           66,
           71,
           64,
           66,
           39,
           58,
           47,
           35,
           58,
           56,
           56,
           55,
           41,
           38,
           38,
           67,
           67,
           62,
           63,
           53,
           56,
           48,
           58,
           58,
           60,
           40,
           60,
           64,
           43,
           57,
           55,
           65,
           61,
           58,
           50,
           44,
           60,
           54,
           50,
           41,
           51,
           58,
           54,
           60,
           60,
           59,
           46,
           67,
           62,
           65,
           44,
           60,
           58,
           68,
           62,
           52,
           59,
           60,
           49,
           59,
           57,
           61,
           39,
           61,
           56,
           43,
           62,
           63,
           65,
           48,
           63,
           55,
           65,
           56,
           54,
           70,
           62,
           35,
           59,
           64,
           47,
           57,
           55,
           64,
           70,
           51,
           58,
           60,
           77,
           35,
           70,
           59,
           64,
           57,
           56,
           48,
           56,
           66,
           54,
           69,
           51,
           43,
           62,
           67,
           59,
           45,
           58,
           50,
           62,
           38,
           66,
           52,
           53,
           63,
           54,
           66,
           55,
           49,
           54,
           56,
           46,
           61,
           67,
           58,
           47,
           52,
           58,
           57,
           58,
           61,
           42,
           52,
           59,
           40,
           61,
           46,
           59,
           57,
           57,
           55,
           61,
           58,
           58,
           67,
           44,
           63,
           63,
           59,
           57,
           45,
           68,
           57,
           57
          ],
          "size": 10
         },
         "mode": "markers",
         "name": "Marvel",
         "type": "scatter3d",
         "x": [
          233,
          250,
          204,
          236,
          354,
          192,
          294,
          263,
          199,
          168,
          239,
          275,
          266,
          211,
          283,
          219,
          340,
          226,
          247,
          239,
          234,
          233,
          226,
          243,
          199,
          302,
          212,
          175,
          417,
          197,
          198,
          177,
          219,
          273,
          213,
          177,
          304,
          232,
          269,
          360,
          308,
          245,
          208,
          264,
          321,
          325,
          235,
          257,
          216,
          234,
          256,
          302,
          231,
          141,
          252,
          201,
          222,
          260,
          182,
          303,
          265,
          309,
          186,
          203,
          211,
          183,
          222,
          234,
          220,
          209,
          258,
          227,
          204,
          261,
          213,
          250,
          245,
          221,
          205,
          240,
          250,
          308,
          318,
          298,
          265,
          564,
          277,
          197,
          214,
          248,
          255,
          207,
          223,
          288,
          160,
          226,
          394,
          233,
          315,
          246,
          244,
          270,
          195,
          240,
          196,
          211,
          234,
          236,
          244,
          254,
          325,
          126,
          313,
          211,
          262,
          215,
          214,
          193,
          204,
          243,
          303,
          271,
          268,
          267,
          199,
          210,
          204,
          277,
          196,
          269,
          201,
          271,
          295,
          235,
          306,
          269,
          178,
          208,
          201,
          263,
          295,
          303,
          209,
          223,
          197,
          245,
          242,
          240,
          226,
          180,
          228,
          149,
          227,
          278,
          220,
          197,
          253,
          192,
          220,
          221,
          240,
          342,
          157,
          175,
          175,
          286,
          229,
          268,
          254,
          203,
          256,
          229,
          284,
          224,
          206,
          167,
          230,
          335,
          177,
          276,
          353,
          225,
          330,
          230,
          243,
          290,
          253,
          266,
          233,
          172,
          305,
          216,
          188,
          282,
          185,
          326,
          231,
          254,
          267,
          248,
          197,
          258,
          270,
          274,
          164,
          255,
          239,
          258,
          188,
          177,
          229,
          260,
          219,
          307,
          249,
          341,
          263,
          330,
          254,
          256,
          407,
          217,
          282,
          288,
          239,
          174,
          281,
          198,
          288,
          309,
          243,
          289,
          289,
          246,
          322,
          299,
          300,
          293,
          304,
          282,
          269,
          249,
          212,
          274,
          184,
          274,
          409,
          246,
          283,
          254,
          298,
          247,
          294,
          299,
          273,
          309,
          259,
          200,
          244,
          231,
          228,
          230,
          282,
          269,
          206,
          212,
          327,
          149,
          286,
          283,
          249,
          234,
          237,
          234,
          275,
          212,
          218,
          261,
          319,
          166,
          315,
          204,
          218,
          223,
          207,
          311,
          204,
          232,
          335,
          205,
          203,
          318,
          225,
          212,
          169,
          187,
          197,
          176,
          241,
          264,
          193,
          131,
          236
         ],
         "y": [
          145,
          130,
          130,
          120,
          120,
          140,
          140,
          120,
          172,
          150,
          140,
          130,
          130,
          110,
          150,
          120,
          120,
          150,
          150,
          140,
          135,
          130,
          140,
          150,
          140,
          160,
          150,
          110,
          140,
          130,
          105,
          120,
          130,
          125,
          125,
          142,
          135,
          150,
          155,
          160,
          140,
          130,
          104,
          130,
          140,
          120,
          140,
          138,
          128,
          138,
          130,
          120,
          130,
          108,
          135,
          134,
          122,
          115,
          118,
          128,
          110,
          108,
          118,
          135,
          140,
          138,
          100,
          130,
          120,
          124,
          120,
          94,
          130,
          140,
          122,
          135,
          125,
          140,
          128,
          105,
          112,
          128,
          102,
          152,
          102,
          115,
          118,
          101,
          110,
          100,
          124,
          132,
          138,
          132,
          112,
          142,
          140,
          108,
          130,
          130,
          148,
          178,
          140,
          120,
          129,
          120,
          160,
          138,
          120,
          110,
          180,
          150,
          140,
          110,
          130,
          120,
          130,
          120,
          105,
          138,
          130,
          138,
          112,
          108,
          94,
          118,
          112,
          152,
          136,
          120,
          160,
          134,
          120,
          110,
          126,
          130,
          120,
          128,
          110,
          128,
          120,
          115,
          120,
          106,
          140,
          156,
          118,
          150,
          120,
          130,
          160,
          112,
          170,
          146,
          138,
          130,
          130,
          122,
          125,
          130,
          120,
          132,
          120,
          138,
          138,
          160,
          120,
          140,
          130,
          140,
          130,
          110,
          120,
          132,
          130,
          110,
          117,
          140,
          120,
          150,
          132,
          150,
          130,
          112,
          150,
          112,
          130,
          124,
          140,
          110,
          130,
          128,
          120,
          145,
          140,
          170,
          150,
          125,
          120,
          110,
          110,
          125,
          150,
          180,
          160,
          128,
          110,
          150,
          120,
          140,
          128,
          120,
          118,
          145,
          125,
          132,
          130,
          130,
          135,
          130,
          150,
          140,
          138,
          200,
          110,
          145,
          120,
          120,
          170,
          125,
          108,
          165,
          160,
          120,
          130,
          140,
          125,
          140,
          125,
          126,
          160,
          174,
          145,
          152,
          132,
          124,
          134,
          160,
          192,
          140,
          140,
          132,
          138,
          100,
          160,
          142,
          128,
          144,
          150,
          120,
          178,
          112,
          123,
          108,
          110,
          112,
          180,
          118,
          122,
          130,
          120,
          134,
          120,
          100,
          110,
          125,
          146,
          124,
          136,
          138,
          136,
          128,
          126,
          152,
          140,
          140,
          134,
          154,
          110,
          128,
          148,
          114,
          170,
          152,
          120,
          140,
          124,
          164,
          140,
          110,
          144,
          130,
          130
         ],
         "z": [
          63,
          37,
          41,
          56,
          57,
          57,
          56,
          44,
          52,
          57,
          54,
          48,
          49,
          64,
          58,
          50,
          58,
          66,
          43,
          69,
          59,
          44,
          42,
          61,
          40,
          71,
          59,
          51,
          65,
          53,
          41,
          65,
          44,
          54,
          51,
          46,
          54,
          54,
          65,
          65,
          51,
          48,
          45,
          53,
          39,
          52,
          44,
          47,
          53,
          53,
          51,
          66,
          62,
          44,
          63,
          52,
          48,
          45,
          34,
          57,
          71,
          54,
          52,
          41,
          58,
          35,
          51,
          45,
          44,
          62,
          54,
          51,
          29,
          51,
          43,
          55,
          51,
          59,
          52,
          58,
          41,
          45,
          60,
          52,
          42,
          67,
          68,
          46,
          54,
          58,
          48,
          57,
          52,
          54,
          45,
          53,
          62,
          52,
          43,
          53,
          42,
          59,
          63,
          42,
          50,
          68,
          69,
          45,
          50,
          50,
          64,
          57,
          64,
          43,
          55,
          37,
          41,
          56,
          46,
          46,
          64,
          59,
          41,
          54,
          39,
          34,
          47,
          67,
          52,
          74,
          54,
          49,
          42,
          41,
          41,
          49,
          60,
          62,
          57,
          64,
          51,
          43,
          42,
          67,
          76,
          70,
          44,
          60,
          44,
          42,
          66,
          71,
          64,
          66,
          39,
          58,
          47,
          35,
          58,
          56,
          56,
          55,
          41,
          38,
          38,
          67,
          67,
          62,
          63,
          53,
          56,
          48,
          58,
          58,
          60,
          40,
          60,
          64,
          43,
          57,
          55,
          65,
          61,
          58,
          50,
          44,
          60,
          54,
          50,
          41,
          51,
          58,
          54,
          60,
          60,
          59,
          46,
          67,
          62,
          65,
          44,
          60,
          58,
          68,
          62,
          52,
          59,
          60,
          49,
          59,
          57,
          61,
          39,
          61,
          56,
          43,
          62,
          63,
          65,
          48,
          63,
          55,
          65,
          56,
          54,
          70,
          62,
          35,
          59,
          64,
          47,
          57,
          55,
          64,
          70,
          51,
          58,
          60,
          77,
          35,
          70,
          59,
          64,
          57,
          56,
          48,
          56,
          66,
          54,
          69,
          51,
          43,
          62,
          67,
          59,
          45,
          58,
          50,
          62,
          38,
          66,
          52,
          53,
          63,
          54,
          66,
          55,
          49,
          54,
          56,
          46,
          61,
          67,
          58,
          47,
          52,
          58,
          57,
          58,
          61,
          42,
          52,
          59,
          40,
          61,
          46,
          59,
          57,
          57,
          55,
          61,
          58,
          58,
          67,
          44,
          63,
          63,
          59,
          57,
          45,
          68,
          57,
          57
         ]
        }
       ],
       "layout": {
        "margin": {
         "b": 0,
         "l": 0,
         "r": 0,
         "t": 0
        },
        "scene": {
         "xaxis": {
          "title": {
           "text": "Cholesterol"
          }
         },
         "yaxis": {
          "title": {
           "text": "Tętno"
          }
         },
         "zaxis": {
          "title": {
           "text": "Wiek"
          }
         }
        },
        "template": {
         "data": {
          "bar": [
           {
            "error_x": {
             "color": "#2a3f5f"
            },
            "error_y": {
             "color": "#2a3f5f"
            },
            "marker": {
             "line": {
              "color": "#E5ECF6",
              "width": 0.5
             }
            },
            "type": "bar"
           }
          ],
          "barpolar": [
           {
            "marker": {
             "line": {
              "color": "#E5ECF6",
              "width": 0.5
             }
            },
            "type": "barpolar"
           }
          ],
          "carpet": [
           {
            "aaxis": {
             "endlinecolor": "#2a3f5f",
             "gridcolor": "white",
             "linecolor": "white",
             "minorgridcolor": "white",
             "startlinecolor": "#2a3f5f"
            },
            "baxis": {
             "endlinecolor": "#2a3f5f",
             "gridcolor": "white",
             "linecolor": "white",
             "minorgridcolor": "white",
             "startlinecolor": "#2a3f5f"
            },
            "type": "carpet"
           }
          ],
          "choropleth": [
           {
            "colorbar": {
             "outlinewidth": 0,
             "ticks": ""
            },
            "type": "choropleth"
           }
          ],
          "contour": [
           {
            "colorbar": {
             "outlinewidth": 0,
             "ticks": ""
            },
            "colorscale": [
             [
              0,
              "#0d0887"
             ],
             [
              0.1111111111111111,
              "#46039f"
             ],
             [
              0.2222222222222222,
              "#7201a8"
             ],
             [
              0.3333333333333333,
              "#9c179e"
             ],
             [
              0.4444444444444444,
              "#bd3786"
             ],
             [
              0.5555555555555556,
              "#d8576b"
             ],
             [
              0.6666666666666666,
              "#ed7953"
             ],
             [
              0.7777777777777778,
              "#fb9f3a"
             ],
             [
              0.8888888888888888,
              "#fdca26"
             ],
             [
              1,
              "#f0f921"
             ]
            ],
            "type": "contour"
           }
          ],
          "contourcarpet": [
           {
            "colorbar": {
             "outlinewidth": 0,
             "ticks": ""
            },
            "type": "contourcarpet"
           }
          ],
          "heatmap": [
           {
            "colorbar": {
             "outlinewidth": 0,
             "ticks": ""
            },
            "colorscale": [
             [
              0,
              "#0d0887"
             ],
             [
              0.1111111111111111,
              "#46039f"
             ],
             [
              0.2222222222222222,
              "#7201a8"
             ],
             [
              0.3333333333333333,
              "#9c179e"
             ],
             [
              0.4444444444444444,
              "#bd3786"
             ],
             [
              0.5555555555555556,
              "#d8576b"
             ],
             [
              0.6666666666666666,
              "#ed7953"
             ],
             [
              0.7777777777777778,
              "#fb9f3a"
             ],
             [
              0.8888888888888888,
              "#fdca26"
             ],
             [
              1,
              "#f0f921"
             ]
            ],
            "type": "heatmap"
           }
          ],
          "heatmapgl": [
           {
            "colorbar": {
             "outlinewidth": 0,
             "ticks": ""
            },
            "colorscale": [
             [
              0,
              "#0d0887"
             ],
             [
              0.1111111111111111,
              "#46039f"
             ],
             [
              0.2222222222222222,
              "#7201a8"
             ],
             [
              0.3333333333333333,
              "#9c179e"
             ],
             [
              0.4444444444444444,
              "#bd3786"
             ],
             [
              0.5555555555555556,
              "#d8576b"
             ],
             [
              0.6666666666666666,
              "#ed7953"
             ],
             [
              0.7777777777777778,
              "#fb9f3a"
             ],
             [
              0.8888888888888888,
              "#fdca26"
             ],
             [
              1,
              "#f0f921"
             ]
            ],
            "type": "heatmapgl"
           }
          ],
          "histogram": [
           {
            "marker": {
             "colorbar": {
              "outlinewidth": 0,
              "ticks": ""
             }
            },
            "type": "histogram"
           }
          ],
          "histogram2d": [
           {
            "colorbar": {
             "outlinewidth": 0,
             "ticks": ""
            },
            "colorscale": [
             [
              0,
              "#0d0887"
             ],
             [
              0.1111111111111111,
              "#46039f"
             ],
             [
              0.2222222222222222,
              "#7201a8"
             ],
             [
              0.3333333333333333,
              "#9c179e"
             ],
             [
              0.4444444444444444,
              "#bd3786"
             ],
             [
              0.5555555555555556,
              "#d8576b"
             ],
             [
              0.6666666666666666,
              "#ed7953"
             ],
             [
              0.7777777777777778,
              "#fb9f3a"
             ],
             [
              0.8888888888888888,
              "#fdca26"
             ],
             [
              1,
              "#f0f921"
             ]
            ],
            "type": "histogram2d"
           }
          ],
          "histogram2dcontour": [
           {
            "colorbar": {
             "outlinewidth": 0,
             "ticks": ""
            },
            "colorscale": [
             [
              0,
              "#0d0887"
             ],
             [
              0.1111111111111111,
              "#46039f"
             ],
             [
              0.2222222222222222,
              "#7201a8"
             ],
             [
              0.3333333333333333,
              "#9c179e"
             ],
             [
              0.4444444444444444,
              "#bd3786"
             ],
             [
              0.5555555555555556,
              "#d8576b"
             ],
             [
              0.6666666666666666,
              "#ed7953"
             ],
             [
              0.7777777777777778,
              "#fb9f3a"
             ],
             [
              0.8888888888888888,
              "#fdca26"
             ],
             [
              1,
              "#f0f921"
             ]
            ],
            "type": "histogram2dcontour"
           }
          ],
          "mesh3d": [
           {
            "colorbar": {
             "outlinewidth": 0,
             "ticks": ""
            },
            "type": "mesh3d"
           }
          ],
          "parcoords": [
           {
            "line": {
             "colorbar": {
              "outlinewidth": 0,
              "ticks": ""
             }
            },
            "type": "parcoords"
           }
          ],
          "pie": [
           {
            "automargin": true,
            "type": "pie"
           }
          ],
          "scatter": [
           {
            "marker": {
             "colorbar": {
              "outlinewidth": 0,
              "ticks": ""
             }
            },
            "type": "scatter"
           }
          ],
          "scatter3d": [
           {
            "line": {
             "colorbar": {
              "outlinewidth": 0,
              "ticks": ""
             }
            },
            "marker": {
             "colorbar": {
              "outlinewidth": 0,
              "ticks": ""
             }
            },
            "type": "scatter3d"
           }
          ],
          "scattercarpet": [
           {
            "marker": {
             "colorbar": {
              "outlinewidth": 0,
              "ticks": ""
             }
            },
            "type": "scattercarpet"
           }
          ],
          "scattergeo": [
           {
            "marker": {
             "colorbar": {
              "outlinewidth": 0,
              "ticks": ""
             }
            },
            "type": "scattergeo"
           }
          ],
          "scattergl": [
           {
            "marker": {
             "colorbar": {
              "outlinewidth": 0,
              "ticks": ""
             }
            },
            "type": "scattergl"
           }
          ],
          "scattermapbox": [
           {
            "marker": {
             "colorbar": {
              "outlinewidth": 0,
              "ticks": ""
             }
            },
            "type": "scattermapbox"
           }
          ],
          "scatterpolar": [
           {
            "marker": {
             "colorbar": {
              "outlinewidth": 0,
              "ticks": ""
             }
            },
            "type": "scatterpolar"
           }
          ],
          "scatterpolargl": [
           {
            "marker": {
             "colorbar": {
              "outlinewidth": 0,
              "ticks": ""
             }
            },
            "type": "scatterpolargl"
           }
          ],
          "scatterternary": [
           {
            "marker": {
             "colorbar": {
              "outlinewidth": 0,
              "ticks": ""
             }
            },
            "type": "scatterternary"
           }
          ],
          "surface": [
           {
            "colorbar": {
             "outlinewidth": 0,
             "ticks": ""
            },
            "colorscale": [
             [
              0,
              "#0d0887"
             ],
             [
              0.1111111111111111,
              "#46039f"
             ],
             [
              0.2222222222222222,
              "#7201a8"
             ],
             [
              0.3333333333333333,
              "#9c179e"
             ],
             [
              0.4444444444444444,
              "#bd3786"
             ],
             [
              0.5555555555555556,
              "#d8576b"
             ],
             [
              0.6666666666666666,
              "#ed7953"
             ],
             [
              0.7777777777777778,
              "#fb9f3a"
             ],
             [
              0.8888888888888888,
              "#fdca26"
             ],
             [
              1,
              "#f0f921"
             ]
            ],
            "type": "surface"
           }
          ],
          "table": [
           {
            "cells": {
             "fill": {
              "color": "#EBF0F8"
             },
             "line": {
              "color": "white"
             }
            },
            "header": {
             "fill": {
              "color": "#C8D4E3"
             },
             "line": {
              "color": "white"
             }
            },
            "type": "table"
           }
          ]
         },
         "layout": {
          "annotationdefaults": {
           "arrowcolor": "#2a3f5f",
           "arrowhead": 0,
           "arrowwidth": 1
          },
          "autotypenumbers": "strict",
          "coloraxis": {
           "colorbar": {
            "outlinewidth": 0,
            "ticks": ""
           }
          },
          "colorscale": {
           "diverging": [
            [
             0,
             "#8e0152"
            ],
            [
             0.1,
             "#c51b7d"
            ],
            [
             0.2,
             "#de77ae"
            ],
            [
             0.3,
             "#f1b6da"
            ],
            [
             0.4,
             "#fde0ef"
            ],
            [
             0.5,
             "#f7f7f7"
            ],
            [
             0.6,
             "#e6f5d0"
            ],
            [
             0.7,
             "#b8e186"
            ],
            [
             0.8,
             "#7fbc41"
            ],
            [
             0.9,
             "#4d9221"
            ],
            [
             1,
             "#276419"
            ]
           ],
           "sequential": [
            [
             0,
             "#0d0887"
            ],
            [
             0.1111111111111111,
             "#46039f"
            ],
            [
             0.2222222222222222,
             "#7201a8"
            ],
            [
             0.3333333333333333,
             "#9c179e"
            ],
            [
             0.4444444444444444,
             "#bd3786"
            ],
            [
             0.5555555555555556,
             "#d8576b"
            ],
            [
             0.6666666666666666,
             "#ed7953"
            ],
            [
             0.7777777777777778,
             "#fb9f3a"
            ],
            [
             0.8888888888888888,
             "#fdca26"
            ],
            [
             1,
             "#f0f921"
            ]
           ],
           "sequentialminus": [
            [
             0,
             "#0d0887"
            ],
            [
             0.1111111111111111,
             "#46039f"
            ],
            [
             0.2222222222222222,
             "#7201a8"
            ],
            [
             0.3333333333333333,
             "#9c179e"
            ],
            [
             0.4444444444444444,
             "#bd3786"
            ],
            [
             0.5555555555555556,
             "#d8576b"
            ],
            [
             0.6666666666666666,
             "#ed7953"
            ],
            [
             0.7777777777777778,
             "#fb9f3a"
            ],
            [
             0.8888888888888888,
             "#fdca26"
            ],
            [
             1,
             "#f0f921"
            ]
           ]
          },
          "colorway": [
           "#636efa",
           "#EF553B",
           "#00cc96",
           "#ab63fa",
           "#FFA15A",
           "#19d3f3",
           "#FF6692",
           "#B6E880",
           "#FF97FF",
           "#FECB52"
          ],
          "font": {
           "color": "#2a3f5f"
          },
          "geo": {
           "bgcolor": "white",
           "lakecolor": "white",
           "landcolor": "#E5ECF6",
           "showlakes": true,
           "showland": true,
           "subunitcolor": "white"
          },
          "hoverlabel": {
           "align": "left"
          },
          "hovermode": "closest",
          "mapbox": {
           "style": "light"
          },
          "paper_bgcolor": "white",
          "plot_bgcolor": "#E5ECF6",
          "polar": {
           "angularaxis": {
            "gridcolor": "white",
            "linecolor": "white",
            "ticks": ""
           },
           "bgcolor": "#E5ECF6",
           "radialaxis": {
            "gridcolor": "white",
            "linecolor": "white",
            "ticks": ""
           }
          },
          "scene": {
           "xaxis": {
            "backgroundcolor": "#E5ECF6",
            "gridcolor": "white",
            "gridwidth": 2,
            "linecolor": "white",
            "showbackground": true,
            "ticks": "",
            "zerolinecolor": "white"
           },
           "yaxis": {
            "backgroundcolor": "#E5ECF6",
            "gridcolor": "white",
            "gridwidth": 2,
            "linecolor": "white",
            "showbackground": true,
            "ticks": "",
            "zerolinecolor": "white"
           },
           "zaxis": {
            "backgroundcolor": "#E5ECF6",
            "gridcolor": "white",
            "gridwidth": 2,
            "linecolor": "white",
            "showbackground": true,
            "ticks": "",
            "zerolinecolor": "white"
           }
          },
          "shapedefaults": {
           "line": {
            "color": "#2a3f5f"
           }
          },
          "ternary": {
           "aaxis": {
            "gridcolor": "white",
            "linecolor": "white",
            "ticks": ""
           },
           "baxis": {
            "gridcolor": "white",
            "linecolor": "white",
            "ticks": ""
           },
           "bgcolor": "#E5ECF6",
           "caxis": {
            "gridcolor": "white",
            "linecolor": "white",
            "ticks": ""
           }
          },
          "title": {
           "x": 0.05
          },
          "xaxis": {
           "automargin": true,
           "gridcolor": "white",
           "linecolor": "white",
           "ticks": "",
           "title": {
            "standoff": 15
           },
           "zerolinecolor": "white",
           "zerolinewidth": 2
          },
          "yaxis": {
           "automargin": true,
           "gridcolor": "white",
           "linecolor": "white",
           "ticks": "",
           "title": {
            "standoff": 15
           },
           "zerolinecolor": "white",
           "zerolinewidth": 2
          }
         }
        },
        "title": {
         "text": "Cholesterol vs Tętno vs Wiek"
        }
       }
      },
      "text/html": [
       "<div>                            <div id=\"fb1620ef-5926-473e-a120-c69209f773ba\" class=\"plotly-graph-div\" style=\"height:525px; width:100%;\"></div>            <script type=\"text/javascript\">                require([\"plotly\"], function(Plotly) {                    window.PLOTLYENV=window.PLOTLYENV || {};                                    if (document.getElementById(\"fb1620ef-5926-473e-a120-c69209f773ba\")) {                    Plotly.newPlot(                        \"fb1620ef-5926-473e-a120-c69209f773ba\",                        [{\"marker\": {\"color\": [63, 37, 41, 56, 57, 57, 56, 44, 52, 57, 54, 48, 49, 64, 58, 50, 58, 66, 43, 69, 59, 44, 42, 61, 40, 71, 59, 51, 65, 53, 41, 65, 44, 54, 51, 46, 54, 54, 65, 65, 51, 48, 45, 53, 39, 52, 44, 47, 53, 53, 51, 66, 62, 44, 63, 52, 48, 45, 34, 57, 71, 54, 52, 41, 58, 35, 51, 45, 44, 62, 54, 51, 29, 51, 43, 55, 51, 59, 52, 58, 41, 45, 60, 52, 42, 67, 68, 46, 54, 58, 48, 57, 52, 54, 45, 53, 62, 52, 43, 53, 42, 59, 63, 42, 50, 68, 69, 45, 50, 50, 64, 57, 64, 43, 55, 37, 41, 56, 46, 46, 64, 59, 41, 54, 39, 34, 47, 67, 52, 74, 54, 49, 42, 41, 41, 49, 60, 62, 57, 64, 51, 43, 42, 67, 76, 70, 44, 60, 44, 42, 66, 71, 64, 66, 39, 58, 47, 35, 58, 56, 56, 55, 41, 38, 38, 67, 67, 62, 63, 53, 56, 48, 58, 58, 60, 40, 60, 64, 43, 57, 55, 65, 61, 58, 50, 44, 60, 54, 50, 41, 51, 58, 54, 60, 60, 59, 46, 67, 62, 65, 44, 60, 58, 68, 62, 52, 59, 60, 49, 59, 57, 61, 39, 61, 56, 43, 62, 63, 65, 48, 63, 55, 65, 56, 54, 70, 62, 35, 59, 64, 47, 57, 55, 64, 70, 51, 58, 60, 77, 35, 70, 59, 64, 57, 56, 48, 56, 66, 54, 69, 51, 43, 62, 67, 59, 45, 58, 50, 62, 38, 66, 52, 53, 63, 54, 66, 55, 49, 54, 56, 46, 61, 67, 58, 47, 52, 58, 57, 58, 61, 42, 52, 59, 40, 61, 46, 59, 57, 57, 55, 61, 58, 58, 67, 44, 63, 63, 59, 57, 45, 68, 57, 57], \"size\": 10}, \"mode\": \"markers\", \"name\": \"Marvel\", \"type\": \"scatter3d\", \"x\": [233, 250, 204, 236, 354, 192, 294, 263, 199, 168, 239, 275, 266, 211, 283, 219, 340, 226, 247, 239, 234, 233, 226, 243, 199, 302, 212, 175, 417, 197, 198, 177, 219, 273, 213, 177, 304, 232, 269, 360, 308, 245, 208, 264, 321, 325, 235, 257, 216, 234, 256, 302, 231, 141, 252, 201, 222, 260, 182, 303, 265, 309, 186, 203, 211, 183, 222, 234, 220, 209, 258, 227, 204, 261, 213, 250, 245, 221, 205, 240, 250, 308, 318, 298, 265, 564, 277, 197, 214, 248, 255, 207, 223, 288, 160, 226, 394, 233, 315, 246, 244, 270, 195, 240, 196, 211, 234, 236, 244, 254, 325, 126, 313, 211, 262, 215, 214, 193, 204, 243, 303, 271, 268, 267, 199, 210, 204, 277, 196, 269, 201, 271, 295, 235, 306, 269, 178, 208, 201, 263, 295, 303, 209, 223, 197, 245, 242, 240, 226, 180, 228, 149, 227, 278, 220, 197, 253, 192, 220, 221, 240, 342, 157, 175, 175, 286, 229, 268, 254, 203, 256, 229, 284, 224, 206, 167, 230, 335, 177, 276, 353, 225, 330, 230, 243, 290, 253, 266, 233, 172, 305, 216, 188, 282, 185, 326, 231, 254, 267, 248, 197, 258, 270, 274, 164, 255, 239, 258, 188, 177, 229, 260, 219, 307, 249, 341, 263, 330, 254, 256, 407, 217, 282, 288, 239, 174, 281, 198, 288, 309, 243, 289, 289, 246, 322, 299, 300, 293, 304, 282, 269, 249, 212, 274, 184, 274, 409, 246, 283, 254, 298, 247, 294, 299, 273, 309, 259, 200, 244, 231, 228, 230, 282, 269, 206, 212, 327, 149, 286, 283, 249, 234, 237, 234, 275, 212, 218, 261, 319, 166, 315, 204, 218, 223, 207, 311, 204, 232, 335, 205, 203, 318, 225, 212, 169, 187, 197, 176, 241, 264, 193, 131, 236], \"y\": [145, 130, 130, 120, 120, 140, 140, 120, 172, 150, 140, 130, 130, 110, 150, 120, 120, 150, 150, 140, 135, 130, 140, 150, 140, 160, 150, 110, 140, 130, 105, 120, 130, 125, 125, 142, 135, 150, 155, 160, 140, 130, 104, 130, 140, 120, 140, 138, 128, 138, 130, 120, 130, 108, 135, 134, 122, 115, 118, 128, 110, 108, 118, 135, 140, 138, 100, 130, 120, 124, 120, 94, 130, 140, 122, 135, 125, 140, 128, 105, 112, 128, 102, 152, 102, 115, 118, 101, 110, 100, 124, 132, 138, 132, 112, 142, 140, 108, 130, 130, 148, 178, 140, 120, 129, 120, 160, 138, 120, 110, 180, 150, 140, 110, 130, 120, 130, 120, 105, 138, 130, 138, 112, 108, 94, 118, 112, 152, 136, 120, 160, 134, 120, 110, 126, 130, 120, 128, 110, 128, 120, 115, 120, 106, 140, 156, 118, 150, 120, 130, 160, 112, 170, 146, 138, 130, 130, 122, 125, 130, 120, 132, 120, 138, 138, 160, 120, 140, 130, 140, 130, 110, 120, 132, 130, 110, 117, 140, 120, 150, 132, 150, 130, 112, 150, 112, 130, 124, 140, 110, 130, 128, 120, 145, 140, 170, 150, 125, 120, 110, 110, 125, 150, 180, 160, 128, 110, 150, 120, 140, 128, 120, 118, 145, 125, 132, 130, 130, 135, 130, 150, 140, 138, 200, 110, 145, 120, 120, 170, 125, 108, 165, 160, 120, 130, 140, 125, 140, 125, 126, 160, 174, 145, 152, 132, 124, 134, 160, 192, 140, 140, 132, 138, 100, 160, 142, 128, 144, 150, 120, 178, 112, 123, 108, 110, 112, 180, 118, 122, 130, 120, 134, 120, 100, 110, 125, 146, 124, 136, 138, 136, 128, 126, 152, 140, 140, 134, 154, 110, 128, 148, 114, 170, 152, 120, 140, 124, 164, 140, 110, 144, 130, 130], \"z\": [63, 37, 41, 56, 57, 57, 56, 44, 52, 57, 54, 48, 49, 64, 58, 50, 58, 66, 43, 69, 59, 44, 42, 61, 40, 71, 59, 51, 65, 53, 41, 65, 44, 54, 51, 46, 54, 54, 65, 65, 51, 48, 45, 53, 39, 52, 44, 47, 53, 53, 51, 66, 62, 44, 63, 52, 48, 45, 34, 57, 71, 54, 52, 41, 58, 35, 51, 45, 44, 62, 54, 51, 29, 51, 43, 55, 51, 59, 52, 58, 41, 45, 60, 52, 42, 67, 68, 46, 54, 58, 48, 57, 52, 54, 45, 53, 62, 52, 43, 53, 42, 59, 63, 42, 50, 68, 69, 45, 50, 50, 64, 57, 64, 43, 55, 37, 41, 56, 46, 46, 64, 59, 41, 54, 39, 34, 47, 67, 52, 74, 54, 49, 42, 41, 41, 49, 60, 62, 57, 64, 51, 43, 42, 67, 76, 70, 44, 60, 44, 42, 66, 71, 64, 66, 39, 58, 47, 35, 58, 56, 56, 55, 41, 38, 38, 67, 67, 62, 63, 53, 56, 48, 58, 58, 60, 40, 60, 64, 43, 57, 55, 65, 61, 58, 50, 44, 60, 54, 50, 41, 51, 58, 54, 60, 60, 59, 46, 67, 62, 65, 44, 60, 58, 68, 62, 52, 59, 60, 49, 59, 57, 61, 39, 61, 56, 43, 62, 63, 65, 48, 63, 55, 65, 56, 54, 70, 62, 35, 59, 64, 47, 57, 55, 64, 70, 51, 58, 60, 77, 35, 70, 59, 64, 57, 56, 48, 56, 66, 54, 69, 51, 43, 62, 67, 59, 45, 58, 50, 62, 38, 66, 52, 53, 63, 54, 66, 55, 49, 54, 56, 46, 61, 67, 58, 47, 52, 58, 57, 58, 61, 42, 52, 59, 40, 61, 46, 59, 57, 57, 55, 61, 58, 58, 67, 44, 63, 63, 59, 57, 45, 68, 57, 57]}],                        {\"margin\": {\"b\": 0, \"l\": 0, \"r\": 0, \"t\": 0}, \"scene\": {\"xaxis\": {\"title\": {\"text\": \"Cholesterol\"}}, \"yaxis\": {\"title\": {\"text\": \"T\\u0119tno\"}}, \"zaxis\": {\"title\": {\"text\": \"Wiek\"}}}, \"template\": {\"data\": {\"bar\": [{\"error_x\": {\"color\": \"#2a3f5f\"}, \"error_y\": {\"color\": \"#2a3f5f\"}, \"marker\": {\"line\": {\"color\": \"#E5ECF6\", \"width\": 0.5}}, \"type\": \"bar\"}], \"barpolar\": [{\"marker\": {\"line\": {\"color\": \"#E5ECF6\", \"width\": 0.5}}, \"type\": \"barpolar\"}], \"carpet\": [{\"aaxis\": {\"endlinecolor\": \"#2a3f5f\", \"gridcolor\": \"white\", \"linecolor\": \"white\", \"minorgridcolor\": \"white\", \"startlinecolor\": \"#2a3f5f\"}, \"baxis\": {\"endlinecolor\": \"#2a3f5f\", \"gridcolor\": \"white\", \"linecolor\": \"white\", \"minorgridcolor\": \"white\", \"startlinecolor\": \"#2a3f5f\"}, \"type\": \"carpet\"}], \"choropleth\": [{\"colorbar\": {\"outlinewidth\": 0, \"ticks\": \"\"}, \"type\": \"choropleth\"}], \"contour\": [{\"colorbar\": {\"outlinewidth\": 0, \"ticks\": \"\"}, \"colorscale\": [[0.0, \"#0d0887\"], [0.1111111111111111, \"#46039f\"], [0.2222222222222222, \"#7201a8\"], [0.3333333333333333, \"#9c179e\"], [0.4444444444444444, \"#bd3786\"], [0.5555555555555556, \"#d8576b\"], [0.6666666666666666, \"#ed7953\"], [0.7777777777777778, \"#fb9f3a\"], [0.8888888888888888, \"#fdca26\"], [1.0, \"#f0f921\"]], \"type\": \"contour\"}], \"contourcarpet\": [{\"colorbar\": {\"outlinewidth\": 0, \"ticks\": \"\"}, \"type\": \"contourcarpet\"}], \"heatmap\": [{\"colorbar\": {\"outlinewidth\": 0, \"ticks\": \"\"}, \"colorscale\": [[0.0, \"#0d0887\"], [0.1111111111111111, \"#46039f\"], [0.2222222222222222, \"#7201a8\"], [0.3333333333333333, \"#9c179e\"], [0.4444444444444444, \"#bd3786\"], [0.5555555555555556, \"#d8576b\"], [0.6666666666666666, \"#ed7953\"], [0.7777777777777778, \"#fb9f3a\"], [0.8888888888888888, \"#fdca26\"], [1.0, \"#f0f921\"]], \"type\": \"heatmap\"}], \"heatmapgl\": [{\"colorbar\": {\"outlinewidth\": 0, \"ticks\": \"\"}, \"colorscale\": [[0.0, \"#0d0887\"], [0.1111111111111111, \"#46039f\"], [0.2222222222222222, \"#7201a8\"], [0.3333333333333333, \"#9c179e\"], [0.4444444444444444, \"#bd3786\"], [0.5555555555555556, \"#d8576b\"], [0.6666666666666666, \"#ed7953\"], [0.7777777777777778, \"#fb9f3a\"], [0.8888888888888888, \"#fdca26\"], [1.0, \"#f0f921\"]], \"type\": \"heatmapgl\"}], \"histogram\": [{\"marker\": {\"colorbar\": {\"outlinewidth\": 0, \"ticks\": \"\"}}, \"type\": \"histogram\"}], \"histogram2d\": [{\"colorbar\": {\"outlinewidth\": 0, \"ticks\": \"\"}, \"colorscale\": [[0.0, \"#0d0887\"], [0.1111111111111111, \"#46039f\"], [0.2222222222222222, \"#7201a8\"], [0.3333333333333333, \"#9c179e\"], [0.4444444444444444, \"#bd3786\"], [0.5555555555555556, \"#d8576b\"], [0.6666666666666666, \"#ed7953\"], [0.7777777777777778, \"#fb9f3a\"], [0.8888888888888888, \"#fdca26\"], [1.0, \"#f0f921\"]], \"type\": \"histogram2d\"}], \"histogram2dcontour\": [{\"colorbar\": {\"outlinewidth\": 0, \"ticks\": \"\"}, \"colorscale\": [[0.0, \"#0d0887\"], [0.1111111111111111, \"#46039f\"], [0.2222222222222222, \"#7201a8\"], [0.3333333333333333, \"#9c179e\"], [0.4444444444444444, \"#bd3786\"], [0.5555555555555556, \"#d8576b\"], [0.6666666666666666, \"#ed7953\"], [0.7777777777777778, \"#fb9f3a\"], [0.8888888888888888, \"#fdca26\"], [1.0, \"#f0f921\"]], \"type\": \"histogram2dcontour\"}], \"mesh3d\": [{\"colorbar\": {\"outlinewidth\": 0, \"ticks\": \"\"}, \"type\": \"mesh3d\"}], \"parcoords\": [{\"line\": {\"colorbar\": {\"outlinewidth\": 0, \"ticks\": \"\"}}, \"type\": \"parcoords\"}], \"pie\": [{\"automargin\": true, \"type\": \"pie\"}], \"scatter\": [{\"marker\": {\"colorbar\": {\"outlinewidth\": 0, \"ticks\": \"\"}}, \"type\": \"scatter\"}], \"scatter3d\": [{\"line\": {\"colorbar\": {\"outlinewidth\": 0, \"ticks\": \"\"}}, \"marker\": {\"colorbar\": {\"outlinewidth\": 0, \"ticks\": \"\"}}, \"type\": \"scatter3d\"}], \"scattercarpet\": [{\"marker\": {\"colorbar\": {\"outlinewidth\": 0, \"ticks\": \"\"}}, \"type\": \"scattercarpet\"}], \"scattergeo\": [{\"marker\": {\"colorbar\": {\"outlinewidth\": 0, \"ticks\": \"\"}}, \"type\": \"scattergeo\"}], \"scattergl\": [{\"marker\": {\"colorbar\": {\"outlinewidth\": 0, \"ticks\": \"\"}}, \"type\": \"scattergl\"}], \"scattermapbox\": [{\"marker\": {\"colorbar\": {\"outlinewidth\": 0, \"ticks\": \"\"}}, \"type\": \"scattermapbox\"}], \"scatterpolar\": [{\"marker\": {\"colorbar\": {\"outlinewidth\": 0, \"ticks\": \"\"}}, \"type\": \"scatterpolar\"}], \"scatterpolargl\": [{\"marker\": {\"colorbar\": {\"outlinewidth\": 0, \"ticks\": \"\"}}, \"type\": \"scatterpolargl\"}], \"scatterternary\": [{\"marker\": {\"colorbar\": {\"outlinewidth\": 0, \"ticks\": \"\"}}, \"type\": \"scatterternary\"}], \"surface\": [{\"colorbar\": {\"outlinewidth\": 0, \"ticks\": \"\"}, \"colorscale\": [[0.0, \"#0d0887\"], [0.1111111111111111, \"#46039f\"], [0.2222222222222222, \"#7201a8\"], [0.3333333333333333, \"#9c179e\"], [0.4444444444444444, \"#bd3786\"], [0.5555555555555556, \"#d8576b\"], [0.6666666666666666, \"#ed7953\"], [0.7777777777777778, \"#fb9f3a\"], [0.8888888888888888, \"#fdca26\"], [1.0, \"#f0f921\"]], \"type\": \"surface\"}], \"table\": [{\"cells\": {\"fill\": {\"color\": \"#EBF0F8\"}, \"line\": {\"color\": \"white\"}}, \"header\": {\"fill\": {\"color\": \"#C8D4E3\"}, \"line\": {\"color\": \"white\"}}, \"type\": \"table\"}]}, \"layout\": {\"annotationdefaults\": {\"arrowcolor\": \"#2a3f5f\", \"arrowhead\": 0, \"arrowwidth\": 1}, \"autotypenumbers\": \"strict\", \"coloraxis\": {\"colorbar\": {\"outlinewidth\": 0, \"ticks\": \"\"}}, \"colorscale\": {\"diverging\": [[0, \"#8e0152\"], [0.1, \"#c51b7d\"], [0.2, \"#de77ae\"], [0.3, \"#f1b6da\"], [0.4, \"#fde0ef\"], [0.5, \"#f7f7f7\"], [0.6, \"#e6f5d0\"], [0.7, \"#b8e186\"], [0.8, \"#7fbc41\"], [0.9, \"#4d9221\"], [1, \"#276419\"]], \"sequential\": [[0.0, \"#0d0887\"], [0.1111111111111111, \"#46039f\"], [0.2222222222222222, \"#7201a8\"], [0.3333333333333333, \"#9c179e\"], [0.4444444444444444, \"#bd3786\"], [0.5555555555555556, \"#d8576b\"], [0.6666666666666666, \"#ed7953\"], [0.7777777777777778, \"#fb9f3a\"], [0.8888888888888888, \"#fdca26\"], [1.0, \"#f0f921\"]], \"sequentialminus\": [[0.0, \"#0d0887\"], [0.1111111111111111, \"#46039f\"], [0.2222222222222222, \"#7201a8\"], [0.3333333333333333, \"#9c179e\"], [0.4444444444444444, \"#bd3786\"], [0.5555555555555556, \"#d8576b\"], [0.6666666666666666, \"#ed7953\"], [0.7777777777777778, \"#fb9f3a\"], [0.8888888888888888, \"#fdca26\"], [1.0, \"#f0f921\"]]}, \"colorway\": [\"#636efa\", \"#EF553B\", \"#00cc96\", \"#ab63fa\", \"#FFA15A\", \"#19d3f3\", \"#FF6692\", \"#B6E880\", \"#FF97FF\", \"#FECB52\"], \"font\": {\"color\": \"#2a3f5f\"}, \"geo\": {\"bgcolor\": \"white\", \"lakecolor\": \"white\", \"landcolor\": \"#E5ECF6\", \"showlakes\": true, \"showland\": true, \"subunitcolor\": \"white\"}, \"hoverlabel\": {\"align\": \"left\"}, \"hovermode\": \"closest\", \"mapbox\": {\"style\": \"light\"}, \"paper_bgcolor\": \"white\", \"plot_bgcolor\": \"#E5ECF6\", \"polar\": {\"angularaxis\": {\"gridcolor\": \"white\", \"linecolor\": \"white\", \"ticks\": \"\"}, \"bgcolor\": \"#E5ECF6\", \"radialaxis\": {\"gridcolor\": \"white\", \"linecolor\": \"white\", \"ticks\": \"\"}}, \"scene\": {\"xaxis\": {\"backgroundcolor\": \"#E5ECF6\", \"gridcolor\": \"white\", \"gridwidth\": 2, \"linecolor\": \"white\", \"showbackground\": true, \"ticks\": \"\", \"zerolinecolor\": \"white\"}, \"yaxis\": {\"backgroundcolor\": \"#E5ECF6\", \"gridcolor\": \"white\", \"gridwidth\": 2, \"linecolor\": \"white\", \"showbackground\": true, \"ticks\": \"\", \"zerolinecolor\": \"white\"}, \"zaxis\": {\"backgroundcolor\": \"#E5ECF6\", \"gridcolor\": \"white\", \"gridwidth\": 2, \"linecolor\": \"white\", \"showbackground\": true, \"ticks\": \"\", \"zerolinecolor\": \"white\"}}, \"shapedefaults\": {\"line\": {\"color\": \"#2a3f5f\"}}, \"ternary\": {\"aaxis\": {\"gridcolor\": \"white\", \"linecolor\": \"white\", \"ticks\": \"\"}, \"baxis\": {\"gridcolor\": \"white\", \"linecolor\": \"white\", \"ticks\": \"\"}, \"bgcolor\": \"#E5ECF6\", \"caxis\": {\"gridcolor\": \"white\", \"linecolor\": \"white\", \"ticks\": \"\"}}, \"title\": {\"x\": 0.05}, \"xaxis\": {\"automargin\": true, \"gridcolor\": \"white\", \"linecolor\": \"white\", \"ticks\": \"\", \"title\": {\"standoff\": 15}, \"zerolinecolor\": \"white\", \"zerolinewidth\": 2}, \"yaxis\": {\"automargin\": true, \"gridcolor\": \"white\", \"linecolor\": \"white\", \"ticks\": \"\", \"title\": {\"standoff\": 15}, \"zerolinecolor\": \"white\", \"zerolinewidth\": 2}}}, \"title\": {\"text\": \"Cholesterol vs T\\u0119tno vs Wiek\"}},                        {\"responsive\": true}                    ).then(function(){\n",
       "                            \n",
       "var gd = document.getElementById('fb1620ef-5926-473e-a120-c69209f773ba');\n",
       "var x = new MutationObserver(function (mutations, observer) {{\n",
       "        var display = window.getComputedStyle(gd).display;\n",
       "        if (!display || display === 'none') {{\n",
       "            console.log([gd, 'removed!']);\n",
       "            Plotly.purge(gd);\n",
       "            observer.disconnect();\n",
       "        }}\n",
       "}});\n",
       "\n",
       "// Listen for the removal of the full notebook cells\n",
       "var notebookContainer = gd.closest('#notebook-container');\n",
       "if (notebookContainer) {{\n",
       "    x.observe(notebookContainer, {childList: true});\n",
       "}}\n",
       "\n",
       "// Listen for the clearing of the current output cell\n",
       "var outputEl = gd.closest('.output');\n",
       "if (outputEl) {{\n",
       "    x.observe(outputEl, {childList: true});\n",
       "}}\n",
       "\n",
       "                        })                };                });            </script>        </div>"
      ]
     },
     "metadata": {},
     "output_type": "display_data"
    }
   ],
   "source": [
    "trace = go.Scatter3d(\n",
    "    x = data['chol'],\n",
    "    y = data['trestbps'],\n",
    "    z = data['age'],\n",
    "    name = 'Marvel',\n",
    "    mode = 'markers',\n",
    "    marker = dict(\n",
    "         size = 10,\n",
    "         color = data['age']\n",
    "    )\n",
    ")\n",
    "\n",
    "df = [trace]\n",
    "\n",
    "layout = go.Layout(\n",
    "    title = 'Cholesterol vs Tętno vs Wiek',\n",
    "    margin=dict(\n",
    "        l=0,\n",
    "        r=0,\n",
    "        b=0,\n",
    "        t=0  \n",
    "    ),\n",
    "    scene = dict(\n",
    "            xaxis = dict(title  = 'Cholesterol'),\n",
    "            yaxis = dict(title  = 'Tętno'),\n",
    "            zaxis = dict(title  = 'Wiek')\n",
    "        )\n",
    "    \n",
    ")\n",
    "fig = go.Figure(data = df, layout=layout)\n",
    "py.iplot(fig)"
   ]
  },
  {
   "cell_type": "markdown",
   "metadata": {},
   "source": [
    "Jako inny przykład wizualizacji danych został użyty wykres 3D przedstawiający zależność pomiędzy wiekiem, tętnem a cholesterolem. Jest to rzadziej wykorzystywany wykres ponieważ nie zachowana zostaje czytelność danych oraz mamy do czynienia z małą możliwością porównywania poszczególnych elementów. "
   ]
  },
  {
   "cell_type": "markdown",
   "metadata": {},
   "source": [
    "#### BUBBLE CHART"
   ]
  },
  {
   "cell_type": "code",
   "execution_count": 36,
   "metadata": {},
   "outputs": [
    {
     "data": {
      "application/vnd.plotly.v1+json": {
       "config": {
        "linkText": "Export to plot.ly",
        "plotlyServerURL": "https://plot.ly",
        "scrollzoom": true,
        "showLink": false
       },
       "data": [
        {
         "marker": {
          "color": [
           1
          ],
          "size": [
           0
          ],
          "sizemode": "area",
          "sizeref": 0.0006458333333333333
         },
         "mode": "markers",
         "text": [
          "1"
         ],
         "type": "scatter",
         "x": [
          130
         ],
         "y": [
          204
         ]
        }
       ],
       "frames": [
        {
         "data": [
          {
           "marker": {
            "color": [
             1,
             0,
             0,
             1,
             1,
             0,
             0,
             1,
             0
            ],
            "size": [
             2.3,
             0,
             0,
             1.4,
             1.8,
             4,
             1.8,
             4,
             0
            ],
            "sizemode": "area",
            "sizeref": 0.0006458333333333333
           },
           "mode": "markers",
           "text": [
            "1",
            "0",
            "0",
            "1",
            "1",
            "0",
            "0",
            "1",
            "0"
           ],
           "type": "scatter",
           "x": [
            145,
            135,
            140,
            130,
            130,
            150,
            108,
            140,
            124
           ],
           "y": [
            233,
            252,
            195,
            254,
            330,
            407,
            269,
            187,
            197
           ]
          }
         ],
         "name": "63"
        },
        {
         "data": [
          {
           "marker": {
            "color": [
             1,
             0
            ],
            "size": [
             3.5,
             0
            ],
            "sizemode": "area",
            "sizeref": 0.0006458333333333333
           },
           "mode": "markers",
           "text": [
            "1",
            "0"
           ],
           "type": "scatter",
           "x": [
            130,
            120
           ],
           "y": [
            250,
            215
           ]
          }
         ],
         "name": "37"
        },
        {
         "data": [
          {
           "marker": {
            "color": [
             0,
             0,
             1,
             1,
             1,
             0,
             1,
             0,
             1,
             1
            ],
            "size": [
             1.4,
             0,
             0,
             0,
             2,
             0,
             0,
             0,
             0,
             0
            ],
            "sizemode": "area",
            "sizeref": 0.0006458333333333333
           },
           "mode": "markers",
           "text": [
            "0",
            "0",
            "1",
            "1",
            "1",
            "0",
            "1",
            "0",
            "1",
            "1"
           ],
           "type": "scatter",
           "x": [
            130,
            105,
            135,
            112,
            130,
            112,
            110,
            126,
            120,
            110
           ],
           "y": [
            204,
            198,
            203,
            250,
            214,
            268,
            235,
            306,
            157,
            172
           ]
          }
         ],
         "name": "41"
        },
        {
         "data": [
          {
           "marker": {
            "color": [
             1,
             0,
             1,
             1,
             1,
             1,
             1,
             0,
             1,
             0,
             1
            ],
            "size": [
             0.8,
             1.3,
             1.9,
             0,
             0,
             0.6,
             1.2,
             4,
             2.1,
             1.9,
             1.6
            ],
            "sizemode": "area",
            "sizeref": 0.0006458333333333333
           },
           "mode": "markers",
           "text": [
            "1",
            "0",
            "1",
            "1",
            "1",
            "1",
            "1",
            "0",
            "1",
            "0",
            "1"
           ],
           "type": "scatter",
           "x": [
            120,
            140,
            120,
            130,
            120,
            130,
            125,
            200,
            132,
            134,
            130
           ],
           "y": [
            236,
            294,
            193,
            221,
            240,
            256,
            249,
            288,
            184,
            409,
            283
           ]
          }
         ],
         "name": "56"
        },
        {
         "data": [
          {
           "marker": {
            "color": [
             0,
             1,
             1,
             0,
             1,
             1,
             1,
             1,
             1,
             1,
             1,
             1,
             1,
             1,
             0,
             1,
             0
            ],
            "size": [
             0.6,
             0.4,
             1.6,
             0,
             0,
             0.2,
             1.5,
             0.6,
             0.4,
             1,
             1.2,
             0.3,
             0,
             3,
             0.2,
             1.2,
             0
            ],
            "sizemode": "area",
            "sizeref": 0.0006458333333333333
           },
           "mode": "markers",
           "text": [
            "0",
            "1",
            "1",
            "0",
            "1",
            "1",
            "1",
            "1",
            "1",
            "1",
            "1",
            "1",
            "1",
            "1",
            "0",
            "1",
            "0"
           ],
           "type": "scatter",
           "x": [
            120,
            140,
            150,
            128,
            132,
            150,
            110,
            150,
            128,
            165,
            152,
            124,
            154,
            110,
            140,
            130,
            130
           ],
           "y": [
            354,
            192,
            168,
            303,
            207,
            126,
            201,
            276,
            229,
            289,
            274,
            261,
            232,
            335,
            241,
            131,
            236
           ]
          }
         ],
         "name": "57"
        },
        {
         "data": [
          {
           "marker": {
            "color": [
             1,
             1,
             1,
             1,
             0,
             1,
             0,
             1,
             1,
             1,
             1
            ],
            "size": [
             0,
             0.4,
             0,
             0,
             0.6,
             0,
             0.3,
             0,
             0,
             0,
             2.8
            ],
            "sizemode": "area",
            "sizeref": 0.0006458333333333333
           },
           "mode": "markers",
           "text": [
            "1",
            "1",
            "1",
            "1",
            "0",
            "1",
            "0",
            "1",
            "1",
            "1",
            "1"
           ],
           "type": "scatter",
           "x": [
            120,
            130,
            130,
            140,
            108,
            120,
            118,
            120,
            112,
            110,
            120
           ],
           "y": [
            263,
            233,
            219,
            235,
            141,
            220,
            242,
            226,
            290,
            197,
            169
           ]
          }
         ],
         "name": "44"
        },
        {
         "data": [
          {
           "marker": {
            "color": [
             1,
             1,
             1,
             1,
             1,
             1,
             1,
             1,
             0,
             1,
             1,
             1,
             1
            ],
            "size": [
             0.5,
             0.2,
             0.8,
             0,
             0,
             1.2,
             0,
             0.1,
             0.1,
             0,
             0,
             1,
             1
            ],
            "sizemode": "area",
            "sizeref": 0.0006458333333333333
           },
           "mode": "markers",
           "text": [
            "1",
            "1",
            "1",
            "1",
            "1",
            "1",
            "1",
            "1",
            "0",
            "1",
            "1",
            "1",
            "1"
           ],
           "type": "scatter",
           "x": [
            172,
            120,
            134,
            118,
            128,
            152,
            138,
            108,
            136,
            128,
            112,
            125,
            128
           ],
           "y": [
            199,
            325,
            201,
            186,
            205,
            298,
            223,
            233,
            196,
            255,
            230,
            212,
            204
           ]
          }
         ],
         "name": "52"
        },
        {
         "data": [
          {
           "marker": {
            "color": [
             1,
             1,
             0,
             1,
             1,
             1,
             0,
             0,
             0,
             0,
             1,
             1,
             1,
             1,
             1,
             1
            ],
            "size": [
             1.2,
             0.5,
             0,
             1.6,
             0,
             0.4,
             1.6,
             0,
             0,
             0,
             2.2,
             1.4,
             2.8,
             0,
             0,
             3.2
            ],
            "sizemode": "area",
            "sizeref": 0.0006458333333333333
           },
           "mode": "markers",
           "text": [
            "1",
            "1",
            "0",
            "1",
            "1",
            "1",
            "0",
            "0",
            "0",
            "0",
            "1",
            "1",
            "1",
            "1",
            "1",
            "1"
           ],
           "type": "scatter",
           "x": [
            140,
            125,
            135,
            150,
            108,
            120,
            110,
            132,
            108,
            160,
            124,
            120,
            110,
            192,
            110,
            122
           ],
           "y": [
            239,
            273,
            304,
            232,
            309,
            258,
            214,
            288,
            267,
            201,
            266,
            188,
            239,
            283,
            206,
            286
           ]
          }
         ],
         "name": "54"
        },
        {
         "data": [
          {
           "marker": {
            "color": [
             0,
             1,
             1,
             1,
             1,
             1,
             1
            ],
            "size": [
             0.2,
             0.2,
             0,
             0,
             1,
             0,
             0.5
            ],
            "sizemode": "area",
            "sizeref": 0.0006458333333333333
           },
           "mode": "markers",
           "text": [
            "0",
            "1",
            "1",
            "1",
            "1",
            "1",
            "1"
           ],
           "type": "scatter",
           "x": [
            130,
            130,
            122,
            124,
            110,
            130,
            124
           ],
           "y": [
            275,
            245,
            222,
            255,
            229,
            256,
            274
           ]
          }
         ],
         "name": "48"
        },
        {
         "data": [
          {
           "marker": {
            "color": [
             1,
             0,
             0,
             1,
             1
            ],
            "size": [
             0.6,
             0,
             0,
             2,
             0.8
            ],
            "sizemode": "area",
            "sizeref": 0.0006458333333333333
           },
           "mode": "markers",
           "text": [
            "1",
            "0",
            "0",
            "1",
            "1"
           ],
           "type": "scatter",
           "x": [
            130,
            134,
            130,
            120,
            118
           ],
           "y": [
            266,
            271,
            269,
            188,
            149
           ]
          }
         ],
         "name": "49"
        },
        {
         "data": [
          {
           "marker": {
            "color": [
             1,
             0,
             0,
             0,
             1,
             1,
             1,
             1,
             1,
             1
            ],
            "size": [
             1.8,
             0,
             0.2,
             2,
             0.2,
             0.6,
             0,
             1.8,
             2.2,
             2
            ],
            "sizemode": "area",
            "sizeref": 0.0006458333333333333
           },
           "mode": "markers",
           "text": [
            "1",
            "0",
            "0",
            "0",
            "1",
            "1",
            "1",
            "1",
            "1",
            "1"
           ],
           "type": "scatter",
           "x": [
            110,
            180,
            140,
            130,
            128,
            170,
            140,
            125,
            120,
            145
           ],
           "y": [
            211,
            325,
            313,
            303,
            263,
            227,
            335,
            309,
            246,
            212
           ]
          }
         ],
         "name": "64"
        },
        {
         "data": [
          {
           "marker": {
            "color": [
             0,
             0,
             1,
             1,
             0,
             0,
             1,
             1,
             1,
             1,
             1,
             1,
             1,
             1,
             1,
             1,
             0,
             1,
             0
            ],
            "size": [
             1,
             0,
             0,
             0.6,
             1,
             0.6,
             0.4,
             1.8,
             3.2,
             2.5,
             2.2,
             0.8,
             0,
             3,
             0.1,
             2,
             0,
             4.4,
             2.8
            ],
            "sizemode": "area",
            "sizeref": 0.0006458333333333333
           },
           "mode": "markers",
           "text": [
            "0",
            "0",
            "1",
            "1",
            "0",
            "0",
            "1",
            "1",
            "1",
            "1",
            "1",
            "1",
            "1",
            "1",
            "1",
            "1",
            "0",
            "1",
            "0"
           ],
           "type": "scatter",
           "x": [
            150,
            120,
            140,
            105,
            100,
            130,
            125,
            120,
            132,
            112,
            128,
            150,
            125,
            128,
            100,
            146,
            136,
            114,
            170
           ],
           "y": [
            283,
            340,
            211,
            240,
            248,
            197,
            220,
            284,
            224,
            230,
            216,
            270,
            300,
            259,
            234,
            218,
            319,
            318,
            225
           ]
          }
         ],
         "name": "58"
        },
        {
         "data": [
          {
           "marker": {
            "color": [
             0,
             1,
             0,
             0,
             1,
             1,
             1
            ],
            "size": [
             1.6,
             0,
             1.1,
             0,
             2.6,
             0.6,
             0.9
            ],
            "sizemode": "area",
            "sizeref": 0.0006458333333333333
           },
           "mode": "markers",
           "text": [
            "0",
            "1",
            "0",
            "0",
            "1",
            "1",
            "1"
           ],
           "type": "scatter",
           "x": [
            120,
            129,
            120,
            110,
            150,
            140,
            144
           ],
           "y": [
            219,
            196,
            244,
            254,
            243,
            233,
            200
           ]
          }
         ],
         "name": "50"
        },
        {
         "data": [
          {
           "marker": {
            "color": [
             0,
             1,
             1,
             0,
             1,
             0,
             1
            ],
            "size": [
             2.6,
             0.4,
             2.3,
             0,
             0,
             1,
             0.1
            ],
            "sizemode": "area",
            "sizeref": 0.0006458333333333333
           },
           "mode": "markers",
           "text": [
            "0",
            "1",
            "1",
            "0",
            "1",
            "0",
            "1"
           ],
           "type": "scatter",
           "x": [
            150,
            120,
            160,
            146,
            160,
            178,
            112
           ],
           "y": [
            226,
            302,
            228,
            278,
            246,
            228,
            212
           ]
          }
         ],
         "name": "66"
        },
        {
         "data": [
          {
           "marker": {
            "color": [
             1,
             0,
             1,
             1,
             1,
             1,
             0,
             1
            ],
            "size": [
             1.5,
             0.2,
             1.9,
             0,
             1.2,
             2.5,
             3,
             0.1
            ],
            "sizemode": "area",
            "sizeref": 0.0006458333333333333
           },
           "mode": "markers",
           "text": [
            "1",
            "0",
            "1",
            "1",
            "1",
            "1",
            "0",
            "1"
           ],
           "type": "scatter",
           "x": [
            150,
            122,
            130,
            110,
            115,
            120,
            132,
            132
           ],
           "y": [
            247,
            213,
            315,
            211,
            303,
            177,
            341,
            247
           ]
          }
         ],
         "name": "43"
        },
        {
         "data": [
          {
           "marker": {
            "color": [
             0,
             1,
             1
            ],
            "size": [
             1.8,
             0.1,
             2
            ],
            "sizemode": "area",
            "sizeref": 0.0006458333333333333
           },
           "mode": "markers",
           "text": [
            "0",
            "1",
            "1"
           ],
           "type": "scatter",
           "x": [
            140,
            160,
            140
           ],
           "y": [
            239,
            234,
            254
           ]
          }
         ],
         "name": "69"
        },
        {
         "data": [
          {
           "marker": {
            "color": [
             1,
             1,
             1,
             1,
             1,
             1,
             1,
             1,
             1,
             0,
             1,
             1,
             1,
             1
            ],
            "size": [
             0.5,
             1.6,
             0,
             4.2,
             0,
             3.4,
             1.2,
             0,
             0.2,
             0,
             0,
             2.2,
             0.8,
             1
            ],
            "sizemode": "area",
            "sizeref": 0.0006458333333333333
           },
           "mode": "markers",
           "text": [
            "1",
            "1",
            "1",
            "1",
            "1",
            "1",
            "1",
            "1",
            "1",
            "0",
            "1",
            "1",
            "1",
            "1"
           ],
           "type": "scatter",
           "x": [
            135,
            150,
            140,
            178,
            138,
            170,
            110,
            140,
            170,
            174,
            160,
            126,
            134,
            164
           ],
           "y": [
            234,
            212,
            221,
            270,
            271,
            326,
            239,
            177,
            288,
            249,
            273,
            218,
            204,
            176
           ]
          }
         ],
         "name": "59"
        },
        {
         "data": [
          {
           "marker": {
            "color": [
             1,
             0,
             1,
             1,
             1,
             0,
             1,
             1
            ],
            "size": [
             0,
             0.6,
             0.8,
             0.8,
             0,
             0,
             0,
             1.8
            ],
            "sizemode": "area",
            "sizeref": 0.0006458333333333333
           },
           "mode": "markers",
           "text": [
            "1",
            "0",
            "1",
            "1",
            "1",
            "0",
            "1",
            "1"
           ],
           "type": "scatter",
           "x": [
            140,
            102,
            148,
            120,
            120,
            120,
            130,
            136
           ],
           "y": [
            226,
            265,
            244,
            240,
            295,
            209,
            180,
            315
           ]
          }
         ],
         "name": "42"
        },
        {
         "data": [
          {
           "marker": {
            "color": [
             1,
             0,
             1,
             0,
             1,
             1,
             1,
             1
            ],
            "size": [
             1,
             0,
             3.6,
             1,
             2.6,
             3.6,
             1.9,
             0
            ],
            "sizemode": "area",
            "sizeref": 0.0006458333333333333
           },
           "mode": "markers",
           "text": [
            "1",
            "0",
            "1",
            "0",
            "1",
            "1",
            "1",
            "1"
           ],
           "type": "scatter",
           "x": [
            150,
            130,
            120,
            145,
            134,
            138,
            140,
            148
           ],
           "y": [
            243,
            330,
            260,
            307,
            234,
            166,
            207,
            203
           ]
          }
         ],
         "name": "61"
        },
        {
         "data": [
          {
           "marker": {
            "color": [
             1,
             1,
             1
            ],
            "size": [
             1.4,
             2,
             0
            ],
            "sizemode": "area",
            "sizeref": 0.0006458333333333333
           },
           "mode": "markers",
           "text": [
            "1",
            "1",
            "1"
           ],
           "type": "scatter",
           "x": [
            140,
            110,
            152
           ],
           "y": [
            199,
            167,
            223
           ]
          }
         ],
         "name": "40"
        },
        {
         "data": [
          {
           "marker": {
            "color": [
             0,
             0,
             0
            ],
            "size": [
             0.4,
             0,
             1.6
            ],
            "sizemode": "area",
            "sizeref": 0.0006458333333333333
           },
           "mode": "markers",
           "text": [
            "0",
            "0",
            "0"
           ],
           "type": "scatter",
           "x": [
            160,
            110,
            112
           ],
           "y": [
            302,
            265,
            149
           ]
          }
         ],
         "name": "71"
        },
        {
         "data": [
          {
           "marker": {
            "color": [
             1,
             1,
             0,
             0,
             1,
             1,
             1,
             1,
             0,
             0,
             1,
             1
            ],
            "size": [
             0.6,
             1.4,
             1.5,
             0.5,
             1.2,
             0,
             0,
             2.4,
             0.6,
             1.2,
             1.6,
             4.2
            ],
            "sizemode": "area",
            "sizeref": 0.0006458333333333333
           },
           "mode": "markers",
           "text": [
            "1",
            "1",
            "0",
            "0",
            "1",
            "1",
            "1",
            "1",
            "0",
            "0",
            "1",
            "1"
           ],
           "type": "scatter",
           "x": [
            110,
            125,
            140,
            130,
            100,
            94,
            140,
            125,
            120,
            130,
            140,
            140
           ],
           "y": [
            175,
            213,
            308,
            256,
            222,
            227,
            261,
            245,
            295,
            305,
            299,
            298
           ]
          }
         ],
         "name": "51"
        },
        {
         "data": [
          {
           "marker": {
            "color": [
             0,
             1,
             0,
             0,
             0,
             1,
             1,
             1
            ],
            "size": [
             0.8,
             0.4,
             0.8,
             0.8,
             1,
             0.6,
             2.8,
             1.4
            ],
            "sizemode": "area",
            "sizeref": 0.0006458333333333333
           },
           "mode": "markers",
           "text": [
            "0",
            "1",
            "0",
            "0",
            "0",
            "1",
            "1",
            "1"
           ],
           "type": "scatter",
           "x": [
            140,
            120,
            155,
            160,
            150,
            110,
            135,
            138
           ],
           "y": [
            417,
            177,
            269,
            360,
            225,
            248,
            254,
            282
           ]
          }
         ],
         "name": "65"
        },
        {
         "data": [
          {
           "marker": {
            "color": [
             1,
             0,
             0,
             0,
             1,
             1,
             1,
             1
            ],
            "size": [
             1.2,
             0.4,
             0,
             0,
             0,
             0,
             3.1,
             2
            ],
            "sizemode": "area",
            "sizeref": 0.0006458333333333333
           },
           "mode": "markers",
           "text": [
            "1",
            "0",
            "0",
            "0",
            "1",
            "1",
            "1",
            "1"
           ],
           "type": "scatter",
           "x": [
            130,
            130,
            128,
            138,
            142,
            130,
            140,
            123
           ],
           "y": [
            197,
            264,
            216,
            234,
            226,
            246,
            203,
            282
           ]
          }
         ],
         "name": "53"
        },
        {
         "data": [
          {
           "marker": {
            "color": [
             0,
             1,
             0,
             0,
             1,
             1,
             1
            ],
            "size": [
             1.4,
             0,
             0,
             0,
             3.6,
             0.8,
             1.8
            ],
            "sizemode": "area",
            "sizeref": 0.0006458333333333333
           },
           "mode": "markers",
           "text": [
            "0",
            "1",
            "0",
            "0",
            "1",
            "1",
            "1"
           ],
           "type": "scatter",
           "x": [
            142,
            101,
            105,
            138,
            150,
            120,
            140
           ],
           "y": [
            177,
            197,
            204,
            243,
            231,
            249,
            311
           ]
          }
         ],
         "name": "46"
        },
        {
         "data": [
          {
           "marker": {
            "color": [
             1,
             1,
             0,
             1,
             0,
             0,
             1,
             1
            ],
            "size": [
             3,
             0,
             0.6,
             0,
             0,
             0.2,
             0,
             1.2
            ],
            "sizemode": "area",
            "sizeref": 0.0006458333333333333
           },
           "mode": "markers",
           "text": [
            "1",
            "1",
            "0",
            "1",
            "0",
            "0",
            "1",
            "1"
           ],
           "type": "scatter",
           "x": [
            104,
            115,
            130,
            128,
            112,
            138,
            142,
            110
           ],
           "y": [
            208,
            260,
            234,
            308,
            160,
            236,
            309,
            264
           ]
          }
         ],
         "name": "45"
        },
        {
         "data": [
          {
           "marker": {
            "color": [
             1,
             0,
             0,
             1
            ],
            "size": [
             0,
             0,
             0,
             1.2
            ],
            "sizemode": "area",
            "sizeref": 0.0006458333333333333
           },
           "mode": "markers",
           "text": [
            "1",
            "0",
            "0",
            "1"
           ],
           "type": "scatter",
           "x": [
            140,
            94,
            138,
            118
           ],
           "y": [
            321,
            199,
            220,
            219
           ]
          }
         ],
         "name": "39"
        },
        {
         "data": [
          {
           "marker": {
            "color": [
             1,
             1,
             1,
             1,
             1
            ],
            "size": [
             0,
             0.1,
             0,
             0,
             1
            ],
            "sizemode": "area",
            "sizeref": 0.0006458333333333333
           },
           "mode": "markers",
           "text": [
            "1",
            "1",
            "1",
            "1",
            "1"
           ],
           "type": "scatter",
           "x": [
            138,
            112,
            130,
            108,
            110
           ],
           "y": [
            257,
            204,
            253,
            243,
            275
           ]
          }
         ],
         "name": "47"
        },
        {
         "data": [
          {
           "marker": {
            "color": [
             1,
             0,
             0,
             1,
             0,
             1,
             0,
             0,
             1,
             0,
             0
            ],
            "size": [
             1.8,
             0,
             1.2,
             0,
             3.6,
             1.8,
             6.2,
             1.2,
             1.4,
             1.9,
             1.4
            ],
            "sizemode": "area",
            "sizeref": 0.0006458333333333333
           },
           "mode": "markers",
           "text": [
            "1",
            "0",
            "0",
            "1",
            "0",
            "1",
            "0",
            "0",
            "1",
            "0",
            "0"
           ],
           "type": "scatter",
           "x": [
            130,
            124,
            140,
            128,
            140,
            120,
            160,
            130,
            120,
            138,
            150
           ],
           "y": [
            231,
            209,
            394,
            208,
            268,
            267,
            164,
            263,
            281,
            294,
            244
           ]
          }
         ],
         "name": "62"
        },
        {
         "data": [
          {
           "marker": {
            "color": [
             1,
             0
            ],
            "size": [
             0,
             0.7
            ],
            "sizemode": "area",
            "sizeref": 0.0006458333333333333
           },
           "mode": "markers",
           "text": [
            "1",
            "0"
           ],
           "type": "scatter",
           "x": [
            118,
            118
           ],
           "y": [
            182,
            210
           ]
          }
         ],
         "name": "34"
        },
        {
         "data": [
          {
           "marker": {
            "color": [
             0,
             1,
             1,
             1
            ],
            "size": [
             1.4,
             0,
             1.6,
             0
            ],
            "sizemode": "area",
            "sizeref": 0.0006458333333333333
           },
           "mode": "markers",
           "text": [
            "0",
            "1",
            "1",
            "1"
           ],
           "type": "scatter",
           "x": [
            138,
            122,
            120,
            126
           ],
           "y": [
            183,
            192,
            198,
            282
           ]
          }
         ],
         "name": "35"
        },
        {
         "data": [
          {
           "marker": {
            "color": [
             1
            ],
            "size": [
             0
            ],
            "sizemode": "area",
            "sizeref": 0.0006458333333333333
           },
           "mode": "markers",
           "text": [
            "1"
           ],
           "type": "scatter",
           "x": [
            130
           ],
           "y": [
            204
           ]
          }
         ],
         "name": "29"
        },
        {
         "data": [
          {
           "marker": {
            "color": [
             0,
             1,
             0,
             1,
             1,
             1,
             0,
             0
            ],
            "size": [
             1.4,
             0,
             1.2,
             1.2,
             5.6,
             0.8,
             3.4,
             2
            ],
            "sizemode": "area",
            "sizeref": 0.0006458333333333333
           },
           "mode": "markers",
           "text": [
            "0",
            "1",
            "0",
            "1",
            "1",
            "1",
            "0",
            "0"
           ],
           "type": "scatter",
           "x": [
            135,
            130,
            132,
            132,
            140,
            160,
            180,
            128
           ],
           "y": [
            250,
            262,
            342,
            353,
            217,
            289,
            327,
            205
           ]
          }
         ],
         "name": "55"
        },
        {
         "data": [
          {
           "marker": {
            "color": [
             0,
             0,
             0,
             1,
             1,
             1,
             1,
             1,
             1,
             0,
             1
            ],
            "size": [
             0,
             0,
             0.9,
             2.4,
             1.4,
             1.4,
             2.8,
             3,
             2.8,
             2.6,
             1.2
            ],
            "sizemode": "area",
            "sizeref": 0.0006458333333333333
           },
           "mode": "markers",
           "text": [
            "0",
            "0",
            "0",
            "1",
            "1",
            "1",
            "1",
            "1",
            "1",
            "0",
            "1"
           ],
           "type": "scatter",
           "x": [
            102,
            120,
            150,
            130,
            117,
            130,
            145,
            140,
            125,
            150,
            140
           ],
           "y": [
            318,
            178,
            240,
            206,
            230,
            253,
            282,
            185,
            258,
            258,
            293
           ]
          }
         ],
         "name": "60"
        },
        {
         "data": [
          {
           "marker": {
            "color": [
             0,
             0,
             0,
             1,
             1,
             1,
             1,
             1,
             1
            ],
            "size": [
             1.6,
             0,
             0.3,
             1.5,
             2.6,
             0.2,
             0.9,
             1,
             0.8
            ],
            "sizemode": "area",
            "sizeref": 0.0006458333333333333
           },
           "mode": "markers",
           "text": [
            "0",
            "0",
            "0",
            "1",
            "1",
            "1",
            "1",
            "1",
            "1"
           ],
           "type": "scatter",
           "x": [
            115,
            152,
            106,
            160,
            120,
            125,
            100,
            120,
            152
           ],
           "y": [
            564,
            277,
            223,
            286,
            229,
            254,
            299,
            237,
            212
           ]
          }
         ],
         "name": "67"
        },
        {
         "data": [
          {
           "marker": {
            "color": [
             1,
             0,
             1,
             1
            ],
            "size": [
             1,
             1.5,
             1.6,
             3.4
            ],
            "sizemode": "area",
            "sizeref": 0.0006458333333333333
           },
           "mode": "markers",
           "text": [
            "1",
            "0",
            "1",
            "1"
           ],
           "type": "scatter",
           "x": [
            118,
            120,
            180,
            144
           ],
           "y": [
            277,
            211,
            274,
            193
           ]
          }
         ],
         "name": "68"
        },
        {
         "data": [
          {
           "marker": {
            "color": [
             0
            ],
            "size": [
             0.2
            ],
            "sizemode": "area",
            "sizeref": 0.0006458333333333333
           },
           "mode": "markers",
           "text": [
            "0"
           ],
           "type": "scatter",
           "x": [
            120
           ],
           "y": [
            269
           ]
          }
         ],
         "name": "74"
        },
        {
         "data": [
          {
           "marker": {
            "color": [
             0
            ],
            "size": [
             1.1
            ],
            "sizemode": "area",
            "sizeref": 0.0006458333333333333
           },
           "mode": "markers",
           "text": [
            "0"
           ],
           "type": "scatter",
           "x": [
            140
           ],
           "y": [
            197
           ]
          }
         ],
         "name": "76"
        },
        {
         "data": [
          {
           "marker": {
            "color": [
             1,
             1,
             1,
             1
            ],
            "size": [
             0,
             2.6,
             2.4,
             2.9
            ],
            "sizemode": "area",
            "sizeref": 0.0006458333333333333
           },
           "mode": "markers",
           "text": [
            "1",
            "1",
            "1",
            "1"
           ],
           "type": "scatter",
           "x": [
            156,
            145,
            130,
            160
           ],
           "y": [
            245,
            174,
            322,
            269
           ]
          }
         ],
         "name": "70"
        },
        {
         "data": [
          {
           "marker": {
            "color": [
             1,
             1,
             1
            ],
            "size": [
             0,
             0,
             3.8
            ],
            "sizemode": "area",
            "sizeref": 0.0006458333333333333
           },
           "mode": "markers",
           "text": [
            "1",
            "1",
            "1"
           ],
           "type": "scatter",
           "x": [
            138,
            138,
            120
           ],
           "y": [
            175,
            175,
            231
           ]
          }
         ],
         "name": "38"
        },
        {
         "data": [
          {
           "marker": {
            "color": [
             1
            ],
            "size": [
             0
            ],
            "sizemode": "area",
            "sizeref": 0.0006458333333333333
           },
           "mode": "markers",
           "text": [
            "1"
           ],
           "type": "scatter",
           "x": [
            125
           ],
           "y": [
            304
           ]
          }
         ],
         "name": "77"
        }
       ],
       "layout": {
        "height": 650,
        "hovermode": "closest",
        "margin": {
         "b": 50,
         "pad": 5,
         "t": 50
        },
        "showlegend": false,
        "sliders": [
         {
          "active": 0,
          "currentvalue": {
           "font": {
            "size": 20
           },
           "prefix": "Year:",
           "visible": true,
           "xanchor": "right"
          },
          "len": 0.9,
          "pad": {
           "b": 10,
           "t": 50
          },
          "steps": [
           {
            "args": [
             [
              63
             ],
             {
              "frame": {
               "duration": 300,
               "redraw": false
              },
              "mode": "immediate",
              "transition": {
               "duration": 300
              }
             }
            ],
            "label": "63",
            "method": "animate"
           },
           {
            "args": [
             [
              37
             ],
             {
              "frame": {
               "duration": 300,
               "redraw": false
              },
              "mode": "immediate",
              "transition": {
               "duration": 300
              }
             }
            ],
            "label": "37",
            "method": "animate"
           },
           {
            "args": [
             [
              41
             ],
             {
              "frame": {
               "duration": 300,
               "redraw": false
              },
              "mode": "immediate",
              "transition": {
               "duration": 300
              }
             }
            ],
            "label": "41",
            "method": "animate"
           },
           {
            "args": [
             [
              56
             ],
             {
              "frame": {
               "duration": 300,
               "redraw": false
              },
              "mode": "immediate",
              "transition": {
               "duration": 300
              }
             }
            ],
            "label": "56",
            "method": "animate"
           },
           {
            "args": [
             [
              57
             ],
             {
              "frame": {
               "duration": 300,
               "redraw": false
              },
              "mode": "immediate",
              "transition": {
               "duration": 300
              }
             }
            ],
            "label": "57",
            "method": "animate"
           },
           {
            "args": [
             [
              44
             ],
             {
              "frame": {
               "duration": 300,
               "redraw": false
              },
              "mode": "immediate",
              "transition": {
               "duration": 300
              }
             }
            ],
            "label": "44",
            "method": "animate"
           },
           {
            "args": [
             [
              52
             ],
             {
              "frame": {
               "duration": 300,
               "redraw": false
              },
              "mode": "immediate",
              "transition": {
               "duration": 300
              }
             }
            ],
            "label": "52",
            "method": "animate"
           },
           {
            "args": [
             [
              54
             ],
             {
              "frame": {
               "duration": 300,
               "redraw": false
              },
              "mode": "immediate",
              "transition": {
               "duration": 300
              }
             }
            ],
            "label": "54",
            "method": "animate"
           },
           {
            "args": [
             [
              48
             ],
             {
              "frame": {
               "duration": 300,
               "redraw": false
              },
              "mode": "immediate",
              "transition": {
               "duration": 300
              }
             }
            ],
            "label": "48",
            "method": "animate"
           },
           {
            "args": [
             [
              49
             ],
             {
              "frame": {
               "duration": 300,
               "redraw": false
              },
              "mode": "immediate",
              "transition": {
               "duration": 300
              }
             }
            ],
            "label": "49",
            "method": "animate"
           },
           {
            "args": [
             [
              64
             ],
             {
              "frame": {
               "duration": 300,
               "redraw": false
              },
              "mode": "immediate",
              "transition": {
               "duration": 300
              }
             }
            ],
            "label": "64",
            "method": "animate"
           },
           {
            "args": [
             [
              58
             ],
             {
              "frame": {
               "duration": 300,
               "redraw": false
              },
              "mode": "immediate",
              "transition": {
               "duration": 300
              }
             }
            ],
            "label": "58",
            "method": "animate"
           },
           {
            "args": [
             [
              50
             ],
             {
              "frame": {
               "duration": 300,
               "redraw": false
              },
              "mode": "immediate",
              "transition": {
               "duration": 300
              }
             }
            ],
            "label": "50",
            "method": "animate"
           },
           {
            "args": [
             [
              66
             ],
             {
              "frame": {
               "duration": 300,
               "redraw": false
              },
              "mode": "immediate",
              "transition": {
               "duration": 300
              }
             }
            ],
            "label": "66",
            "method": "animate"
           },
           {
            "args": [
             [
              43
             ],
             {
              "frame": {
               "duration": 300,
               "redraw": false
              },
              "mode": "immediate",
              "transition": {
               "duration": 300
              }
             }
            ],
            "label": "43",
            "method": "animate"
           },
           {
            "args": [
             [
              69
             ],
             {
              "frame": {
               "duration": 300,
               "redraw": false
              },
              "mode": "immediate",
              "transition": {
               "duration": 300
              }
             }
            ],
            "label": "69",
            "method": "animate"
           },
           {
            "args": [
             [
              59
             ],
             {
              "frame": {
               "duration": 300,
               "redraw": false
              },
              "mode": "immediate",
              "transition": {
               "duration": 300
              }
             }
            ],
            "label": "59",
            "method": "animate"
           },
           {
            "args": [
             [
              42
             ],
             {
              "frame": {
               "duration": 300,
               "redraw": false
              },
              "mode": "immediate",
              "transition": {
               "duration": 300
              }
             }
            ],
            "label": "42",
            "method": "animate"
           },
           {
            "args": [
             [
              61
             ],
             {
              "frame": {
               "duration": 300,
               "redraw": false
              },
              "mode": "immediate",
              "transition": {
               "duration": 300
              }
             }
            ],
            "label": "61",
            "method": "animate"
           },
           {
            "args": [
             [
              40
             ],
             {
              "frame": {
               "duration": 300,
               "redraw": false
              },
              "mode": "immediate",
              "transition": {
               "duration": 300
              }
             }
            ],
            "label": "40",
            "method": "animate"
           },
           {
            "args": [
             [
              71
             ],
             {
              "frame": {
               "duration": 300,
               "redraw": false
              },
              "mode": "immediate",
              "transition": {
               "duration": 300
              }
             }
            ],
            "label": "71",
            "method": "animate"
           },
           {
            "args": [
             [
              51
             ],
             {
              "frame": {
               "duration": 300,
               "redraw": false
              },
              "mode": "immediate",
              "transition": {
               "duration": 300
              }
             }
            ],
            "label": "51",
            "method": "animate"
           },
           {
            "args": [
             [
              65
             ],
             {
              "frame": {
               "duration": 300,
               "redraw": false
              },
              "mode": "immediate",
              "transition": {
               "duration": 300
              }
             }
            ],
            "label": "65",
            "method": "animate"
           },
           {
            "args": [
             [
              53
             ],
             {
              "frame": {
               "duration": 300,
               "redraw": false
              },
              "mode": "immediate",
              "transition": {
               "duration": 300
              }
             }
            ],
            "label": "53",
            "method": "animate"
           },
           {
            "args": [
             [
              46
             ],
             {
              "frame": {
               "duration": 300,
               "redraw": false
              },
              "mode": "immediate",
              "transition": {
               "duration": 300
              }
             }
            ],
            "label": "46",
            "method": "animate"
           },
           {
            "args": [
             [
              45
             ],
             {
              "frame": {
               "duration": 300,
               "redraw": false
              },
              "mode": "immediate",
              "transition": {
               "duration": 300
              }
             }
            ],
            "label": "45",
            "method": "animate"
           },
           {
            "args": [
             [
              39
             ],
             {
              "frame": {
               "duration": 300,
               "redraw": false
              },
              "mode": "immediate",
              "transition": {
               "duration": 300
              }
             }
            ],
            "label": "39",
            "method": "animate"
           },
           {
            "args": [
             [
              47
             ],
             {
              "frame": {
               "duration": 300,
               "redraw": false
              },
              "mode": "immediate",
              "transition": {
               "duration": 300
              }
             }
            ],
            "label": "47",
            "method": "animate"
           },
           {
            "args": [
             [
              62
             ],
             {
              "frame": {
               "duration": 300,
               "redraw": false
              },
              "mode": "immediate",
              "transition": {
               "duration": 300
              }
             }
            ],
            "label": "62",
            "method": "animate"
           },
           {
            "args": [
             [
              34
             ],
             {
              "frame": {
               "duration": 300,
               "redraw": false
              },
              "mode": "immediate",
              "transition": {
               "duration": 300
              }
             }
            ],
            "label": "34",
            "method": "animate"
           },
           {
            "args": [
             [
              35
             ],
             {
              "frame": {
               "duration": 300,
               "redraw": false
              },
              "mode": "immediate",
              "transition": {
               "duration": 300
              }
             }
            ],
            "label": "35",
            "method": "animate"
           },
           {
            "args": [
             [
              29
             ],
             {
              "frame": {
               "duration": 300,
               "redraw": false
              },
              "mode": "immediate",
              "transition": {
               "duration": 300
              }
             }
            ],
            "label": "29",
            "method": "animate"
           },
           {
            "args": [
             [
              55
             ],
             {
              "frame": {
               "duration": 300,
               "redraw": false
              },
              "mode": "immediate",
              "transition": {
               "duration": 300
              }
             }
            ],
            "label": "55",
            "method": "animate"
           },
           {
            "args": [
             [
              60
             ],
             {
              "frame": {
               "duration": 300,
               "redraw": false
              },
              "mode": "immediate",
              "transition": {
               "duration": 300
              }
             }
            ],
            "label": "60",
            "method": "animate"
           },
           {
            "args": [
             [
              67
             ],
             {
              "frame": {
               "duration": 300,
               "redraw": false
              },
              "mode": "immediate",
              "transition": {
               "duration": 300
              }
             }
            ],
            "label": "67",
            "method": "animate"
           },
           {
            "args": [
             [
              68
             ],
             {
              "frame": {
               "duration": 300,
               "redraw": false
              },
              "mode": "immediate",
              "transition": {
               "duration": 300
              }
             }
            ],
            "label": "68",
            "method": "animate"
           },
           {
            "args": [
             [
              74
             ],
             {
              "frame": {
               "duration": 300,
               "redraw": false
              },
              "mode": "immediate",
              "transition": {
               "duration": 300
              }
             }
            ],
            "label": "74",
            "method": "animate"
           },
           {
            "args": [
             [
              76
             ],
             {
              "frame": {
               "duration": 300,
               "redraw": false
              },
              "mode": "immediate",
              "transition": {
               "duration": 300
              }
             }
            ],
            "label": "76",
            "method": "animate"
           },
           {
            "args": [
             [
              70
             ],
             {
              "frame": {
               "duration": 300,
               "redraw": false
              },
              "mode": "immediate",
              "transition": {
               "duration": 300
              }
             }
            ],
            "label": "70",
            "method": "animate"
           },
           {
            "args": [
             [
              38
             ],
             {
              "frame": {
               "duration": 300,
               "redraw": false
              },
              "mode": "immediate",
              "transition": {
               "duration": 300
              }
             }
            ],
            "label": "38",
            "method": "animate"
           },
           {
            "args": [
             [
              77
             ],
             {
              "frame": {
               "duration": 300,
               "redraw": false
              },
              "mode": "immediate",
              "transition": {
               "duration": 300
              }
             }
            ],
            "label": "77",
            "method": "animate"
           }
          ],
          "transition": {
           "duration": 300,
           "easing": "cubic-in-out"
          },
          "x": 0.1,
          "xanchor": "left",
          "y": 0,
          "yanchor": "top"
         }
        ],
        "template": {
         "data": {
          "bar": [
           {
            "error_x": {
             "color": "#2a3f5f"
            },
            "error_y": {
             "color": "#2a3f5f"
            },
            "marker": {
             "line": {
              "color": "#E5ECF6",
              "width": 0.5
             }
            },
            "type": "bar"
           }
          ],
          "barpolar": [
           {
            "marker": {
             "line": {
              "color": "#E5ECF6",
              "width": 0.5
             }
            },
            "type": "barpolar"
           }
          ],
          "carpet": [
           {
            "aaxis": {
             "endlinecolor": "#2a3f5f",
             "gridcolor": "white",
             "linecolor": "white",
             "minorgridcolor": "white",
             "startlinecolor": "#2a3f5f"
            },
            "baxis": {
             "endlinecolor": "#2a3f5f",
             "gridcolor": "white",
             "linecolor": "white",
             "minorgridcolor": "white",
             "startlinecolor": "#2a3f5f"
            },
            "type": "carpet"
           }
          ],
          "choropleth": [
           {
            "colorbar": {
             "outlinewidth": 0,
             "ticks": ""
            },
            "type": "choropleth"
           }
          ],
          "contour": [
           {
            "colorbar": {
             "outlinewidth": 0,
             "ticks": ""
            },
            "colorscale": [
             [
              0,
              "#0d0887"
             ],
             [
              0.1111111111111111,
              "#46039f"
             ],
             [
              0.2222222222222222,
              "#7201a8"
             ],
             [
              0.3333333333333333,
              "#9c179e"
             ],
             [
              0.4444444444444444,
              "#bd3786"
             ],
             [
              0.5555555555555556,
              "#d8576b"
             ],
             [
              0.6666666666666666,
              "#ed7953"
             ],
             [
              0.7777777777777778,
              "#fb9f3a"
             ],
             [
              0.8888888888888888,
              "#fdca26"
             ],
             [
              1,
              "#f0f921"
             ]
            ],
            "type": "contour"
           }
          ],
          "contourcarpet": [
           {
            "colorbar": {
             "outlinewidth": 0,
             "ticks": ""
            },
            "type": "contourcarpet"
           }
          ],
          "heatmap": [
           {
            "colorbar": {
             "outlinewidth": 0,
             "ticks": ""
            },
            "colorscale": [
             [
              0,
              "#0d0887"
             ],
             [
              0.1111111111111111,
              "#46039f"
             ],
             [
              0.2222222222222222,
              "#7201a8"
             ],
             [
              0.3333333333333333,
              "#9c179e"
             ],
             [
              0.4444444444444444,
              "#bd3786"
             ],
             [
              0.5555555555555556,
              "#d8576b"
             ],
             [
              0.6666666666666666,
              "#ed7953"
             ],
             [
              0.7777777777777778,
              "#fb9f3a"
             ],
             [
              0.8888888888888888,
              "#fdca26"
             ],
             [
              1,
              "#f0f921"
             ]
            ],
            "type": "heatmap"
           }
          ],
          "heatmapgl": [
           {
            "colorbar": {
             "outlinewidth": 0,
             "ticks": ""
            },
            "colorscale": [
             [
              0,
              "#0d0887"
             ],
             [
              0.1111111111111111,
              "#46039f"
             ],
             [
              0.2222222222222222,
              "#7201a8"
             ],
             [
              0.3333333333333333,
              "#9c179e"
             ],
             [
              0.4444444444444444,
              "#bd3786"
             ],
             [
              0.5555555555555556,
              "#d8576b"
             ],
             [
              0.6666666666666666,
              "#ed7953"
             ],
             [
              0.7777777777777778,
              "#fb9f3a"
             ],
             [
              0.8888888888888888,
              "#fdca26"
             ],
             [
              1,
              "#f0f921"
             ]
            ],
            "type": "heatmapgl"
           }
          ],
          "histogram": [
           {
            "marker": {
             "colorbar": {
              "outlinewidth": 0,
              "ticks": ""
             }
            },
            "type": "histogram"
           }
          ],
          "histogram2d": [
           {
            "colorbar": {
             "outlinewidth": 0,
             "ticks": ""
            },
            "colorscale": [
             [
              0,
              "#0d0887"
             ],
             [
              0.1111111111111111,
              "#46039f"
             ],
             [
              0.2222222222222222,
              "#7201a8"
             ],
             [
              0.3333333333333333,
              "#9c179e"
             ],
             [
              0.4444444444444444,
              "#bd3786"
             ],
             [
              0.5555555555555556,
              "#d8576b"
             ],
             [
              0.6666666666666666,
              "#ed7953"
             ],
             [
              0.7777777777777778,
              "#fb9f3a"
             ],
             [
              0.8888888888888888,
              "#fdca26"
             ],
             [
              1,
              "#f0f921"
             ]
            ],
            "type": "histogram2d"
           }
          ],
          "histogram2dcontour": [
           {
            "colorbar": {
             "outlinewidth": 0,
             "ticks": ""
            },
            "colorscale": [
             [
              0,
              "#0d0887"
             ],
             [
              0.1111111111111111,
              "#46039f"
             ],
             [
              0.2222222222222222,
              "#7201a8"
             ],
             [
              0.3333333333333333,
              "#9c179e"
             ],
             [
              0.4444444444444444,
              "#bd3786"
             ],
             [
              0.5555555555555556,
              "#d8576b"
             ],
             [
              0.6666666666666666,
              "#ed7953"
             ],
             [
              0.7777777777777778,
              "#fb9f3a"
             ],
             [
              0.8888888888888888,
              "#fdca26"
             ],
             [
              1,
              "#f0f921"
             ]
            ],
            "type": "histogram2dcontour"
           }
          ],
          "mesh3d": [
           {
            "colorbar": {
             "outlinewidth": 0,
             "ticks": ""
            },
            "type": "mesh3d"
           }
          ],
          "parcoords": [
           {
            "line": {
             "colorbar": {
              "outlinewidth": 0,
              "ticks": ""
             }
            },
            "type": "parcoords"
           }
          ],
          "pie": [
           {
            "automargin": true,
            "type": "pie"
           }
          ],
          "scatter": [
           {
            "marker": {
             "colorbar": {
              "outlinewidth": 0,
              "ticks": ""
             }
            },
            "type": "scatter"
           }
          ],
          "scatter3d": [
           {
            "line": {
             "colorbar": {
              "outlinewidth": 0,
              "ticks": ""
             }
            },
            "marker": {
             "colorbar": {
              "outlinewidth": 0,
              "ticks": ""
             }
            },
            "type": "scatter3d"
           }
          ],
          "scattercarpet": [
           {
            "marker": {
             "colorbar": {
              "outlinewidth": 0,
              "ticks": ""
             }
            },
            "type": "scattercarpet"
           }
          ],
          "scattergeo": [
           {
            "marker": {
             "colorbar": {
              "outlinewidth": 0,
              "ticks": ""
             }
            },
            "type": "scattergeo"
           }
          ],
          "scattergl": [
           {
            "marker": {
             "colorbar": {
              "outlinewidth": 0,
              "ticks": ""
             }
            },
            "type": "scattergl"
           }
          ],
          "scattermapbox": [
           {
            "marker": {
             "colorbar": {
              "outlinewidth": 0,
              "ticks": ""
             }
            },
            "type": "scattermapbox"
           }
          ],
          "scatterpolar": [
           {
            "marker": {
             "colorbar": {
              "outlinewidth": 0,
              "ticks": ""
             }
            },
            "type": "scatterpolar"
           }
          ],
          "scatterpolargl": [
           {
            "marker": {
             "colorbar": {
              "outlinewidth": 0,
              "ticks": ""
             }
            },
            "type": "scatterpolargl"
           }
          ],
          "scatterternary": [
           {
            "marker": {
             "colorbar": {
              "outlinewidth": 0,
              "ticks": ""
             }
            },
            "type": "scatterternary"
           }
          ],
          "surface": [
           {
            "colorbar": {
             "outlinewidth": 0,
             "ticks": ""
            },
            "colorscale": [
             [
              0,
              "#0d0887"
             ],
             [
              0.1111111111111111,
              "#46039f"
             ],
             [
              0.2222222222222222,
              "#7201a8"
             ],
             [
              0.3333333333333333,
              "#9c179e"
             ],
             [
              0.4444444444444444,
              "#bd3786"
             ],
             [
              0.5555555555555556,
              "#d8576b"
             ],
             [
              0.6666666666666666,
              "#ed7953"
             ],
             [
              0.7777777777777778,
              "#fb9f3a"
             ],
             [
              0.8888888888888888,
              "#fdca26"
             ],
             [
              1,
              "#f0f921"
             ]
            ],
            "type": "surface"
           }
          ],
          "table": [
           {
            "cells": {
             "fill": {
              "color": "#EBF0F8"
             },
             "line": {
              "color": "white"
             }
            },
            "header": {
             "fill": {
              "color": "#C8D4E3"
             },
             "line": {
              "color": "white"
             }
            },
            "type": "table"
           }
          ]
         },
         "layout": {
          "annotationdefaults": {
           "arrowcolor": "#2a3f5f",
           "arrowhead": 0,
           "arrowwidth": 1
          },
          "autotypenumbers": "strict",
          "coloraxis": {
           "colorbar": {
            "outlinewidth": 0,
            "ticks": ""
           }
          },
          "colorscale": {
           "diverging": [
            [
             0,
             "#8e0152"
            ],
            [
             0.1,
             "#c51b7d"
            ],
            [
             0.2,
             "#de77ae"
            ],
            [
             0.3,
             "#f1b6da"
            ],
            [
             0.4,
             "#fde0ef"
            ],
            [
             0.5,
             "#f7f7f7"
            ],
            [
             0.6,
             "#e6f5d0"
            ],
            [
             0.7,
             "#b8e186"
            ],
            [
             0.8,
             "#7fbc41"
            ],
            [
             0.9,
             "#4d9221"
            ],
            [
             1,
             "#276419"
            ]
           ],
           "sequential": [
            [
             0,
             "#0d0887"
            ],
            [
             0.1111111111111111,
             "#46039f"
            ],
            [
             0.2222222222222222,
             "#7201a8"
            ],
            [
             0.3333333333333333,
             "#9c179e"
            ],
            [
             0.4444444444444444,
             "#bd3786"
            ],
            [
             0.5555555555555556,
             "#d8576b"
            ],
            [
             0.6666666666666666,
             "#ed7953"
            ],
            [
             0.7777777777777778,
             "#fb9f3a"
            ],
            [
             0.8888888888888888,
             "#fdca26"
            ],
            [
             1,
             "#f0f921"
            ]
           ],
           "sequentialminus": [
            [
             0,
             "#0d0887"
            ],
            [
             0.1111111111111111,
             "#46039f"
            ],
            [
             0.2222222222222222,
             "#7201a8"
            ],
            [
             0.3333333333333333,
             "#9c179e"
            ],
            [
             0.4444444444444444,
             "#bd3786"
            ],
            [
             0.5555555555555556,
             "#d8576b"
            ],
            [
             0.6666666666666666,
             "#ed7953"
            ],
            [
             0.7777777777777778,
             "#fb9f3a"
            ],
            [
             0.8888888888888888,
             "#fdca26"
            ],
            [
             1,
             "#f0f921"
            ]
           ]
          },
          "colorway": [
           "#636efa",
           "#EF553B",
           "#00cc96",
           "#ab63fa",
           "#FFA15A",
           "#19d3f3",
           "#FF6692",
           "#B6E880",
           "#FF97FF",
           "#FECB52"
          ],
          "font": {
           "color": "#2a3f5f"
          },
          "geo": {
           "bgcolor": "white",
           "lakecolor": "white",
           "landcolor": "#E5ECF6",
           "showlakes": true,
           "showland": true,
           "subunitcolor": "white"
          },
          "hoverlabel": {
           "align": "left"
          },
          "hovermode": "closest",
          "mapbox": {
           "style": "light"
          },
          "paper_bgcolor": "white",
          "plot_bgcolor": "#E5ECF6",
          "polar": {
           "angularaxis": {
            "gridcolor": "white",
            "linecolor": "white",
            "ticks": ""
           },
           "bgcolor": "#E5ECF6",
           "radialaxis": {
            "gridcolor": "white",
            "linecolor": "white",
            "ticks": ""
           }
          },
          "scene": {
           "xaxis": {
            "backgroundcolor": "#E5ECF6",
            "gridcolor": "white",
            "gridwidth": 2,
            "linecolor": "white",
            "showbackground": true,
            "ticks": "",
            "zerolinecolor": "white"
           },
           "yaxis": {
            "backgroundcolor": "#E5ECF6",
            "gridcolor": "white",
            "gridwidth": 2,
            "linecolor": "white",
            "showbackground": true,
            "ticks": "",
            "zerolinecolor": "white"
           },
           "zaxis": {
            "backgroundcolor": "#E5ECF6",
            "gridcolor": "white",
            "gridwidth": 2,
            "linecolor": "white",
            "showbackground": true,
            "ticks": "",
            "zerolinecolor": "white"
           }
          },
          "shapedefaults": {
           "line": {
            "color": "#2a3f5f"
           }
          },
          "ternary": {
           "aaxis": {
            "gridcolor": "white",
            "linecolor": "white",
            "ticks": ""
           },
           "baxis": {
            "gridcolor": "white",
            "linecolor": "white",
            "ticks": ""
           },
           "bgcolor": "#E5ECF6",
           "caxis": {
            "gridcolor": "white",
            "linecolor": "white",
            "ticks": ""
           }
          },
          "title": {
           "x": 0.05
          },
          "xaxis": {
           "automargin": true,
           "gridcolor": "white",
           "linecolor": "white",
           "ticks": "",
           "title": {
            "standoff": 15
           },
           "zerolinecolor": "white",
           "zerolinewidth": 2
          },
          "yaxis": {
           "automargin": true,
           "gridcolor": "white",
           "linecolor": "white",
           "ticks": "",
           "title": {
            "standoff": 15
           },
           "zerolinecolor": "white",
           "zerolinewidth": 2
          }
         }
        },
        "title": {
         "text": "BP vs Cholesterol vs Wiek vs Płeć vs Tętno"
        },
        "updatemenus": [
         {
          "buttons": [
           {
            "args": [
             null,
             {
              "frame": {
               "duration": 500,
               "redraw": false
              },
              "fromcurrent": true,
              "transition": {
               "duration": 300,
               "easing": "quadratic-in-out"
              }
             }
            ],
            "label": "Play",
            "method": "animate"
           },
           {
            "args": [
             [
              null
             ],
             {
              "frame": {
               "duration": 0,
               "redraw": false
              },
              "mode": "immediate",
              "transition": {
               "duration": 0
              }
             }
            ],
            "label": "Pause",
            "method": "animate"
           }
          ],
          "direction": "left",
          "pad": {
           "r": 10,
           "t": 87
          },
          "showactive": false,
          "type": "buttons",
          "x": 0.1,
          "xanchor": "right",
          "y": 0,
          "yanchor": "top"
         }
        ],
        "xaxis": {
         "autorange": false,
         "range": [
          65.8,
          280
         ],
         "title": {
          "text": "Spoczynkowe ciśnienie krwi"
         }
        },
        "yaxis": {
         "autorange": false,
         "range": [
          88.19999999999999,
          789.5999999999999
         ],
         "title": {
          "text": "Cholesterol"
         }
        }
       }
      },
      "text/html": [
       "<div>                            <div id=\"775696a7-cbb5-4637-8c3d-e5875c93836c\" class=\"plotly-graph-div\" style=\"height:650px; width:100%;\"></div>            <script type=\"text/javascript\">                require([\"plotly\"], function(Plotly) {                    window.PLOTLYENV=window.PLOTLYENV || {};                                    if (document.getElementById(\"775696a7-cbb5-4637-8c3d-e5875c93836c\")) {                    Plotly.newPlot(                        \"775696a7-cbb5-4637-8c3d-e5875c93836c\",                        [{\"marker\": {\"color\": [1], \"size\": [0.0], \"sizemode\": \"area\", \"sizeref\": 0.0006458333333333333}, \"mode\": \"markers\", \"text\": [\"1\"], \"type\": \"scatter\", \"x\": [130], \"y\": [204]}],                        {\"height\": 650, \"hovermode\": \"closest\", \"margin\": {\"b\": 50, \"pad\": 5, \"t\": 50}, \"showlegend\": false, \"sliders\": [{\"active\": 0, \"currentvalue\": {\"font\": {\"size\": 20}, \"prefix\": \"Year:\", \"visible\": true, \"xanchor\": \"right\"}, \"len\": 0.9, \"pad\": {\"b\": 10, \"t\": 50}, \"steps\": [{\"args\": [[63], {\"frame\": {\"duration\": 300, \"redraw\": false}, \"mode\": \"immediate\", \"transition\": {\"duration\": 300}}], \"label\": \"63\", \"method\": \"animate\"}, {\"args\": [[37], {\"frame\": {\"duration\": 300, \"redraw\": false}, \"mode\": \"immediate\", \"transition\": {\"duration\": 300}}], \"label\": \"37\", \"method\": \"animate\"}, {\"args\": [[41], {\"frame\": {\"duration\": 300, \"redraw\": false}, \"mode\": \"immediate\", \"transition\": {\"duration\": 300}}], \"label\": \"41\", \"method\": \"animate\"}, {\"args\": [[56], {\"frame\": {\"duration\": 300, \"redraw\": false}, \"mode\": \"immediate\", \"transition\": {\"duration\": 300}}], \"label\": \"56\", \"method\": \"animate\"}, {\"args\": [[57], {\"frame\": {\"duration\": 300, \"redraw\": false}, \"mode\": \"immediate\", \"transition\": {\"duration\": 300}}], \"label\": \"57\", \"method\": \"animate\"}, {\"args\": [[44], {\"frame\": {\"duration\": 300, \"redraw\": false}, \"mode\": \"immediate\", \"transition\": {\"duration\": 300}}], \"label\": \"44\", \"method\": \"animate\"}, {\"args\": [[52], {\"frame\": {\"duration\": 300, \"redraw\": false}, \"mode\": \"immediate\", \"transition\": {\"duration\": 300}}], \"label\": \"52\", \"method\": \"animate\"}, {\"args\": [[54], {\"frame\": {\"duration\": 300, \"redraw\": false}, \"mode\": \"immediate\", \"transition\": {\"duration\": 300}}], \"label\": \"54\", \"method\": \"animate\"}, {\"args\": [[48], {\"frame\": {\"duration\": 300, \"redraw\": false}, \"mode\": \"immediate\", \"transition\": {\"duration\": 300}}], \"label\": \"48\", \"method\": \"animate\"}, {\"args\": [[49], {\"frame\": {\"duration\": 300, \"redraw\": false}, \"mode\": \"immediate\", \"transition\": {\"duration\": 300}}], \"label\": \"49\", \"method\": \"animate\"}, {\"args\": [[64], {\"frame\": {\"duration\": 300, \"redraw\": false}, \"mode\": \"immediate\", \"transition\": {\"duration\": 300}}], \"label\": \"64\", \"method\": \"animate\"}, {\"args\": [[58], {\"frame\": {\"duration\": 300, \"redraw\": false}, \"mode\": \"immediate\", \"transition\": {\"duration\": 300}}], \"label\": \"58\", \"method\": \"animate\"}, {\"args\": [[50], {\"frame\": {\"duration\": 300, \"redraw\": false}, \"mode\": \"immediate\", \"transition\": {\"duration\": 300}}], \"label\": \"50\", \"method\": \"animate\"}, {\"args\": [[66], {\"frame\": {\"duration\": 300, \"redraw\": false}, \"mode\": \"immediate\", \"transition\": {\"duration\": 300}}], \"label\": \"66\", \"method\": \"animate\"}, {\"args\": [[43], {\"frame\": {\"duration\": 300, \"redraw\": false}, \"mode\": \"immediate\", \"transition\": {\"duration\": 300}}], \"label\": \"43\", \"method\": \"animate\"}, {\"args\": [[69], {\"frame\": {\"duration\": 300, \"redraw\": false}, \"mode\": \"immediate\", \"transition\": {\"duration\": 300}}], \"label\": \"69\", \"method\": \"animate\"}, {\"args\": [[59], {\"frame\": {\"duration\": 300, \"redraw\": false}, \"mode\": \"immediate\", \"transition\": {\"duration\": 300}}], \"label\": \"59\", \"method\": \"animate\"}, {\"args\": [[42], {\"frame\": {\"duration\": 300, \"redraw\": false}, \"mode\": \"immediate\", \"transition\": {\"duration\": 300}}], \"label\": \"42\", \"method\": \"animate\"}, {\"args\": [[61], {\"frame\": {\"duration\": 300, \"redraw\": false}, \"mode\": \"immediate\", \"transition\": {\"duration\": 300}}], \"label\": \"61\", \"method\": \"animate\"}, {\"args\": [[40], {\"frame\": {\"duration\": 300, \"redraw\": false}, \"mode\": \"immediate\", \"transition\": {\"duration\": 300}}], \"label\": \"40\", \"method\": \"animate\"}, {\"args\": [[71], {\"frame\": {\"duration\": 300, \"redraw\": false}, \"mode\": \"immediate\", \"transition\": {\"duration\": 300}}], \"label\": \"71\", \"method\": \"animate\"}, {\"args\": [[51], {\"frame\": {\"duration\": 300, \"redraw\": false}, \"mode\": \"immediate\", \"transition\": {\"duration\": 300}}], \"label\": \"51\", \"method\": \"animate\"}, {\"args\": [[65], {\"frame\": {\"duration\": 300, \"redraw\": false}, \"mode\": \"immediate\", \"transition\": {\"duration\": 300}}], \"label\": \"65\", \"method\": \"animate\"}, {\"args\": [[53], {\"frame\": {\"duration\": 300, \"redraw\": false}, \"mode\": \"immediate\", \"transition\": {\"duration\": 300}}], \"label\": \"53\", \"method\": \"animate\"}, {\"args\": [[46], {\"frame\": {\"duration\": 300, \"redraw\": false}, \"mode\": \"immediate\", \"transition\": {\"duration\": 300}}], \"label\": \"46\", \"method\": \"animate\"}, {\"args\": [[45], {\"frame\": {\"duration\": 300, \"redraw\": false}, \"mode\": \"immediate\", \"transition\": {\"duration\": 300}}], \"label\": \"45\", \"method\": \"animate\"}, {\"args\": [[39], {\"frame\": {\"duration\": 300, \"redraw\": false}, \"mode\": \"immediate\", \"transition\": {\"duration\": 300}}], \"label\": \"39\", \"method\": \"animate\"}, {\"args\": [[47], {\"frame\": {\"duration\": 300, \"redraw\": false}, \"mode\": \"immediate\", \"transition\": {\"duration\": 300}}], \"label\": \"47\", \"method\": \"animate\"}, {\"args\": [[62], {\"frame\": {\"duration\": 300, \"redraw\": false}, \"mode\": \"immediate\", \"transition\": {\"duration\": 300}}], \"label\": \"62\", \"method\": \"animate\"}, {\"args\": [[34], {\"frame\": {\"duration\": 300, \"redraw\": false}, \"mode\": \"immediate\", \"transition\": {\"duration\": 300}}], \"label\": \"34\", \"method\": \"animate\"}, {\"args\": [[35], {\"frame\": {\"duration\": 300, \"redraw\": false}, \"mode\": \"immediate\", \"transition\": {\"duration\": 300}}], \"label\": \"35\", \"method\": \"animate\"}, {\"args\": [[29], {\"frame\": {\"duration\": 300, \"redraw\": false}, \"mode\": \"immediate\", \"transition\": {\"duration\": 300}}], \"label\": \"29\", \"method\": \"animate\"}, {\"args\": [[55], {\"frame\": {\"duration\": 300, \"redraw\": false}, \"mode\": \"immediate\", \"transition\": {\"duration\": 300}}], \"label\": \"55\", \"method\": \"animate\"}, {\"args\": [[60], {\"frame\": {\"duration\": 300, \"redraw\": false}, \"mode\": \"immediate\", \"transition\": {\"duration\": 300}}], \"label\": \"60\", \"method\": \"animate\"}, {\"args\": [[67], {\"frame\": {\"duration\": 300, \"redraw\": false}, \"mode\": \"immediate\", \"transition\": {\"duration\": 300}}], \"label\": \"67\", \"method\": \"animate\"}, {\"args\": [[68], {\"frame\": {\"duration\": 300, \"redraw\": false}, \"mode\": \"immediate\", \"transition\": {\"duration\": 300}}], \"label\": \"68\", \"method\": \"animate\"}, {\"args\": [[74], {\"frame\": {\"duration\": 300, \"redraw\": false}, \"mode\": \"immediate\", \"transition\": {\"duration\": 300}}], \"label\": \"74\", \"method\": \"animate\"}, {\"args\": [[76], {\"frame\": {\"duration\": 300, \"redraw\": false}, \"mode\": \"immediate\", \"transition\": {\"duration\": 300}}], \"label\": \"76\", \"method\": \"animate\"}, {\"args\": [[70], {\"frame\": {\"duration\": 300, \"redraw\": false}, \"mode\": \"immediate\", \"transition\": {\"duration\": 300}}], \"label\": \"70\", \"method\": \"animate\"}, {\"args\": [[38], {\"frame\": {\"duration\": 300, \"redraw\": false}, \"mode\": \"immediate\", \"transition\": {\"duration\": 300}}], \"label\": \"38\", \"method\": \"animate\"}, {\"args\": [[77], {\"frame\": {\"duration\": 300, \"redraw\": false}, \"mode\": \"immediate\", \"transition\": {\"duration\": 300}}], \"label\": \"77\", \"method\": \"animate\"}], \"transition\": {\"duration\": 300, \"easing\": \"cubic-in-out\"}, \"x\": 0.1, \"xanchor\": \"left\", \"y\": 0, \"yanchor\": \"top\"}], \"template\": {\"data\": {\"bar\": [{\"error_x\": {\"color\": \"#2a3f5f\"}, \"error_y\": {\"color\": \"#2a3f5f\"}, \"marker\": {\"line\": {\"color\": \"#E5ECF6\", \"width\": 0.5}}, \"type\": \"bar\"}], \"barpolar\": [{\"marker\": {\"line\": {\"color\": \"#E5ECF6\", \"width\": 0.5}}, \"type\": \"barpolar\"}], \"carpet\": [{\"aaxis\": {\"endlinecolor\": \"#2a3f5f\", \"gridcolor\": \"white\", \"linecolor\": \"white\", \"minorgridcolor\": \"white\", \"startlinecolor\": \"#2a3f5f\"}, \"baxis\": {\"endlinecolor\": \"#2a3f5f\", \"gridcolor\": \"white\", \"linecolor\": \"white\", \"minorgridcolor\": \"white\", \"startlinecolor\": \"#2a3f5f\"}, \"type\": \"carpet\"}], \"choropleth\": [{\"colorbar\": {\"outlinewidth\": 0, \"ticks\": \"\"}, \"type\": \"choropleth\"}], \"contour\": [{\"colorbar\": {\"outlinewidth\": 0, \"ticks\": \"\"}, \"colorscale\": [[0.0, \"#0d0887\"], [0.1111111111111111, \"#46039f\"], [0.2222222222222222, \"#7201a8\"], [0.3333333333333333, \"#9c179e\"], [0.4444444444444444, \"#bd3786\"], [0.5555555555555556, \"#d8576b\"], [0.6666666666666666, \"#ed7953\"], [0.7777777777777778, \"#fb9f3a\"], [0.8888888888888888, \"#fdca26\"], [1.0, \"#f0f921\"]], \"type\": \"contour\"}], \"contourcarpet\": [{\"colorbar\": {\"outlinewidth\": 0, \"ticks\": \"\"}, \"type\": \"contourcarpet\"}], \"heatmap\": [{\"colorbar\": {\"outlinewidth\": 0, \"ticks\": \"\"}, \"colorscale\": [[0.0, \"#0d0887\"], [0.1111111111111111, \"#46039f\"], [0.2222222222222222, \"#7201a8\"], [0.3333333333333333, \"#9c179e\"], [0.4444444444444444, \"#bd3786\"], [0.5555555555555556, \"#d8576b\"], [0.6666666666666666, \"#ed7953\"], [0.7777777777777778, \"#fb9f3a\"], [0.8888888888888888, \"#fdca26\"], [1.0, \"#f0f921\"]], \"type\": \"heatmap\"}], \"heatmapgl\": [{\"colorbar\": {\"outlinewidth\": 0, \"ticks\": \"\"}, \"colorscale\": [[0.0, \"#0d0887\"], [0.1111111111111111, \"#46039f\"], [0.2222222222222222, \"#7201a8\"], [0.3333333333333333, \"#9c179e\"], [0.4444444444444444, \"#bd3786\"], [0.5555555555555556, \"#d8576b\"], [0.6666666666666666, \"#ed7953\"], [0.7777777777777778, \"#fb9f3a\"], [0.8888888888888888, \"#fdca26\"], [1.0, \"#f0f921\"]], \"type\": \"heatmapgl\"}], \"histogram\": [{\"marker\": {\"colorbar\": {\"outlinewidth\": 0, \"ticks\": \"\"}}, \"type\": \"histogram\"}], \"histogram2d\": [{\"colorbar\": {\"outlinewidth\": 0, \"ticks\": \"\"}, \"colorscale\": [[0.0, \"#0d0887\"], [0.1111111111111111, \"#46039f\"], [0.2222222222222222, \"#7201a8\"], [0.3333333333333333, \"#9c179e\"], [0.4444444444444444, \"#bd3786\"], [0.5555555555555556, \"#d8576b\"], [0.6666666666666666, \"#ed7953\"], [0.7777777777777778, \"#fb9f3a\"], [0.8888888888888888, \"#fdca26\"], [1.0, \"#f0f921\"]], \"type\": \"histogram2d\"}], \"histogram2dcontour\": [{\"colorbar\": {\"outlinewidth\": 0, \"ticks\": \"\"}, \"colorscale\": [[0.0, \"#0d0887\"], [0.1111111111111111, \"#46039f\"], [0.2222222222222222, \"#7201a8\"], [0.3333333333333333, \"#9c179e\"], [0.4444444444444444, \"#bd3786\"], [0.5555555555555556, \"#d8576b\"], [0.6666666666666666, \"#ed7953\"], [0.7777777777777778, \"#fb9f3a\"], [0.8888888888888888, \"#fdca26\"], [1.0, \"#f0f921\"]], \"type\": \"histogram2dcontour\"}], \"mesh3d\": [{\"colorbar\": {\"outlinewidth\": 0, \"ticks\": \"\"}, \"type\": \"mesh3d\"}], \"parcoords\": [{\"line\": {\"colorbar\": {\"outlinewidth\": 0, \"ticks\": \"\"}}, \"type\": \"parcoords\"}], \"pie\": [{\"automargin\": true, \"type\": \"pie\"}], \"scatter\": [{\"marker\": {\"colorbar\": {\"outlinewidth\": 0, \"ticks\": \"\"}}, \"type\": \"scatter\"}], \"scatter3d\": [{\"line\": {\"colorbar\": {\"outlinewidth\": 0, \"ticks\": \"\"}}, \"marker\": {\"colorbar\": {\"outlinewidth\": 0, \"ticks\": \"\"}}, \"type\": \"scatter3d\"}], \"scattercarpet\": [{\"marker\": {\"colorbar\": {\"outlinewidth\": 0, \"ticks\": \"\"}}, \"type\": \"scattercarpet\"}], \"scattergeo\": [{\"marker\": {\"colorbar\": {\"outlinewidth\": 0, \"ticks\": \"\"}}, \"type\": \"scattergeo\"}], \"scattergl\": [{\"marker\": {\"colorbar\": {\"outlinewidth\": 0, \"ticks\": \"\"}}, \"type\": \"scattergl\"}], \"scattermapbox\": [{\"marker\": {\"colorbar\": {\"outlinewidth\": 0, \"ticks\": \"\"}}, \"type\": \"scattermapbox\"}], \"scatterpolar\": [{\"marker\": {\"colorbar\": {\"outlinewidth\": 0, \"ticks\": \"\"}}, \"type\": \"scatterpolar\"}], \"scatterpolargl\": [{\"marker\": {\"colorbar\": {\"outlinewidth\": 0, \"ticks\": \"\"}}, \"type\": \"scatterpolargl\"}], \"scatterternary\": [{\"marker\": {\"colorbar\": {\"outlinewidth\": 0, \"ticks\": \"\"}}, \"type\": \"scatterternary\"}], \"surface\": [{\"colorbar\": {\"outlinewidth\": 0, \"ticks\": \"\"}, \"colorscale\": [[0.0, \"#0d0887\"], [0.1111111111111111, \"#46039f\"], [0.2222222222222222, \"#7201a8\"], [0.3333333333333333, \"#9c179e\"], [0.4444444444444444, \"#bd3786\"], [0.5555555555555556, \"#d8576b\"], [0.6666666666666666, \"#ed7953\"], [0.7777777777777778, \"#fb9f3a\"], [0.8888888888888888, \"#fdca26\"], [1.0, \"#f0f921\"]], \"type\": \"surface\"}], \"table\": [{\"cells\": {\"fill\": {\"color\": \"#EBF0F8\"}, \"line\": {\"color\": \"white\"}}, \"header\": {\"fill\": {\"color\": \"#C8D4E3\"}, \"line\": {\"color\": \"white\"}}, \"type\": \"table\"}]}, \"layout\": {\"annotationdefaults\": {\"arrowcolor\": \"#2a3f5f\", \"arrowhead\": 0, \"arrowwidth\": 1}, \"autotypenumbers\": \"strict\", \"coloraxis\": {\"colorbar\": {\"outlinewidth\": 0, \"ticks\": \"\"}}, \"colorscale\": {\"diverging\": [[0, \"#8e0152\"], [0.1, \"#c51b7d\"], [0.2, \"#de77ae\"], [0.3, \"#f1b6da\"], [0.4, \"#fde0ef\"], [0.5, \"#f7f7f7\"], [0.6, \"#e6f5d0\"], [0.7, \"#b8e186\"], [0.8, \"#7fbc41\"], [0.9, \"#4d9221\"], [1, \"#276419\"]], \"sequential\": [[0.0, \"#0d0887\"], [0.1111111111111111, \"#46039f\"], [0.2222222222222222, \"#7201a8\"], [0.3333333333333333, \"#9c179e\"], [0.4444444444444444, \"#bd3786\"], [0.5555555555555556, \"#d8576b\"], [0.6666666666666666, \"#ed7953\"], [0.7777777777777778, \"#fb9f3a\"], [0.8888888888888888, \"#fdca26\"], [1.0, \"#f0f921\"]], \"sequentialminus\": [[0.0, \"#0d0887\"], [0.1111111111111111, \"#46039f\"], [0.2222222222222222, \"#7201a8\"], [0.3333333333333333, \"#9c179e\"], [0.4444444444444444, \"#bd3786\"], [0.5555555555555556, \"#d8576b\"], [0.6666666666666666, \"#ed7953\"], [0.7777777777777778, \"#fb9f3a\"], [0.8888888888888888, \"#fdca26\"], [1.0, \"#f0f921\"]]}, \"colorway\": [\"#636efa\", \"#EF553B\", \"#00cc96\", \"#ab63fa\", \"#FFA15A\", \"#19d3f3\", \"#FF6692\", \"#B6E880\", \"#FF97FF\", \"#FECB52\"], \"font\": {\"color\": \"#2a3f5f\"}, \"geo\": {\"bgcolor\": \"white\", \"lakecolor\": \"white\", \"landcolor\": \"#E5ECF6\", \"showlakes\": true, \"showland\": true, \"subunitcolor\": \"white\"}, \"hoverlabel\": {\"align\": \"left\"}, \"hovermode\": \"closest\", \"mapbox\": {\"style\": \"light\"}, \"paper_bgcolor\": \"white\", \"plot_bgcolor\": \"#E5ECF6\", \"polar\": {\"angularaxis\": {\"gridcolor\": \"white\", \"linecolor\": \"white\", \"ticks\": \"\"}, \"bgcolor\": \"#E5ECF6\", \"radialaxis\": {\"gridcolor\": \"white\", \"linecolor\": \"white\", \"ticks\": \"\"}}, \"scene\": {\"xaxis\": {\"backgroundcolor\": \"#E5ECF6\", \"gridcolor\": \"white\", \"gridwidth\": 2, \"linecolor\": \"white\", \"showbackground\": true, \"ticks\": \"\", \"zerolinecolor\": \"white\"}, \"yaxis\": {\"backgroundcolor\": \"#E5ECF6\", \"gridcolor\": \"white\", \"gridwidth\": 2, \"linecolor\": \"white\", \"showbackground\": true, \"ticks\": \"\", \"zerolinecolor\": \"white\"}, \"zaxis\": {\"backgroundcolor\": \"#E5ECF6\", \"gridcolor\": \"white\", \"gridwidth\": 2, \"linecolor\": \"white\", \"showbackground\": true, \"ticks\": \"\", \"zerolinecolor\": \"white\"}}, \"shapedefaults\": {\"line\": {\"color\": \"#2a3f5f\"}}, \"ternary\": {\"aaxis\": {\"gridcolor\": \"white\", \"linecolor\": \"white\", \"ticks\": \"\"}, \"baxis\": {\"gridcolor\": \"white\", \"linecolor\": \"white\", \"ticks\": \"\"}, \"bgcolor\": \"#E5ECF6\", \"caxis\": {\"gridcolor\": \"white\", \"linecolor\": \"white\", \"ticks\": \"\"}}, \"title\": {\"x\": 0.05}, \"xaxis\": {\"automargin\": true, \"gridcolor\": \"white\", \"linecolor\": \"white\", \"ticks\": \"\", \"title\": {\"standoff\": 15}, \"zerolinecolor\": \"white\", \"zerolinewidth\": 2}, \"yaxis\": {\"automargin\": true, \"gridcolor\": \"white\", \"linecolor\": \"white\", \"ticks\": \"\", \"title\": {\"standoff\": 15}, \"zerolinecolor\": \"white\", \"zerolinewidth\": 2}}}, \"title\": {\"text\": \"BP vs Cholesterol vs Wiek vs P\\u0142e\\u0107 vs T\\u0119tno\"}, \"updatemenus\": [{\"buttons\": [{\"args\": [null, {\"frame\": {\"duration\": 500, \"redraw\": false}, \"fromcurrent\": true, \"transition\": {\"duration\": 300, \"easing\": \"quadratic-in-out\"}}], \"label\": \"Play\", \"method\": \"animate\"}, {\"args\": [[null], {\"frame\": {\"duration\": 0, \"redraw\": false}, \"mode\": \"immediate\", \"transition\": {\"duration\": 0}}], \"label\": \"Pause\", \"method\": \"animate\"}], \"direction\": \"left\", \"pad\": {\"r\": 10, \"t\": 87}, \"showactive\": false, \"type\": \"buttons\", \"x\": 0.1, \"xanchor\": \"right\", \"y\": 0, \"yanchor\": \"top\"}], \"xaxis\": {\"autorange\": false, \"range\": [65.8, 280.0], \"title\": {\"text\": \"Spoczynkowe ci\\u015bnienie krwi\"}}, \"yaxis\": {\"autorange\": false, \"range\": [88.19999999999999, 789.5999999999999], \"title\": {\"text\": \"Cholesterol\"}}},                        {\"scrollzoom\": true, \"responsive\": true}                    ).then(function(){\n",
       "                            Plotly.addFrames('775696a7-cbb5-4637-8c3d-e5875c93836c', [{\"data\": [{\"marker\": {\"color\": [1, 0, 0, 1, 1, 0, 0, 1, 0], \"size\": [2.3, 0.0, 0.0, 1.4, 1.8, 4.0, 1.8, 4.0, 0.0], \"sizemode\": \"area\", \"sizeref\": 0.0006458333333333333}, \"mode\": \"markers\", \"text\": [\"1\", \"0\", \"0\", \"1\", \"1\", \"0\", \"0\", \"1\", \"0\"], \"x\": [145, 135, 140, 130, 130, 150, 108, 140, 124], \"y\": [233, 252, 195, 254, 330, 407, 269, 187, 197], \"type\": \"scatter\"}], \"name\": \"63\"}, {\"data\": [{\"marker\": {\"color\": [1, 0], \"size\": [3.5, 0.0], \"sizemode\": \"area\", \"sizeref\": 0.0006458333333333333}, \"mode\": \"markers\", \"text\": [\"1\", \"0\"], \"x\": [130, 120], \"y\": [250, 215], \"type\": \"scatter\"}], \"name\": \"37\"}, {\"data\": [{\"marker\": {\"color\": [0, 0, 1, 1, 1, 0, 1, 0, 1, 1], \"size\": [1.4, 0.0, 0.0, 0.0, 2.0, 0.0, 0.0, 0.0, 0.0, 0.0], \"sizemode\": \"area\", \"sizeref\": 0.0006458333333333333}, \"mode\": \"markers\", \"text\": [\"0\", \"0\", \"1\", \"1\", \"1\", \"0\", \"1\", \"0\", \"1\", \"1\"], \"x\": [130, 105, 135, 112, 130, 112, 110, 126, 120, 110], \"y\": [204, 198, 203, 250, 214, 268, 235, 306, 157, 172], \"type\": \"scatter\"}], \"name\": \"41\"}, {\"data\": [{\"marker\": {\"color\": [1, 0, 1, 1, 1, 1, 1, 0, 1, 0, 1], \"size\": [0.8, 1.3, 1.9, 0.0, 0.0, 0.6, 1.2, 4.0, 2.1, 1.9, 1.6], \"sizemode\": \"area\", \"sizeref\": 0.0006458333333333333}, \"mode\": \"markers\", \"text\": [\"1\", \"0\", \"1\", \"1\", \"1\", \"1\", \"1\", \"0\", \"1\", \"0\", \"1\"], \"x\": [120, 140, 120, 130, 120, 130, 125, 200, 132, 134, 130], \"y\": [236, 294, 193, 221, 240, 256, 249, 288, 184, 409, 283], \"type\": \"scatter\"}], \"name\": \"56\"}, {\"data\": [{\"marker\": {\"color\": [0, 1, 1, 0, 1, 1, 1, 1, 1, 1, 1, 1, 1, 1, 0, 1, 0], \"size\": [0.6, 0.4, 1.6, 0.0, 0.0, 0.2, 1.5, 0.6, 0.4, 1.0, 1.2, 0.3, 0.0, 3.0, 0.2, 1.2, 0.0], \"sizemode\": \"area\", \"sizeref\": 0.0006458333333333333}, \"mode\": \"markers\", \"text\": [\"0\", \"1\", \"1\", \"0\", \"1\", \"1\", \"1\", \"1\", \"1\", \"1\", \"1\", \"1\", \"1\", \"1\", \"0\", \"1\", \"0\"], \"x\": [120, 140, 150, 128, 132, 150, 110, 150, 128, 165, 152, 124, 154, 110, 140, 130, 130], \"y\": [354, 192, 168, 303, 207, 126, 201, 276, 229, 289, 274, 261, 232, 335, 241, 131, 236], \"type\": \"scatter\"}], \"name\": \"57\"}, {\"data\": [{\"marker\": {\"color\": [1, 1, 1, 1, 0, 1, 0, 1, 1, 1, 1], \"size\": [0.0, 0.4, 0.0, 0.0, 0.6, 0.0, 0.3, 0.0, 0.0, 0.0, 2.8], \"sizemode\": \"area\", \"sizeref\": 0.0006458333333333333}, \"mode\": \"markers\", \"text\": [\"1\", \"1\", \"1\", \"1\", \"0\", \"1\", \"0\", \"1\", \"1\", \"1\", \"1\"], \"x\": [120, 130, 130, 140, 108, 120, 118, 120, 112, 110, 120], \"y\": [263, 233, 219, 235, 141, 220, 242, 226, 290, 197, 169], \"type\": \"scatter\"}], \"name\": \"44\"}, {\"data\": [{\"marker\": {\"color\": [1, 1, 1, 1, 1, 1, 1, 1, 0, 1, 1, 1, 1], \"size\": [0.5, 0.2, 0.8, 0.0, 0.0, 1.2, 0.0, 0.1, 0.1, 0.0, 0.0, 1.0, 1.0], \"sizemode\": \"area\", \"sizeref\": 0.0006458333333333333}, \"mode\": \"markers\", \"text\": [\"1\", \"1\", \"1\", \"1\", \"1\", \"1\", \"1\", \"1\", \"0\", \"1\", \"1\", \"1\", \"1\"], \"x\": [172, 120, 134, 118, 128, 152, 138, 108, 136, 128, 112, 125, 128], \"y\": [199, 325, 201, 186, 205, 298, 223, 233, 196, 255, 230, 212, 204], \"type\": \"scatter\"}], \"name\": \"52\"}, {\"data\": [{\"marker\": {\"color\": [1, 1, 0, 1, 1, 1, 0, 0, 0, 0, 1, 1, 1, 1, 1, 1], \"size\": [1.2, 0.5, 0.0, 1.6, 0.0, 0.4, 1.6, 0.0, 0.0, 0.0, 2.2, 1.4, 2.8, 0.0, 0.0, 3.2], \"sizemode\": \"area\", \"sizeref\": 0.0006458333333333333}, \"mode\": \"markers\", \"text\": [\"1\", \"1\", \"0\", \"1\", \"1\", \"1\", \"0\", \"0\", \"0\", \"0\", \"1\", \"1\", \"1\", \"1\", \"1\", \"1\"], \"x\": [140, 125, 135, 150, 108, 120, 110, 132, 108, 160, 124, 120, 110, 192, 110, 122], \"y\": [239, 273, 304, 232, 309, 258, 214, 288, 267, 201, 266, 188, 239, 283, 206, 286], \"type\": \"scatter\"}], \"name\": \"54\"}, {\"data\": [{\"marker\": {\"color\": [0, 1, 1, 1, 1, 1, 1], \"size\": [0.2, 0.2, 0.0, 0.0, 1.0, 0.0, 0.5], \"sizemode\": \"area\", \"sizeref\": 0.0006458333333333333}, \"mode\": \"markers\", \"text\": [\"0\", \"1\", \"1\", \"1\", \"1\", \"1\", \"1\"], \"x\": [130, 130, 122, 124, 110, 130, 124], \"y\": [275, 245, 222, 255, 229, 256, 274], \"type\": \"scatter\"}], \"name\": \"48\"}, {\"data\": [{\"marker\": {\"color\": [1, 0, 0, 1, 1], \"size\": [0.6, 0.0, 0.0, 2.0, 0.8], \"sizemode\": \"area\", \"sizeref\": 0.0006458333333333333}, \"mode\": \"markers\", \"text\": [\"1\", \"0\", \"0\", \"1\", \"1\"], \"x\": [130, 134, 130, 120, 118], \"y\": [266, 271, 269, 188, 149], \"type\": \"scatter\"}], \"name\": \"49\"}, {\"data\": [{\"marker\": {\"color\": [1, 0, 0, 0, 1, 1, 1, 1, 1, 1], \"size\": [1.8, 0.0, 0.2, 2.0, 0.2, 0.6, 0.0, 1.8, 2.2, 2.0], \"sizemode\": \"area\", \"sizeref\": 0.0006458333333333333}, \"mode\": \"markers\", \"text\": [\"1\", \"0\", \"0\", \"0\", \"1\", \"1\", \"1\", \"1\", \"1\", \"1\"], \"x\": [110, 180, 140, 130, 128, 170, 140, 125, 120, 145], \"y\": [211, 325, 313, 303, 263, 227, 335, 309, 246, 212], \"type\": \"scatter\"}], \"name\": \"64\"}, {\"data\": [{\"marker\": {\"color\": [0, 0, 1, 1, 0, 0, 1, 1, 1, 1, 1, 1, 1, 1, 1, 1, 0, 1, 0], \"size\": [1.0, 0.0, 0.0, 0.6, 1.0, 0.6, 0.4, 1.8, 3.2, 2.5, 2.2, 0.8, 0.0, 3.0, 0.1, 2.0, 0.0, 4.4, 2.8], \"sizemode\": \"area\", \"sizeref\": 0.0006458333333333333}, \"mode\": \"markers\", \"text\": [\"0\", \"0\", \"1\", \"1\", \"0\", \"0\", \"1\", \"1\", \"1\", \"1\", \"1\", \"1\", \"1\", \"1\", \"1\", \"1\", \"0\", \"1\", \"0\"], \"x\": [150, 120, 140, 105, 100, 130, 125, 120, 132, 112, 128, 150, 125, 128, 100, 146, 136, 114, 170], \"y\": [283, 340, 211, 240, 248, 197, 220, 284, 224, 230, 216, 270, 300, 259, 234, 218, 319, 318, 225], \"type\": \"scatter\"}], \"name\": \"58\"}, {\"data\": [{\"marker\": {\"color\": [0, 1, 0, 0, 1, 1, 1], \"size\": [1.6, 0.0, 1.1, 0.0, 2.6, 0.6, 0.9], \"sizemode\": \"area\", \"sizeref\": 0.0006458333333333333}, \"mode\": \"markers\", \"text\": [\"0\", \"1\", \"0\", \"0\", \"1\", \"1\", \"1\"], \"x\": [120, 129, 120, 110, 150, 140, 144], \"y\": [219, 196, 244, 254, 243, 233, 200], \"type\": \"scatter\"}], \"name\": \"50\"}, {\"data\": [{\"marker\": {\"color\": [0, 1, 1, 0, 1, 0, 1], \"size\": [2.6, 0.4, 2.3, 0.0, 0.0, 1.0, 0.1], \"sizemode\": \"area\", \"sizeref\": 0.0006458333333333333}, \"mode\": \"markers\", \"text\": [\"0\", \"1\", \"1\", \"0\", \"1\", \"0\", \"1\"], \"x\": [150, 120, 160, 146, 160, 178, 112], \"y\": [226, 302, 228, 278, 246, 228, 212], \"type\": \"scatter\"}], \"name\": \"66\"}, {\"data\": [{\"marker\": {\"color\": [1, 0, 1, 1, 1, 1, 0, 1], \"size\": [1.5, 0.2, 1.9, 0.0, 1.2, 2.5, 3.0, 0.1], \"sizemode\": \"area\", \"sizeref\": 0.0006458333333333333}, \"mode\": \"markers\", \"text\": [\"1\", \"0\", \"1\", \"1\", \"1\", \"1\", \"0\", \"1\"], \"x\": [150, 122, 130, 110, 115, 120, 132, 132], \"y\": [247, 213, 315, 211, 303, 177, 341, 247], \"type\": \"scatter\"}], \"name\": \"43\"}, {\"data\": [{\"marker\": {\"color\": [0, 1, 1], \"size\": [1.8, 0.1, 2.0], \"sizemode\": \"area\", \"sizeref\": 0.0006458333333333333}, \"mode\": \"markers\", \"text\": [\"0\", \"1\", \"1\"], \"x\": [140, 160, 140], \"y\": [239, 234, 254], \"type\": \"scatter\"}], \"name\": \"69\"}, {\"data\": [{\"marker\": {\"color\": [1, 1, 1, 1, 1, 1, 1, 1, 1, 0, 1, 1, 1, 1], \"size\": [0.5, 1.6, 0.0, 4.2, 0.0, 3.4, 1.2, 0.0, 0.2, 0.0, 0.0, 2.2, 0.8, 1.0], \"sizemode\": \"area\", \"sizeref\": 0.0006458333333333333}, \"mode\": \"markers\", \"text\": [\"1\", \"1\", \"1\", \"1\", \"1\", \"1\", \"1\", \"1\", \"1\", \"0\", \"1\", \"1\", \"1\", \"1\"], \"x\": [135, 150, 140, 178, 138, 170, 110, 140, 170, 174, 160, 126, 134, 164], \"y\": [234, 212, 221, 270, 271, 326, 239, 177, 288, 249, 273, 218, 204, 176], \"type\": \"scatter\"}], \"name\": \"59\"}, {\"data\": [{\"marker\": {\"color\": [1, 0, 1, 1, 1, 0, 1, 1], \"size\": [0.0, 0.6, 0.8, 0.8, 0.0, 0.0, 0.0, 1.8], \"sizemode\": \"area\", \"sizeref\": 0.0006458333333333333}, \"mode\": \"markers\", \"text\": [\"1\", \"0\", \"1\", \"1\", \"1\", \"0\", \"1\", \"1\"], \"x\": [140, 102, 148, 120, 120, 120, 130, 136], \"y\": [226, 265, 244, 240, 295, 209, 180, 315], \"type\": \"scatter\"}], \"name\": \"42\"}, {\"data\": [{\"marker\": {\"color\": [1, 0, 1, 0, 1, 1, 1, 1], \"size\": [1.0, 0.0, 3.6, 1.0, 2.6, 3.6, 1.9, 0.0], \"sizemode\": \"area\", \"sizeref\": 0.0006458333333333333}, \"mode\": \"markers\", \"text\": [\"1\", \"0\", \"1\", \"0\", \"1\", \"1\", \"1\", \"1\"], \"x\": [150, 130, 120, 145, 134, 138, 140, 148], \"y\": [243, 330, 260, 307, 234, 166, 207, 203], \"type\": \"scatter\"}], \"name\": \"61\"}, {\"data\": [{\"marker\": {\"color\": [1, 1, 1], \"size\": [1.4, 2.0, 0.0], \"sizemode\": \"area\", \"sizeref\": 0.0006458333333333333}, \"mode\": \"markers\", \"text\": [\"1\", \"1\", \"1\"], \"x\": [140, 110, 152], \"y\": [199, 167, 223], \"type\": \"scatter\"}], \"name\": \"40\"}, {\"data\": [{\"marker\": {\"color\": [0, 0, 0], \"size\": [0.4, 0.0, 1.6], \"sizemode\": \"area\", \"sizeref\": 0.0006458333333333333}, \"mode\": \"markers\", \"text\": [\"0\", \"0\", \"0\"], \"x\": [160, 110, 112], \"y\": [302, 265, 149], \"type\": \"scatter\"}], \"name\": \"71\"}, {\"data\": [{\"marker\": {\"color\": [1, 1, 0, 0, 1, 1, 1, 1, 0, 0, 1, 1], \"size\": [0.6, 1.4, 1.5, 0.5, 1.2, 0.0, 0.0, 2.4, 0.6, 1.2, 1.6, 4.2], \"sizemode\": \"area\", \"sizeref\": 0.0006458333333333333}, \"mode\": \"markers\", \"text\": [\"1\", \"1\", \"0\", \"0\", \"1\", \"1\", \"1\", \"1\", \"0\", \"0\", \"1\", \"1\"], \"x\": [110, 125, 140, 130, 100, 94, 140, 125, 120, 130, 140, 140], \"y\": [175, 213, 308, 256, 222, 227, 261, 245, 295, 305, 299, 298], \"type\": \"scatter\"}], \"name\": \"51\"}, {\"data\": [{\"marker\": {\"color\": [0, 1, 0, 0, 0, 1, 1, 1], \"size\": [0.8, 0.4, 0.8, 0.8, 1.0, 0.6, 2.8, 1.4], \"sizemode\": \"area\", \"sizeref\": 0.0006458333333333333}, \"mode\": \"markers\", \"text\": [\"0\", \"1\", \"0\", \"0\", \"0\", \"1\", \"1\", \"1\"], \"x\": [140, 120, 155, 160, 150, 110, 135, 138], \"y\": [417, 177, 269, 360, 225, 248, 254, 282], \"type\": \"scatter\"}], \"name\": \"65\"}, {\"data\": [{\"marker\": {\"color\": [1, 0, 0, 0, 1, 1, 1, 1], \"size\": [1.2, 0.4, 0.0, 0.0, 0.0, 0.0, 3.1, 2.0], \"sizemode\": \"area\", \"sizeref\": 0.0006458333333333333}, \"mode\": \"markers\", \"text\": [\"1\", \"0\", \"0\", \"0\", \"1\", \"1\", \"1\", \"1\"], \"x\": [130, 130, 128, 138, 142, 130, 140, 123], \"y\": [197, 264, 216, 234, 226, 246, 203, 282], \"type\": \"scatter\"}], \"name\": \"53\"}, {\"data\": [{\"marker\": {\"color\": [0, 1, 0, 0, 1, 1, 1], \"size\": [1.4, 0.0, 0.0, 0.0, 3.6, 0.8, 1.8], \"sizemode\": \"area\", \"sizeref\": 0.0006458333333333333}, \"mode\": \"markers\", \"text\": [\"0\", \"1\", \"0\", \"0\", \"1\", \"1\", \"1\"], \"x\": [142, 101, 105, 138, 150, 120, 140], \"y\": [177, 197, 204, 243, 231, 249, 311], \"type\": \"scatter\"}], \"name\": \"46\"}, {\"data\": [{\"marker\": {\"color\": [1, 1, 0, 1, 0, 0, 1, 1], \"size\": [3.0, 0.0, 0.6, 0.0, 0.0, 0.2, 0.0, 1.2], \"sizemode\": \"area\", \"sizeref\": 0.0006458333333333333}, \"mode\": \"markers\", \"text\": [\"1\", \"1\", \"0\", \"1\", \"0\", \"0\", \"1\", \"1\"], \"x\": [104, 115, 130, 128, 112, 138, 142, 110], \"y\": [208, 260, 234, 308, 160, 236, 309, 264], \"type\": \"scatter\"}], \"name\": \"45\"}, {\"data\": [{\"marker\": {\"color\": [1, 0, 0, 1], \"size\": [0.0, 0.0, 0.0, 1.2], \"sizemode\": \"area\", \"sizeref\": 0.0006458333333333333}, \"mode\": \"markers\", \"text\": [\"1\", \"0\", \"0\", \"1\"], \"x\": [140, 94, 138, 118], \"y\": [321, 199, 220, 219], \"type\": \"scatter\"}], \"name\": \"39\"}, {\"data\": [{\"marker\": {\"color\": [1, 1, 1, 1, 1], \"size\": [0.0, 0.1, 0.0, 0.0, 1.0], \"sizemode\": \"area\", \"sizeref\": 0.0006458333333333333}, \"mode\": \"markers\", \"text\": [\"1\", \"1\", \"1\", \"1\", \"1\"], \"x\": [138, 112, 130, 108, 110], \"y\": [257, 204, 253, 243, 275], \"type\": \"scatter\"}], \"name\": \"47\"}, {\"data\": [{\"marker\": {\"color\": [1, 0, 0, 1, 0, 1, 0, 0, 1, 0, 0], \"size\": [1.8, 0.0, 1.2, 0.0, 3.6, 1.8, 6.2, 1.2, 1.4, 1.9, 1.4], \"sizemode\": \"area\", \"sizeref\": 0.0006458333333333333}, \"mode\": \"markers\", \"text\": [\"1\", \"0\", \"0\", \"1\", \"0\", \"1\", \"0\", \"0\", \"1\", \"0\", \"0\"], \"x\": [130, 124, 140, 128, 140, 120, 160, 130, 120, 138, 150], \"y\": [231, 209, 394, 208, 268, 267, 164, 263, 281, 294, 244], \"type\": \"scatter\"}], \"name\": \"62\"}, {\"data\": [{\"marker\": {\"color\": [1, 0], \"size\": [0.0, 0.7], \"sizemode\": \"area\", \"sizeref\": 0.0006458333333333333}, \"mode\": \"markers\", \"text\": [\"1\", \"0\"], \"x\": [118, 118], \"y\": [182, 210], \"type\": \"scatter\"}], \"name\": \"34\"}, {\"data\": [{\"marker\": {\"color\": [0, 1, 1, 1], \"size\": [1.4, 0.0, 1.6, 0.0], \"sizemode\": \"area\", \"sizeref\": 0.0006458333333333333}, \"mode\": \"markers\", \"text\": [\"0\", \"1\", \"1\", \"1\"], \"x\": [138, 122, 120, 126], \"y\": [183, 192, 198, 282], \"type\": \"scatter\"}], \"name\": \"35\"}, {\"data\": [{\"marker\": {\"color\": [1], \"size\": [0.0], \"sizemode\": \"area\", \"sizeref\": 0.0006458333333333333}, \"mode\": \"markers\", \"text\": [\"1\"], \"x\": [130], \"y\": [204], \"type\": \"scatter\"}], \"name\": \"29\"}, {\"data\": [{\"marker\": {\"color\": [0, 1, 0, 1, 1, 1, 0, 0], \"size\": [1.4, 0.0, 1.2, 1.2, 5.6, 0.8, 3.4, 2.0], \"sizemode\": \"area\", \"sizeref\": 0.0006458333333333333}, \"mode\": \"markers\", \"text\": [\"0\", \"1\", \"0\", \"1\", \"1\", \"1\", \"0\", \"0\"], \"x\": [135, 130, 132, 132, 140, 160, 180, 128], \"y\": [250, 262, 342, 353, 217, 289, 327, 205], \"type\": \"scatter\"}], \"name\": \"55\"}, {\"data\": [{\"marker\": {\"color\": [0, 0, 0, 1, 1, 1, 1, 1, 1, 0, 1], \"size\": [0.0, 0.0, 0.9, 2.4, 1.4, 1.4, 2.8, 3.0, 2.8, 2.6, 1.2], \"sizemode\": \"area\", \"sizeref\": 0.0006458333333333333}, \"mode\": \"markers\", \"text\": [\"0\", \"0\", \"0\", \"1\", \"1\", \"1\", \"1\", \"1\", \"1\", \"0\", \"1\"], \"x\": [102, 120, 150, 130, 117, 130, 145, 140, 125, 150, 140], \"y\": [318, 178, 240, 206, 230, 253, 282, 185, 258, 258, 293], \"type\": \"scatter\"}], \"name\": \"60\"}, {\"data\": [{\"marker\": {\"color\": [0, 0, 0, 1, 1, 1, 1, 1, 1], \"size\": [1.6, 0.0, 0.3, 1.5, 2.6, 0.2, 0.9, 1.0, 0.8], \"sizemode\": \"area\", \"sizeref\": 0.0006458333333333333}, \"mode\": \"markers\", \"text\": [\"0\", \"0\", \"0\", \"1\", \"1\", \"1\", \"1\", \"1\", \"1\"], \"x\": [115, 152, 106, 160, 120, 125, 100, 120, 152], \"y\": [564, 277, 223, 286, 229, 254, 299, 237, 212], \"type\": \"scatter\"}], \"name\": \"67\"}, {\"data\": [{\"marker\": {\"color\": [1, 0, 1, 1], \"size\": [1.0, 1.5, 1.6, 3.4], \"sizemode\": \"area\", \"sizeref\": 0.0006458333333333333}, \"mode\": \"markers\", \"text\": [\"1\", \"0\", \"1\", \"1\"], \"x\": [118, 120, 180, 144], \"y\": [277, 211, 274, 193], \"type\": \"scatter\"}], \"name\": \"68\"}, {\"data\": [{\"marker\": {\"color\": [0], \"size\": [0.2], \"sizemode\": \"area\", \"sizeref\": 0.0006458333333333333}, \"mode\": \"markers\", \"text\": [\"0\"], \"x\": [120], \"y\": [269], \"type\": \"scatter\"}], \"name\": \"74\"}, {\"data\": [{\"marker\": {\"color\": [0], \"size\": [1.1], \"sizemode\": \"area\", \"sizeref\": 0.0006458333333333333}, \"mode\": \"markers\", \"text\": [\"0\"], \"x\": [140], \"y\": [197], \"type\": \"scatter\"}], \"name\": \"76\"}, {\"data\": [{\"marker\": {\"color\": [1, 1, 1, 1], \"size\": [0.0, 2.6, 2.4, 2.9], \"sizemode\": \"area\", \"sizeref\": 0.0006458333333333333}, \"mode\": \"markers\", \"text\": [\"1\", \"1\", \"1\", \"1\"], \"x\": [156, 145, 130, 160], \"y\": [245, 174, 322, 269], \"type\": \"scatter\"}], \"name\": \"70\"}, {\"data\": [{\"marker\": {\"color\": [1, 1, 1], \"size\": [0.0, 0.0, 3.8], \"sizemode\": \"area\", \"sizeref\": 0.0006458333333333333}, \"mode\": \"markers\", \"text\": [\"1\", \"1\", \"1\"], \"x\": [138, 138, 120], \"y\": [175, 175, 231], \"type\": \"scatter\"}], \"name\": \"38\"}, {\"data\": [{\"marker\": {\"color\": [1], \"size\": [0.0], \"sizemode\": \"area\", \"sizeref\": 0.0006458333333333333}, \"mode\": \"markers\", \"text\": [\"1\"], \"x\": [125], \"y\": [304], \"type\": \"scatter\"}], \"name\": \"77\"}]);\n",
       "                        }).then(function(){\n",
       "                            Plotly.animate('775696a7-cbb5-4637-8c3d-e5875c93836c', null);\n",
       "                        }).then(function(){\n",
       "                            \n",
       "var gd = document.getElementById('775696a7-cbb5-4637-8c3d-e5875c93836c');\n",
       "var x = new MutationObserver(function (mutations, observer) {{\n",
       "        var display = window.getComputedStyle(gd).display;\n",
       "        if (!display || display === 'none') {{\n",
       "            console.log([gd, 'removed!']);\n",
       "            Plotly.purge(gd);\n",
       "            observer.disconnect();\n",
       "        }}\n",
       "}});\n",
       "\n",
       "// Listen for the removal of the full notebook cells\n",
       "var notebookContainer = gd.closest('#notebook-container');\n",
       "if (notebookContainer) {{\n",
       "    x.observe(notebookContainer, {childList: true});\n",
       "}}\n",
       "\n",
       "// Listen for the clearing of the current output cell\n",
       "var outputEl = gd.closest('.output');\n",
       "if (outputEl) {{\n",
       "    x.observe(outputEl, {childList: true});\n",
       "}}\n",
       "\n",
       "                        })                };                });            </script>        </div>"
      ]
     },
     "metadata": {},
     "output_type": "display_data"
    }
   ],
   "source": [
    "import warnings\n",
    "warnings.filterwarnings('ignore')\n",
    "\n",
    "figure = bubbleplot(dataset = data, x_column = 'trestbps', y_column = 'chol', \n",
    "    bubble_column = 'sex', time_column = 'age', size_column = 'oldpeak', color_column = 'sex', \n",
    "    x_title = \"Spoczynkowe ciśnienie krwi\", y_title = \"Cholesterol\", title = 'BP vs Cholesterol vs Wiek vs Płeć vs Tętno',\n",
    "    x_logscale = False, scale_bubble = 3, height = 650)\n",
    "\n",
    "py.iplot(figure, config={'scrollzoom': True})"
   ]
  },
  {
   "cell_type": "markdown",
   "metadata": {},
   "source": [
    "Powyższy wykres bąbelkowy przedstawia związek między płcią i obniżeniem odcinka ST a wskaźnikami cholesterolu i spoczynkowego ciśnienia krwi według wieku. "
   ]
  },
  {
   "cell_type": "markdown",
   "metadata": {},
   "source": [
    "## Podsumowanie"
   ]
  },
  {
   "cell_type": "markdown",
   "metadata": {},
   "source": [
    "Powyższa analiza miała na celu określić, które czynniki mają największy wpływ na wystąpienie chorób serca.\n",
    "Przeprowadzone badania wykazały, że cholesterol jest jednym z najważniejszych kryteriów wpływających na indentyfikację chorób serca u pacjentów. Kolejnym rozważanym kryterium, które wpływa na wystąpienie chorób serca jest współczynnik określający wartość głównych naczyń, im więcej naczyń, tym większa szansa na wystąpienie choroby serca.\n",
    "Najmniej wiarygodnymi kryteriami identyfikującymi występowanie choroby serca są wiek oraz płeć. Jedynym pewnym wnioskiem dotyczącym wieku jest to, że pacjenci mający 20-30 lat są zdecydowanie najmniej narażeni na chorobę serca. Natomiast analizując płeć pacjentów możemy wysnuć wniosek, że większa zachorowalność jest wśród mężczyzn natomiast może być to spowodowane tym, że w analizowanym zbiorze 68% pacjentów to mężczyźni.\n",
    "W powyższej analizie weryfikowaliśmy również prawdopodobieństwo wystąpienia talasemi (zaburzenia krwi) u osób chorych i zdrowych. Pacjenci mający choroby serca posiadają mniejsze szanse na wystąpienie również talesemii w porównaniu z pacjentami, u których prawdopodobieństwo wystąpienia chorób serca jest mniejsze."
   ]
  },
  {
   "cell_type": "markdown",
   "metadata": {},
   "source": [
    "Wykonała: Magda Dytkowicz"
   ]
  }
 ],
 "metadata": {
  "kernelspec": {
   "display_name": "Python 3",
   "language": "python",
   "name": "python3"
  },
  "language_info": {
   "codemirror_mode": {
    "name": "ipython",
    "version": 3
   },
   "file_extension": ".py",
   "mimetype": "text/x-python",
   "name": "python",
   "nbconvert_exporter": "python",
   "pygments_lexer": "ipython3",
   "version": "3.8.5"
  }
 },
 "nbformat": 4,
 "nbformat_minor": 4
}
